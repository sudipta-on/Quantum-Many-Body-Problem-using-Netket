{
  "nbformat": 4,
  "nbformat_minor": 0,
  "metadata": {
    "colab": {
      "provenance": [],
      "gpuType": "T4",
      "authorship_tag": "ABX9TyN4BhWmxjNd+OKM69RBN9y2",
      "include_colab_link": true
    },
    "kernelspec": {
      "name": "python3",
      "display_name": "Python 3"
    },
    "language_info": {
      "name": "python"
    },
    "accelerator": "GPU",
    "widgets": {
      "application/vnd.jupyter.widget-state+json": {
        "41dab6710095484387f89794dae7e57a": {
          "model_module": "@jupyter-widgets/controls",
          "model_name": "HBoxModel",
          "model_module_version": "1.5.0",
          "state": {
            "_dom_classes": [],
            "_model_module": "@jupyter-widgets/controls",
            "_model_module_version": "1.5.0",
            "_model_name": "HBoxModel",
            "_view_count": null,
            "_view_module": "@jupyter-widgets/controls",
            "_view_module_version": "1.5.0",
            "_view_name": "HBoxView",
            "box_style": "",
            "children": [
              "IPY_MODEL_c0198adfe7b64bc6b515292a6cfea71a",
              "IPY_MODEL_fd97e4c32eff4bf9af78bd522c491c02",
              "IPY_MODEL_868dbcf505dc4cdbaa9c4f08fa828573"
            ],
            "layout": "IPY_MODEL_fe464ecc9e2c4fadbdfb0cc6b3e49c51"
          }
        },
        "c0198adfe7b64bc6b515292a6cfea71a": {
          "model_module": "@jupyter-widgets/controls",
          "model_name": "HTMLModel",
          "model_module_version": "1.5.0",
          "state": {
            "_dom_classes": [],
            "_model_module": "@jupyter-widgets/controls",
            "_model_module_version": "1.5.0",
            "_model_name": "HTMLModel",
            "_view_count": null,
            "_view_module": "@jupyter-widgets/controls",
            "_view_module_version": "1.5.0",
            "_view_name": "HTMLView",
            "description": "",
            "description_tooltip": null,
            "layout": "IPY_MODEL_ed359dee5a4f4f938b8dcb3363402217",
            "placeholder": "​",
            "style": "IPY_MODEL_d126641843864d90abe77b327bd248e9",
            "value": "100%"
          }
        },
        "fd97e4c32eff4bf9af78bd522c491c02": {
          "model_module": "@jupyter-widgets/controls",
          "model_name": "FloatProgressModel",
          "model_module_version": "1.5.0",
          "state": {
            "_dom_classes": [],
            "_model_module": "@jupyter-widgets/controls",
            "_model_module_version": "1.5.0",
            "_model_name": "FloatProgressModel",
            "_view_count": null,
            "_view_module": "@jupyter-widgets/controls",
            "_view_module_version": "1.5.0",
            "_view_name": "ProgressView",
            "bar_style": "success",
            "description": "",
            "description_tooltip": null,
            "layout": "IPY_MODEL_623b64e4c3a44e7ba225ac961dc7ad1a",
            "max": 200,
            "min": 0,
            "orientation": "horizontal",
            "style": "IPY_MODEL_dbfecc4a61584160aac8198ea6f79ade",
            "value": 200
          }
        },
        "868dbcf505dc4cdbaa9c4f08fa828573": {
          "model_module": "@jupyter-widgets/controls",
          "model_name": "HTMLModel",
          "model_module_version": "1.5.0",
          "state": {
            "_dom_classes": [],
            "_model_module": "@jupyter-widgets/controls",
            "_model_module_version": "1.5.0",
            "_model_name": "HTMLModel",
            "_view_count": null,
            "_view_module": "@jupyter-widgets/controls",
            "_view_module_version": "1.5.0",
            "_view_name": "HTMLView",
            "description": "",
            "description_tooltip": null,
            "layout": "IPY_MODEL_33498a24686443eeba543ad69110aaf4",
            "placeholder": "​",
            "style": "IPY_MODEL_b45b381b11ec4978a6ad9b54f0d50fb2",
            "value": " 200/200 [02:22&lt;00:00,  1.62it/s, Energy=14.99999997 ± 0.00000019 [σ²=0.00000000, R̂=1.0067]]"
          }
        },
        "fe464ecc9e2c4fadbdfb0cc6b3e49c51": {
          "model_module": "@jupyter-widgets/base",
          "model_name": "LayoutModel",
          "model_module_version": "1.2.0",
          "state": {
            "_model_module": "@jupyter-widgets/base",
            "_model_module_version": "1.2.0",
            "_model_name": "LayoutModel",
            "_view_count": null,
            "_view_module": "@jupyter-widgets/base",
            "_view_module_version": "1.2.0",
            "_view_name": "LayoutView",
            "align_content": null,
            "align_items": null,
            "align_self": null,
            "border": null,
            "bottom": null,
            "display": "inline-flex",
            "flex": null,
            "flex_flow": "row wrap",
            "grid_area": null,
            "grid_auto_columns": null,
            "grid_auto_flow": null,
            "grid_auto_rows": null,
            "grid_column": null,
            "grid_gap": null,
            "grid_row": null,
            "grid_template_areas": null,
            "grid_template_columns": null,
            "grid_template_rows": null,
            "height": null,
            "justify_content": null,
            "justify_items": null,
            "left": null,
            "margin": null,
            "max_height": null,
            "max_width": null,
            "min_height": null,
            "min_width": null,
            "object_fit": null,
            "object_position": null,
            "order": null,
            "overflow": null,
            "overflow_x": null,
            "overflow_y": null,
            "padding": null,
            "right": null,
            "top": null,
            "visibility": null,
            "width": "100%"
          }
        },
        "ed359dee5a4f4f938b8dcb3363402217": {
          "model_module": "@jupyter-widgets/base",
          "model_name": "LayoutModel",
          "model_module_version": "1.2.0",
          "state": {
            "_model_module": "@jupyter-widgets/base",
            "_model_module_version": "1.2.0",
            "_model_name": "LayoutModel",
            "_view_count": null,
            "_view_module": "@jupyter-widgets/base",
            "_view_module_version": "1.2.0",
            "_view_name": "LayoutView",
            "align_content": null,
            "align_items": null,
            "align_self": null,
            "border": null,
            "bottom": null,
            "display": null,
            "flex": null,
            "flex_flow": null,
            "grid_area": null,
            "grid_auto_columns": null,
            "grid_auto_flow": null,
            "grid_auto_rows": null,
            "grid_column": null,
            "grid_gap": null,
            "grid_row": null,
            "grid_template_areas": null,
            "grid_template_columns": null,
            "grid_template_rows": null,
            "height": null,
            "justify_content": null,
            "justify_items": null,
            "left": null,
            "margin": null,
            "max_height": null,
            "max_width": null,
            "min_height": null,
            "min_width": null,
            "object_fit": null,
            "object_position": null,
            "order": null,
            "overflow": null,
            "overflow_x": null,
            "overflow_y": null,
            "padding": null,
            "right": null,
            "top": null,
            "visibility": null,
            "width": null
          }
        },
        "d126641843864d90abe77b327bd248e9": {
          "model_module": "@jupyter-widgets/controls",
          "model_name": "DescriptionStyleModel",
          "model_module_version": "1.5.0",
          "state": {
            "_model_module": "@jupyter-widgets/controls",
            "_model_module_version": "1.5.0",
            "_model_name": "DescriptionStyleModel",
            "_view_count": null,
            "_view_module": "@jupyter-widgets/base",
            "_view_module_version": "1.2.0",
            "_view_name": "StyleView",
            "description_width": ""
          }
        },
        "623b64e4c3a44e7ba225ac961dc7ad1a": {
          "model_module": "@jupyter-widgets/base",
          "model_name": "LayoutModel",
          "model_module_version": "1.2.0",
          "state": {
            "_model_module": "@jupyter-widgets/base",
            "_model_module_version": "1.2.0",
            "_model_name": "LayoutModel",
            "_view_count": null,
            "_view_module": "@jupyter-widgets/base",
            "_view_module_version": "1.2.0",
            "_view_name": "LayoutView",
            "align_content": null,
            "align_items": null,
            "align_self": null,
            "border": null,
            "bottom": null,
            "display": null,
            "flex": "2",
            "flex_flow": null,
            "grid_area": null,
            "grid_auto_columns": null,
            "grid_auto_flow": null,
            "grid_auto_rows": null,
            "grid_column": null,
            "grid_gap": null,
            "grid_row": null,
            "grid_template_areas": null,
            "grid_template_columns": null,
            "grid_template_rows": null,
            "height": null,
            "justify_content": null,
            "justify_items": null,
            "left": null,
            "margin": null,
            "max_height": null,
            "max_width": null,
            "min_height": null,
            "min_width": null,
            "object_fit": null,
            "object_position": null,
            "order": null,
            "overflow": null,
            "overflow_x": null,
            "overflow_y": null,
            "padding": null,
            "right": null,
            "top": null,
            "visibility": null,
            "width": null
          }
        },
        "dbfecc4a61584160aac8198ea6f79ade": {
          "model_module": "@jupyter-widgets/controls",
          "model_name": "ProgressStyleModel",
          "model_module_version": "1.5.0",
          "state": {
            "_model_module": "@jupyter-widgets/controls",
            "_model_module_version": "1.5.0",
            "_model_name": "ProgressStyleModel",
            "_view_count": null,
            "_view_module": "@jupyter-widgets/base",
            "_view_module_version": "1.2.0",
            "_view_name": "StyleView",
            "bar_color": null,
            "description_width": ""
          }
        },
        "33498a24686443eeba543ad69110aaf4": {
          "model_module": "@jupyter-widgets/base",
          "model_name": "LayoutModel",
          "model_module_version": "1.2.0",
          "state": {
            "_model_module": "@jupyter-widgets/base",
            "_model_module_version": "1.2.0",
            "_model_name": "LayoutModel",
            "_view_count": null,
            "_view_module": "@jupyter-widgets/base",
            "_view_module_version": "1.2.0",
            "_view_name": "LayoutView",
            "align_content": null,
            "align_items": null,
            "align_self": null,
            "border": null,
            "bottom": null,
            "display": null,
            "flex": null,
            "flex_flow": null,
            "grid_area": null,
            "grid_auto_columns": null,
            "grid_auto_flow": null,
            "grid_auto_rows": null,
            "grid_column": null,
            "grid_gap": null,
            "grid_row": null,
            "grid_template_areas": null,
            "grid_template_columns": null,
            "grid_template_rows": null,
            "height": null,
            "justify_content": null,
            "justify_items": null,
            "left": null,
            "margin": null,
            "max_height": null,
            "max_width": null,
            "min_height": null,
            "min_width": null,
            "object_fit": null,
            "object_position": null,
            "order": null,
            "overflow": null,
            "overflow_x": null,
            "overflow_y": null,
            "padding": null,
            "right": null,
            "top": null,
            "visibility": null,
            "width": null
          }
        },
        "b45b381b11ec4978a6ad9b54f0d50fb2": {
          "model_module": "@jupyter-widgets/controls",
          "model_name": "DescriptionStyleModel",
          "model_module_version": "1.5.0",
          "state": {
            "_model_module": "@jupyter-widgets/controls",
            "_model_module_version": "1.5.0",
            "_model_name": "DescriptionStyleModel",
            "_view_count": null,
            "_view_module": "@jupyter-widgets/base",
            "_view_module_version": "1.2.0",
            "_view_name": "StyleView",
            "description_width": ""
          }
        },
        "423eec62adba448bb7a6fb7f12a39651": {
          "model_module": "@jupyter-widgets/controls",
          "model_name": "HBoxModel",
          "model_module_version": "1.5.0",
          "state": {
            "_dom_classes": [],
            "_model_module": "@jupyter-widgets/controls",
            "_model_module_version": "1.5.0",
            "_model_name": "HBoxModel",
            "_view_count": null,
            "_view_module": "@jupyter-widgets/controls",
            "_view_module_version": "1.5.0",
            "_view_name": "HBoxView",
            "box_style": "",
            "children": [
              "IPY_MODEL_0e64d6fd162f4d45abe6ecf9233dafe8",
              "IPY_MODEL_d8896ee4c4be4334ae45852b9d886455",
              "IPY_MODEL_948857c968ca4f0fa3ce53552230d315"
            ],
            "layout": "IPY_MODEL_260aa82bcc4a4f8790e167563099dbbd"
          }
        },
        "0e64d6fd162f4d45abe6ecf9233dafe8": {
          "model_module": "@jupyter-widgets/controls",
          "model_name": "HTMLModel",
          "model_module_version": "1.5.0",
          "state": {
            "_dom_classes": [],
            "_model_module": "@jupyter-widgets/controls",
            "_model_module_version": "1.5.0",
            "_model_name": "HTMLModel",
            "_view_count": null,
            "_view_module": "@jupyter-widgets/controls",
            "_view_module_version": "1.5.0",
            "_view_name": "HTMLView",
            "description": "",
            "description_tooltip": null,
            "layout": "IPY_MODEL_ade646a1d7fd493480428cca92982627",
            "placeholder": "​",
            "style": "IPY_MODEL_cc54e4df4ac24b679229bd4b88ed2375",
            "value": "100%"
          }
        },
        "d8896ee4c4be4334ae45852b9d886455": {
          "model_module": "@jupyter-widgets/controls",
          "model_name": "FloatProgressModel",
          "model_module_version": "1.5.0",
          "state": {
            "_dom_classes": [],
            "_model_module": "@jupyter-widgets/controls",
            "_model_module_version": "1.5.0",
            "_model_name": "FloatProgressModel",
            "_view_count": null,
            "_view_module": "@jupyter-widgets/controls",
            "_view_module_version": "1.5.0",
            "_view_name": "ProgressView",
            "bar_style": "success",
            "description": "",
            "description_tooltip": null,
            "layout": "IPY_MODEL_d9a3d7e24d54497db17a83c9f50e10b2",
            "max": 200,
            "min": 0,
            "orientation": "horizontal",
            "style": "IPY_MODEL_b74514431d364a73874959aaa0460437",
            "value": 200
          }
        },
        "948857c968ca4f0fa3ce53552230d315": {
          "model_module": "@jupyter-widgets/controls",
          "model_name": "HTMLModel",
          "model_module_version": "1.5.0",
          "state": {
            "_dom_classes": [],
            "_model_module": "@jupyter-widgets/controls",
            "_model_module_version": "1.5.0",
            "_model_name": "HTMLModel",
            "_view_count": null,
            "_view_module": "@jupyter-widgets/controls",
            "_view_module_version": "1.5.0",
            "_view_name": "HTMLView",
            "description": "",
            "description_tooltip": null,
            "layout": "IPY_MODEL_da72c18d53064219b4a3872af46ccfbf",
            "placeholder": "​",
            "style": "IPY_MODEL_6d19f03b07c145eebfb40663fc913040",
            "value": " 200/200 [40:14&lt;00:00, 11.12s/it, Energy=24.7613 ± 0.0083 [σ²=0.0691, R̂=1.0102]]"
          }
        },
        "260aa82bcc4a4f8790e167563099dbbd": {
          "model_module": "@jupyter-widgets/base",
          "model_name": "LayoutModel",
          "model_module_version": "1.2.0",
          "state": {
            "_model_module": "@jupyter-widgets/base",
            "_model_module_version": "1.2.0",
            "_model_name": "LayoutModel",
            "_view_count": null,
            "_view_module": "@jupyter-widgets/base",
            "_view_module_version": "1.2.0",
            "_view_name": "LayoutView",
            "align_content": null,
            "align_items": null,
            "align_self": null,
            "border": null,
            "bottom": null,
            "display": "inline-flex",
            "flex": null,
            "flex_flow": "row wrap",
            "grid_area": null,
            "grid_auto_columns": null,
            "grid_auto_flow": null,
            "grid_auto_rows": null,
            "grid_column": null,
            "grid_gap": null,
            "grid_row": null,
            "grid_template_areas": null,
            "grid_template_columns": null,
            "grid_template_rows": null,
            "height": null,
            "justify_content": null,
            "justify_items": null,
            "left": null,
            "margin": null,
            "max_height": null,
            "max_width": null,
            "min_height": null,
            "min_width": null,
            "object_fit": null,
            "object_position": null,
            "order": null,
            "overflow": null,
            "overflow_x": null,
            "overflow_y": null,
            "padding": null,
            "right": null,
            "top": null,
            "visibility": null,
            "width": "100%"
          }
        },
        "ade646a1d7fd493480428cca92982627": {
          "model_module": "@jupyter-widgets/base",
          "model_name": "LayoutModel",
          "model_module_version": "1.2.0",
          "state": {
            "_model_module": "@jupyter-widgets/base",
            "_model_module_version": "1.2.0",
            "_model_name": "LayoutModel",
            "_view_count": null,
            "_view_module": "@jupyter-widgets/base",
            "_view_module_version": "1.2.0",
            "_view_name": "LayoutView",
            "align_content": null,
            "align_items": null,
            "align_self": null,
            "border": null,
            "bottom": null,
            "display": null,
            "flex": null,
            "flex_flow": null,
            "grid_area": null,
            "grid_auto_columns": null,
            "grid_auto_flow": null,
            "grid_auto_rows": null,
            "grid_column": null,
            "grid_gap": null,
            "grid_row": null,
            "grid_template_areas": null,
            "grid_template_columns": null,
            "grid_template_rows": null,
            "height": null,
            "justify_content": null,
            "justify_items": null,
            "left": null,
            "margin": null,
            "max_height": null,
            "max_width": null,
            "min_height": null,
            "min_width": null,
            "object_fit": null,
            "object_position": null,
            "order": null,
            "overflow": null,
            "overflow_x": null,
            "overflow_y": null,
            "padding": null,
            "right": null,
            "top": null,
            "visibility": null,
            "width": null
          }
        },
        "cc54e4df4ac24b679229bd4b88ed2375": {
          "model_module": "@jupyter-widgets/controls",
          "model_name": "DescriptionStyleModel",
          "model_module_version": "1.5.0",
          "state": {
            "_model_module": "@jupyter-widgets/controls",
            "_model_module_version": "1.5.0",
            "_model_name": "DescriptionStyleModel",
            "_view_count": null,
            "_view_module": "@jupyter-widgets/base",
            "_view_module_version": "1.2.0",
            "_view_name": "StyleView",
            "description_width": ""
          }
        },
        "d9a3d7e24d54497db17a83c9f50e10b2": {
          "model_module": "@jupyter-widgets/base",
          "model_name": "LayoutModel",
          "model_module_version": "1.2.0",
          "state": {
            "_model_module": "@jupyter-widgets/base",
            "_model_module_version": "1.2.0",
            "_model_name": "LayoutModel",
            "_view_count": null,
            "_view_module": "@jupyter-widgets/base",
            "_view_module_version": "1.2.0",
            "_view_name": "LayoutView",
            "align_content": null,
            "align_items": null,
            "align_self": null,
            "border": null,
            "bottom": null,
            "display": null,
            "flex": "2",
            "flex_flow": null,
            "grid_area": null,
            "grid_auto_columns": null,
            "grid_auto_flow": null,
            "grid_auto_rows": null,
            "grid_column": null,
            "grid_gap": null,
            "grid_row": null,
            "grid_template_areas": null,
            "grid_template_columns": null,
            "grid_template_rows": null,
            "height": null,
            "justify_content": null,
            "justify_items": null,
            "left": null,
            "margin": null,
            "max_height": null,
            "max_width": null,
            "min_height": null,
            "min_width": null,
            "object_fit": null,
            "object_position": null,
            "order": null,
            "overflow": null,
            "overflow_x": null,
            "overflow_y": null,
            "padding": null,
            "right": null,
            "top": null,
            "visibility": null,
            "width": null
          }
        },
        "b74514431d364a73874959aaa0460437": {
          "model_module": "@jupyter-widgets/controls",
          "model_name": "ProgressStyleModel",
          "model_module_version": "1.5.0",
          "state": {
            "_model_module": "@jupyter-widgets/controls",
            "_model_module_version": "1.5.0",
            "_model_name": "ProgressStyleModel",
            "_view_count": null,
            "_view_module": "@jupyter-widgets/base",
            "_view_module_version": "1.2.0",
            "_view_name": "StyleView",
            "bar_color": null,
            "description_width": ""
          }
        },
        "da72c18d53064219b4a3872af46ccfbf": {
          "model_module": "@jupyter-widgets/base",
          "model_name": "LayoutModel",
          "model_module_version": "1.2.0",
          "state": {
            "_model_module": "@jupyter-widgets/base",
            "_model_module_version": "1.2.0",
            "_model_name": "LayoutModel",
            "_view_count": null,
            "_view_module": "@jupyter-widgets/base",
            "_view_module_version": "1.2.0",
            "_view_name": "LayoutView",
            "align_content": null,
            "align_items": null,
            "align_self": null,
            "border": null,
            "bottom": null,
            "display": null,
            "flex": null,
            "flex_flow": null,
            "grid_area": null,
            "grid_auto_columns": null,
            "grid_auto_flow": null,
            "grid_auto_rows": null,
            "grid_column": null,
            "grid_gap": null,
            "grid_row": null,
            "grid_template_areas": null,
            "grid_template_columns": null,
            "grid_template_rows": null,
            "height": null,
            "justify_content": null,
            "justify_items": null,
            "left": null,
            "margin": null,
            "max_height": null,
            "max_width": null,
            "min_height": null,
            "min_width": null,
            "object_fit": null,
            "object_position": null,
            "order": null,
            "overflow": null,
            "overflow_x": null,
            "overflow_y": null,
            "padding": null,
            "right": null,
            "top": null,
            "visibility": null,
            "width": null
          }
        },
        "6d19f03b07c145eebfb40663fc913040": {
          "model_module": "@jupyter-widgets/controls",
          "model_name": "DescriptionStyleModel",
          "model_module_version": "1.5.0",
          "state": {
            "_model_module": "@jupyter-widgets/controls",
            "_model_module_version": "1.5.0",
            "_model_name": "DescriptionStyleModel",
            "_view_count": null,
            "_view_module": "@jupyter-widgets/base",
            "_view_module_version": "1.2.0",
            "_view_name": "StyleView",
            "description_width": ""
          }
        }
      }
    }
  },
  "cells": [
    {
      "cell_type": "markdown",
      "metadata": {
        "id": "view-in-github",
        "colab_type": "text"
      },
      "source": [
        "<a href=\"https://colab.research.google.com/github/sudipta-on/Quantum-Many-Body-Problem-using-Netket/blob/main/Bosonic_Harmonic_Trap_3D.ipynb\" target=\"_parent\"><img src=\"https://colab.research.google.com/assets/colab-badge.svg\" alt=\"Open In Colab\"/></a>"
      ]
    },
    {
      "cell_type": "markdown",
      "source": [
        "# $$\\textbf{Ground-State: Bosons in a 3D Harmonic trap}$$\n",
        "\n",
        "$\\qquad \\qquad \\qquad\\qquad\\qquad\\qquad\\qquad\\qquad\\qquad\\qquad\\qquad\\qquad\\qquad\\qquad\\qquad \\text{ - Sudipta Majumder}$\n",
        "\n",
        "$2 $ $\\text{July},2024$"
      ],
      "metadata": {
        "id": "BYIL7yESNZmt"
      }
    },
    {
      "cell_type": "markdown",
      "source": [
        "## Problem Overview\n",
        "We will explore the capabilities of NetKet to study the ground-state of bosonic many-body quantum systems in continuous space. As a first step we will consider an easy problem of non-interacting harmonic oscillators in free, three dimensional space, to introduce and explain the moving parts needed to perform a VMC optimization. Subsequently a more challenging example of interacting bosons in one dimensions with periodic boundary conditions will be studied.\n",
        "\n",
        "Specifically, we will study the following two Hamiltonians:\n",
        "\n",
        "$$\n",
        "\\mathcal{H}= -\\frac{\\hbar^2}{2m}\\sum_i \\nabla_{\\mathbf{x}_i}^2 + \\frac{1}{2} m \\omega^2 \\sum_i |\\mathbf{x}_i|^2\n",
        "$$\n",
        "\n",
        "and\n",
        "\n",
        "$$\n",
        "\\mathcal{H}= -\\frac{\\hbar^2}{2m}\\sum_i \\nabla_{\\mathbf{x}_i}^2 + \\epsilon \\sum_{i<j} \\exp\\left[-\\frac{1}{2}|\\mathbf{r}_{ij}|^2\\right]\n",
        "$$\n",
        "\n",
        ",where the first term represents the kinetic energy contribution of particles of mass $m$, and the second term is the potential (interaction) energy ( $ \\mathbf{r}_{ij} = \\mathbf{x}_i-\\mathbf{x}_j $ ). In the following we set $m = \\omega = \\hbar = \\frac{\\epsilon}{2} =1$."
      ],
      "metadata": {
        "id": "8SGVR0yWN2QH"
      }
    },
    {
      "cell_type": "code",
      "source": [
        "!pip install netket --quiet"
      ],
      "metadata": {
        "id": "FgGIPj42PGkj"
      },
      "execution_count": null,
      "outputs": []
    },
    {
      "cell_type": "code",
      "source": [
        "#Checking verions\n",
        "import platform\n",
        "import netket as nk\n",
        "\n",
        "print(\"Python version\", platform.python_version())\n",
        "print(\"NetKet version\", nk.__version__)"
      ],
      "metadata": {
        "colab": {
          "base_uri": "https://localhost:8080/"
        },
        "id": "YTMJmLukPVY1",
        "outputId": "8a1b1cef-31ad-488a-f8d1-86f60fc549c3"
      },
      "execution_count": null,
      "outputs": [
        {
          "output_type": "stream",
          "name": "stdout",
          "text": [
            "Python version 3.10.12\n",
            "NetKet version 3.13.0\n"
          ]
        }
      ]
    },
    {
      "cell_type": "markdown",
      "source": [
        "## 1. Defining The Hilbert Space and Sampler\n",
        "\n",
        "The first ingredient in defining our problem in NetKet, consists of defining the Hilbert Space to study.\n",
        "For continuous space systems, the Hilbert space takes information about the number of particles, the size of the system and the type of boundary conditions: open or periodic. The dimensionality of space is inferred from the size of the system.\n",
        "The species of particles (bosonic or fermionic) is not relevant for the Hilbert space but only in defining the variational Ansatz (symmetric or antisymmetric).\n",
        "In the following the Hilbert space for $N=10$ particles in open (infinite) space is defined."
      ],
      "metadata": {
        "id": "hIeOhwdoPqfl"
      }
    },
    {
      "cell_type": "code",
      "source": [
        "import jax.numpy as jnp\n",
        "N = 10\n",
        "\n",
        "# 10 particles in 3D space without periodic boundary conditions.\n",
        "# The length of the L-tuple indicates the spatial dimension of space.\n",
        "hi = nk.hilbert.Particle(N=N, L=(jnp.inf, jnp.inf, jnp.inf), pbc=False)\n",
        "\n",
        "# One can also use the shorter notation to build this kind of setups\n",
        "hi = nk.hilbert.Particle(N=N, D=3)"
      ],
      "metadata": {
        "id": "3rpUMZ_eP2p6"
      },
      "execution_count": null,
      "outputs": []
    },
    {
      "cell_type": "markdown",
      "source": [
        "We can now generate random configurations in the Hilbert space, we just defined. For the above specifications the random state will consists of a vector of $N*d = 10*3$ numbers ($d$ number of spatial dimensions), representing the 10 3D positions of the particles under consideration."
      ],
      "metadata": {
        "id": "x4prmgFhP--u"
      }
    },
    {
      "cell_type": "code",
      "source": [
        "import jax\n",
        "states = hi.random_state(jax.random.key(0), 1)  # 1 configuration\n",
        "\n",
        "# One can always reshape those configurations to NxD matrix\n",
        "states.reshape(N, 3)"
      ],
      "metadata": {
        "colab": {
          "base_uri": "https://localhost:8080/"
        },
        "id": "0MBV1AG5Tn5Q",
        "outputId": "d5bbb235-edf1-4912-8d15-5dffeab9bbe3"
      },
      "execution_count": null,
      "outputs": [
        {
          "output_type": "execute_result",
          "data": {
            "text/plain": [
              "Array([[-0.28371066,  0.9368162 , -1.0050073 ],\n",
              "       [ 1.4165013 ,  1.0543301 ,  0.9108127 ],\n",
              "       [-0.42656708,  0.986188  , -0.5575324 ],\n",
              "       [ 0.01532502, -2.078568  ,  0.5548371 ],\n",
              "       [ 0.91423655,  0.5744596 ,  0.7227863 ],\n",
              "       [ 0.12106175, -0.3237354 ,  1.6234998 ],\n",
              "       [ 0.24500391, -1.3809781 , -0.6111237 ],\n",
              "       [ 0.1403725 ,  0.84100425, -1.0943578 ],\n",
              "       [-1.077502  , -1.1396457 , -0.593338  ],\n",
              "       [-0.15576515, -0.38321444, -1.1144515 ]], dtype=float32)"
            ]
          },
          "metadata": {},
          "execution_count": 4
        }
      ]
    },
    {
      "cell_type": "markdown",
      "source": [
        "Now we want to be able to sample from a probability distribution, defined in the Hilbert space. To do this, NetKet provides the so-called Metropolis-Hasting sampler. This sampler uses an initial state in the Hilbert space (e.g. a random state) and produces a new state according to a transtition rule. The new state is accepted (e.g. becomes the initial state for another update according to the transition rule) if its probability is high enough (the probability of the state is determined by the variational Ansatz, see later). While you can write your own transition rule, NetKet already implements a common transition rule, that often is sufficient to run a VMC optimization.\n",
        "The transition rule is given by adding normally distributed noise to the initial state:\n",
        "\n",
        "$$\n",
        "\\mathbf{X} = (\\mathbf{x}_1,...,\\mathbf{x}_N) \\mapsto \\mathbf{X} + \\mathbf{\\Delta} = (\\mathbf{x}_1 + \\mathbf{\\delta}_1,...,\\mathbf{x}_N +\\mathbf{\\delta}_N),\n",
        "$$\n",
        "\n",
        "where $ \\mathbf{\\delta}_i \\sim \\mathcal{N}(0,\\sigma^2) $ and $ \\sigma $ is chosen by the user, dependent on the system under consideration.\n",
        "To decorrelate samples, the sampler provides functionality to insert more substeps of the above rule (e.g. add Gaussian noise multiple times). You can also specify how many parallel chains of the above rule you want to run. In the following, we initialize the sampler, with $ \\sigma=0.1 $, 16 parallel chains, with 32 substeps of the transition rule."
      ],
      "metadata": {
        "id": "asBi86foTrU_"
      }
    },
    {
      "cell_type": "code",
      "source": [
        "sa = nk.sampler.MetropolisGaussian(hi, sigma=0.1, n_chains=16, sweep_size=32) # Metropolis-Hasting Sampler"
      ],
      "metadata": {
        "id": "cBKnEb9EV8pb"
      },
      "execution_count": null,
      "outputs": []
    },
    {
      "cell_type": "markdown",
      "source": [
        "## 2. Defining The Hamiltonian\n",
        "\n",
        "As written above we will start with a simple example of non-interacting particles, confined by a harmonic potential e.g. a collection of harmonic oscillators.\n",
        "A Hamiltonian in continuous space usually consists of two parts: kinetic and potential energy.\n",
        "The form of the kinetic energy is always the same and only depends on the mass of the particles.\n",
        "NetKet provides a full implementation of the the kinetic energy, which is simply the trace of the (weighted) Hessian taken with respect to all the input variables of the variational state.\n",
        "\n",
        "$$\n",
        "    E_{kin} = \\sum_{i=1}^N \\frac{1}{2m_i}\\frac{\\partial}{\\partial \\mathbf{x}_i} \\cdot \\frac{\\partial}{\\partial \\mathbf{x}_i} = \\sum_{i=1}^N \\sum_{j=1}^D \\frac{1}{2m_i}\\frac{\\partial^2}{\\partial x_{ij}^2}\n",
        "$$\n",
        "\n",
        "In the following we initialize the kinetic energy operator for particles of masses $ m=1 $ (one could also provide a tuple of different masses for each particle).\n"
      ],
      "metadata": {
        "id": "imbiGU7DWAP7"
      }
    },
    {
      "cell_type": "code",
      "source": [
        "# Kinetic Energy\n",
        "ekin = nk.operator.KineticEnergy(hi, mass=1.0)"
      ],
      "metadata": {
        "id": "yVRjYU-DWy4p"
      },
      "execution_count": null,
      "outputs": []
    },
    {
      "cell_type": "markdown",
      "source": [
        "The potential energy part changes when changing from one system to another and therefore needs to be implemented from scratch. In NetKet this amounts to writing a function that takes a single sample $ \\mathbf{X} $ and outputs a single number representing the potential energy of the given configuration. For a harmonic confinement we have:\n",
        "\n",
        "$$\n",
        "\\mathbf{X} \\mapsto \\frac{1}{2}\\sum_i |\\mathbf{x}_i|^2\n",
        "$$\n",
        "\n",
        "or in code:"
      ],
      "metadata": {
        "id": "HR2Y43RrW5S9"
      }
    },
    {
      "cell_type": "code",
      "source": [
        "# Potential Energy\n",
        "def v(x):\n",
        "    return 0.5 * jnp.linalg.norm(x) ** 2\n",
        "\n",
        "pot = nk.operator.PotentialEnergy(hi, v)"
      ],
      "metadata": {
        "id": "JDPkEJkvW1oF"
      },
      "execution_count": null,
      "outputs": []
    },
    {
      "cell_type": "code",
      "source": [
        "#Total hamiltonain\n",
        "H = ekin + pot"
      ],
      "metadata": {
        "id": "L2mfL_SEW-oS"
      },
      "execution_count": null,
      "outputs": []
    },
    {
      "cell_type": "markdown",
      "source": [
        "## 3. Exact Ansatz\n",
        "\n",
        "The most important thing for every VMC simulation is the variational Ansatz to the problem. If the Ansatz is capable of representing the true ground-state, the VMC results will be significantly better compared to a poorly chosen Ansatz that cannot represent the ground-state.\n",
        "For the case of non-interacting harmonic oscillators we know exactly what the many-body ground-state looks like:\n",
        "\n",
        "$$\n",
        "\\psi(\\mathbf{X}) = \\prod_i \\exp\\left[-\\frac{1}{2} |\\mathbf{x}_i|^2\\right].\n",
        "$$\n",
        "\n",
        "with associated probability distribution $P(\\mathbf{X}) = \\prod_i \\exp\\left[-|\\mathbf{x}_i|^2\\right]$.\n",
        "To provide some first experience with NetKet in continuous space, we first choose a variational parameterization that can exactly represent the above state:\n",
        "\n",
        "$$\n",
        "\\psi(\\mathbf{X}) = \\exp\\left[-\\frac{1}{2} \\mathbf{X}^T\\Sigma^{-1}\\mathbf{X}\\right].\n",
        "$$\n",
        "\n",
        "which is the ground-state for $ \\Sigma^{-1} = \\mathbb{I} $.\n",
        "\n",
        "The Model can be defined using one of the several *functional* jax frameworks such as Jax/Stax, Flax or Haiku.\n",
        "\n",
        "NetKet includes several pre-built models and layers built with [Flax](https://github.com/google/flax), including the above multivariate Gaussian Ansatz. For completeness the model definition is copied below (to make sure that $ \\Sigma^{-1} $ is a proper covariance matrix (positive definite), we parameterize it as $ \\Sigma^{-1} = T T^T $):"
      ],
      "metadata": {
        "id": "YkHhy2hFXII3"
      }
    },
    {
      "cell_type": "code",
      "source": [
        "import flax.linen as nn\n",
        "import jax.numpy as jnp\n",
        "\n",
        "from flax.linen.dtypes import promote_dtype\n",
        "from flax.linen.initializers import normal\n",
        "\n",
        "from netket.utils.types import DType, Array, NNInitFunc\n",
        "\n",
        "class Gaussian(nn.Module):\n",
        "    r\"\"\"\n",
        "    Multivariate Gaussian function with mean 0 and parametrised covariance matrix\n",
        "    :math:`\\Sigma_{ij}`.\n",
        "\n",
        "    The wavefunction is given by the formula: :math:`\\Psi(x) = \\exp(\\sum_{ij} x_i \\Sigma_{ij} x_j)`.\n",
        "    The (positive definite) :math:`\\Sigma_{ij} = AA^T` matrix is stored as\n",
        "    non-positive definite matrix A.\n",
        "    \"\"\"\n",
        "\n",
        "    param_dtype: DType = jnp.float64\n",
        "    \"\"\"The dtype of the weights.\"\"\"\n",
        "    kernel_init: NNInitFunc = normal(stddev=1.0)\n",
        "    \"\"\"Initializer for the weights.\"\"\"\n",
        "\n",
        "    @nn.compact\n",
        "    def __call__(self, x_in: Array):\n",
        "        nv = x_in.shape[-1]\n",
        "\n",
        "        kernel = self.param(\"kernel\", self.kernel_init, (nv, nv), self.param_dtype)\n",
        "        kernel = jnp.dot(kernel.T, kernel)\n",
        "\n",
        "        kernel, x_in = promote_dtype(kernel, x_in, dtype=None)\n",
        "        y = -0.5 * jnp.einsum(\"...i,ij,...j\", x_in, kernel, x_in)\n",
        "\n",
        "        return y"
      ],
      "metadata": {
        "id": "115cXx0rXyt2"
      },
      "execution_count": null,
      "outputs": []
    },
    {
      "cell_type": "markdown",
      "source": [
        "The model above gives instructions on how to initialize the variational parameters and evaluate the model. To use it in the context of the VMC optimization, NetKet provides the Monte-Carlo-sampled Variational State `netket.vqs.MCState`, which requires a sampler and a model from which to sample from. We also have to provide the number of samples from which expectation values of operators are computed, at each iteration of the VMC optimization.\n",
        "In the following we construct the variational state from the multivariate Gaussian Ansatz above, using the Gaussian sampler to sample from it and we choose a total of 10000 samples per iteration."
      ],
      "metadata": {
        "id": "9mAw-C2LYizg"
      }
    },
    {
      "cell_type": "code",
      "source": [
        "Gauss = Gaussian()\n",
        "vstate = nk.vqs.MCState(sa, Gauss, n_samples=10**4, n_discard_per_chain=100)"
      ],
      "metadata": {
        "id": "rl-FgWPwaYx8"
      },
      "execution_count": null,
      "outputs": []
    },
    {
      "cell_type": "code",
      "source": [
        "import matplotlib.pyplot as plt\n",
        "\n",
        "# now we can inspect the parameters which form a N*dxN*d matrix\n",
        "plt.imshow(vstate.parameters['kernel'])\n",
        "plt.colorbar()\n",
        "plt.show()"
      ],
      "metadata": {
        "colab": {
          "base_uri": "https://localhost:8080/",
          "height": 430
        },
        "id": "yLzgIWqiavJw",
        "outputId": "6a099435-adbd-41d0-942d-2b2416782ff4"
      },
      "execution_count": null,
      "outputs": [
        {
          "output_type": "display_data",
          "data": {
            "text/plain": [
              "<Figure size 640x480 with 2 Axes>"
            ],
            "image/png": "[encoded data removed]"
          },
          "metadata": {}
        }
      ]
    },
    {
      "cell_type": "code",
      "source": [
        "# Expectation value\n",
        "E = vstate.expect(H)\n",
        "print(E)"
      ],
      "metadata": {
        "colab": {
          "base_uri": "https://localhost:8080/"
        },
        "id": "DYkDuKgrazxu",
        "outputId": "4d1d51b2-6e10-4d8c-dcc0-dd768f492234"
      },
      "execution_count": null,
      "outputs": [
        {
          "output_type": "stream",
          "name": "stdout",
          "text": [
            "224.2 ± 1.6 [σ²=5905.9, R̂=1.0134]\n"
          ]
        }
      ]
    },
    {
      "cell_type": "code",
      "source": [
        "print(\"Mean                  :\", E.mean)\n",
        "print(\"Error                 :\", E.error_of_mean)\n",
        "print(\"Variance              :\", E.variance)\n",
        "print(\"Convergence indicator :\", E.R_hat)\n",
        "print(\"Correlation time      :\", E.tau_corr)"
      ],
      "metadata": {
        "colab": {
          "base_uri": "https://localhost:8080/"
        },
        "id": "xhK4kbkPa7qr",
        "outputId": "80e5f029-3347-4d5a-f0fe-06299a96a052"
      },
      "execution_count": null,
      "outputs": [
        {
          "output_type": "stream",
          "name": "stdout",
          "text": [
            "Mean                  : 224.21750593402638\n",
            "Error                 : 1.6314022647815551\n",
            "Variance              : 5905.880673277661\n",
            "Convergence indicator : 1.0134195556573782\n",
            "Correlation time      : 1.7532400303791746\n"
          ]
        }
      ]
    },
    {
      "cell_type": "markdown",
      "source": [
        "## 4. Variational Monte Carlo\n",
        "\n",
        "We will now try to optimise the covariance matrix $ \\Sigma^{-1} $ in order to best approximate the ground state of the hamiltonian, which has a ground-state energy of $ \\frac{1}{2}N*d=15 $.\n",
        "\n",
        "At first, we'll try to do this by ourself by writing the training loop, but then we'll switch to using a pre-made\n",
        "solution provided by netket for simplicity.\n"
      ],
      "metadata": {
        "id": "be98pIIda9oh"
      }
    },
    {
      "cell_type": "markdown",
      "source": [
        "### A. DIY Optimisation Loop\n",
        "\n",
        "The optimisation (or training) loop must do a very simple thing: at every iteration it must compute the energy and it's gradient, then multiply the gradient by a certain learning rate $\\lambda = 0.05$ and lastly it must update the parameters with this rescaled gradient.\n",
        "\n",
        "One can do so as follows:"
      ],
      "metadata": {
        "id": "hU1kwvb2LrMs"
      }
    },
    {
      "cell_type": "code",
      "source": [
        "from tqdm import tqdm  # tqdm helps us to visualize the progress in form of progress bar)\n",
        "\n",
        "energy_history = []\n",
        "n_steps = 100\n",
        "\n",
        "for i in tqdm(range(n_steps)):\n",
        "    # compute the energy and the gradient\n",
        "    E, E_grad = vstate.expect_and_grad(H)\n",
        "    energy_history.append(E.mean.real)\n",
        "    new_params = jax.tree.map(lambda x,y: x - 0.05 * y, vstate.parameters, E_grad)\n",
        "    vstate.parameters = new_params"
      ],
      "metadata": {
        "colab": {
          "base_uri": "https://localhost:8080/"
        },
        "id": "8r5bueEALMvX",
        "outputId": "6ddfc43d-2a82-4155-dc29-6f8d70e0ee96"
      },
      "execution_count": null,
      "outputs": [
        {
          "output_type": "stream",
          "name": "stderr",
          "text": [
            "100%|██████████| 100/100 [01:20<00:00,  1.24it/s]\n"
          ]
        }
      ]
    },
    {
      "cell_type": "code",
      "source": [
        "# We now can plot the energy during those optimisation steps:\n",
        "import matplotlib.pyplot as plt\n",
        "import matplotlib\n",
        "\n",
        "%matplotlib inline\n",
        "matplotlib.rc('font', family = 'Serif', size = 14)\n",
        "matplotlib.rc('xtick', labelsize = 10)\n",
        "matplotlib.rc('ytick', labelsize = 10)\n",
        "\n",
        "plt.plot(energy_history)\n",
        "plt.title(\"Ground-state energy for iterations\", fontsize = 20)\n",
        "plt.xlabel('Iterations')\n",
        "plt.ylabel('Energy')\n",
        "plt.show()"
      ],
      "metadata": {
        "colab": {
          "base_uri": "https://localhost:8080/",
          "height": 483
        },
        "id": "J_VAY1NTL2RD",
        "outputId": "1ec65290-8b0f-4478-ff23-e7d15ec85ab9"
      },
      "execution_count": null,
      "outputs": [
        {
          "output_type": "display_data",
          "data": {
            "text/plain": [
              "<Figure size 640x480 with 1 Axes>"
            ],
            "image/png": "[encoded data removed]"
          },
          "metadata": {}
        }
      ]
    },
    {
      "cell_type": "markdown",
      "source": [
        "### B. Use NetKet's optimisation driver\n",
        "\n",
        "The optimisation (or training) loop must do a very simple thing: at every iteration it must compute the energy and it’s gradient, then multiply the gradient by a certain learning rate and lastly it must update the parameters with this rescaled gradient.\n",
        "\n",
        "We use NetKet's default VMC optimisation loop for that"
      ],
      "metadata": {
        "id": "82Wtr_EWcEOb"
      }
    },
    {
      "cell_type": "code",
      "source": [
        "# First reset the parameters to run the optimisation again\n",
        "vstate.init_parameters(normal(stddev=1.0))\n",
        "# defining new optimizer\n",
        "optimizer = nk.optimizer.Sgd(learning_rate=0.05)\n",
        "# build the optimisation driver\n",
        "gs = nk.driver.VMC(H, optimizer, variational_state=vstate)\n",
        "\n",
        "log = nk.logging.RuntimeLog()\n",
        "gs.run(n_iter=200, out=log)\n",
        "\n",
        "energy=vstate.expect(H)\n",
        "error = jnp.abs(energy.mean-15.)/15.\n",
        "print(f\"Optimized energy  : {energy.mean}\")\n",
        "print(f\"Relative error    : {error}\")"
      ],
      "metadata": {
        "colab": {
          "base_uri": "https://localhost:8080/",
          "height": 84,
          "referenced_widgets": [
            "41dab6710095484387f89794dae7e57a",
            "c0198adfe7b64bc6b515292a6cfea71a",
            "fd97e4c32eff4bf9af78bd522c491c02",
            "868dbcf505dc4cdbaa9c4f08fa828573",
            "fe464ecc9e2c4fadbdfb0cc6b3e49c51",
            "ed359dee5a4f4f938b8dcb3363402217",
            "d126641843864d90abe77b327bd248e9",
            "623b64e4c3a44e7ba225ac961dc7ad1a",
            "dbfecc4a61584160aac8198ea6f79ade",
            "33498a24686443eeba543ad69110aaf4",
            "b45b381b11ec4978a6ad9b54f0d50fb2"
          ]
        },
        "id": "GwYwsuxYcMP7",
        "outputId": "ba159b23-0dd1-422d-a15a-59108f095199"
      },
      "execution_count": null,
      "outputs": [
        {
          "output_type": "display_data",
          "data": {
            "text/plain": [
              "  0%|          | 0/200 [00:00<?, ?it/s]"
            ],
            "application/vnd.jupyter.widget-view+json": {
              "version_major": 2,
              "version_minor": 0,
              "model_id": "41dab6710095484387f89794dae7e57a"
            }
          },
          "metadata": {}
        },
        {
          "output_type": "stream",
          "name": "stdout",
          "text": [
            "Optimized energy  : 15.000000275120751\n",
            "Relative error    : 1.834138340465567e-08\n"
          ]
        }
      ]
    },
    {
      "cell_type": "code",
      "source": [
        "# we can again inspect the parameter:\n",
        "kernel = vstate.parameters['kernel']\n",
        "plt.imshow(jnp.dot(kernel.T, kernel))\n",
        "plt.colorbar()\n",
        "plt.show()"
      ],
      "metadata": {
        "colab": {
          "base_uri": "https://localhost:8080/",
          "height": 435
        },
        "id": "MpDgkcnicW43",
        "outputId": "b551424b-64b8-44e1-f1e6-d704e90d043e"
      },
      "execution_count": null,
      "outputs": [
        {
          "output_type": "display_data",
          "data": {
            "text/plain": [
              "<Figure size 640x480 with 2 Axes>"
            ],
            "image/png": "[encoded data removed]"
          },
          "metadata": {}
        }
      ]
    },
    {
      "cell_type": "markdown",
      "source": [
        "## 5. Neural-Network Quantum State\n",
        "\n",
        "But everytimes we can not define or know the functional form of the ground state wave-function. We therefore have to resort to highly flexible variational Ansatze, capable of representing many different many-body states. We can for example use neural networks as universal function approximators.\n",
        "\n",
        "In the following, we use a neural network architecture called \"DeepSets\" to solve the more interesting case of bosons interacting via a repulsive Gaussian interaction:\n",
        "\n",
        "$$\n",
        "\\epsilon  \\sum_{i<j} \\exp\\left[-|\\mathbf{r}_{ij}|^2\\right].\n",
        "$$\n",
        "\n",
        "We study the bulk of the system by confining it into a box of length $L$ with periodic boundary conditions. In this extended system we define the particle density as $ D = N/L^d $ and we study the case $ D=1 $ for $ N=20 $ particles in $ d=1 $ dimensions with $ \\epsilon = 2 $. To account for the periodicity we use the minimum image convention when evaluating the potential energy of the system. For more information see:\n",
        "\n",
        "The DeepSets architecture we use is defined as:\n",
        "\n",
        "$$\n",
        "\\mathrm{DS}(\\mathbf{X}) = \\rho\\left[\\sum_{i,j} \\phi \\left( \\mathbf{y}_{ij}\\right) \\right]\n",
        "$$\n",
        "\n",
        "where the functions $ \\phi $ and $ \\rho $ are parameterized by simple feed-forward neural network with a GeLu activation function with one hidden layer.  \n",
        "To account for periodicity we choose as input $ \\mathbf{y}_{ij} = (\\sin(\\frac{2\\pi}{L} \\mathbf{r}_{ij}),  \\cos(\\frac{2\\pi}{L} \\mathbf{r}_{ij})) $."
      ],
      "metadata": {
        "id": "Hx8s7vUBcaPW"
      }
    },
    {
      "cell_type": "code",
      "source": [
        "def minimum_distance(x, N, sdim):\n",
        "   \"\"\"Computes distances between particles using minimum image convention\"\"\"\n",
        "   x = x.reshape(-1, N, sdim)\n",
        "   idx = jnp.triu_indices(N, 1)\n",
        "   distances = (-x[..., None, :, :] + x[..., :, None, :])[..., idx[0], idx[1], :]\n",
        "   # minimum image convention\n",
        "   distances = jnp.remainder(distances + L / 2.0, L) - L / 2.0\n",
        "   return jnp.linalg.norm(distances, axis=-1)\n",
        "\n",
        "def potential(x, N, epsilon, sdim):\n",
        "   dis = minimum_distance(x, N, sdim)\n",
        "   return epsilon * jnp.sum((jnp.exp(-(dis)**2)))\n",
        "\n",
        "# parameters\n",
        "N = 20 # No. of particles\n",
        "D = 1. # Density of particles\n",
        "dim = 1 # Dimension of space\n",
        "epsilon = 2. # Potential energy parameter\n",
        "L = (N / D)**(1/dim) # Box length\n",
        "\n",
        "\n",
        "hilb = nk.hilbert.Particle(N=N, L=(L,), pbc=True) # Hilbert space for extended system\n",
        "sa = nk.sampler.MetropolisGaussian(hilbert=hilb, sigma=0.4, n_chains=16, sweep_size=10) # Metropolis-Hasting Sampler\n",
        "\n",
        "\n",
        "ekin = nk.operator.KineticEnergy(hilb, mass=1.0)  # Kinetic Energy\n",
        "pot = nk.operator.PotentialEnergy(hilb, lambda x: potential(x, N, epsilon, dim)) # Potential Energy\n",
        "Ha = ekin + pot # Total Hamiltonian"
      ],
      "metadata": {
        "id": "nfpPLH7HPBK6"
      },
      "execution_count": null,
      "outputs": []
    },
    {
      "cell_type": "code",
      "source": [
        "class DS(nn.Module):\n",
        "    L: float\n",
        "    N: int\n",
        "    sdim: int\n",
        "    hidden_units : int = 8\n",
        "\n",
        "    @nn.compact\n",
        "    def __call__(self, x):\n",
        "        x = x.reshape(-1, self.N, self.sdim)\n",
        "        xij = x[...,None,:] - x[...,None,:,:]\n",
        "        yij = jnp.concatenate((jnp.sin(2*jnp.pi/self.L * xij), jnp.cos(2*jnp.pi/self.L * xij)), axis=-1)\n",
        "\n",
        "        # we construct the first dense layer using a pre-built implementation in flax.\n",
        "        y = nn.Dense(features=self.hidden_units)(yij)\n",
        "        # we apply the activation function\n",
        "        y = nn.gelu(y)\n",
        "        # we apply the dense layer to the input\n",
        "        y = nn.Dense(features=self.hidden_units)(y)\n",
        "        y = jnp.sum(y, axis=(-3,-2))\n",
        "\n",
        "        # the function rho has a single output\n",
        "        y = nn.Dense(features=self.hidden_units)(y)\n",
        "        y = nn.gelu(y)\n",
        "        y = nn.Dense(features=1)(y)\n",
        "        return y.squeeze()\n",
        "\n",
        "model = DS(L=L, N=N, sdim=dim)\n",
        "\n",
        "# choose number of samples that is divided by the number of chains\n",
        "vstate = nk.vqs.MCState(sa, model, n_samples=1008, n_discard_per_chain=16)"
      ],
      "metadata": {
        "id": "hYJEJzzbcol5"
      },
      "execution_count": null,
      "outputs": []
    },
    {
      "cell_type": "code",
      "source": [
        "# defining optimizer\n",
        "optimizer = nk.optimizer.Sgd(learning_rate=0.02)\n",
        "# build the optimisation driver\n",
        "gs = nk.driver.VMC(Ha, optimizer, variational_state=vstate,preconditioner=nk.optimizer.SR(diag_shift=0.05))\n",
        "\n",
        "# Store the energy along the simulation in a RuntimeLogger, which is kept in memory.\n",
        "log=nk.logging.RuntimeLog()\n",
        "gs.run(n_iter=200,out=log)\n",
        "\n",
        "ds_energy=vstate.expect(Ha)\n",
        "error=abs((ds_energy.mean-24.742)/24.742)\n",
        "print(f\"Optimized energy  : {ds_energy.mean}\")\n",
        "print(f\"Relative error    : {error}\")"
      ],
      "metadata": {
        "colab": {
          "base_uri": "https://localhost:8080/",
          "height": 84,
          "referenced_widgets": [
            "423eec62adba448bb7a6fb7f12a39651",
            "0e64d6fd162f4d45abe6ecf9233dafe8",
            "d8896ee4c4be4334ae45852b9d886455",
            "948857c968ca4f0fa3ce53552230d315",
            "260aa82bcc4a4f8790e167563099dbbd",
            "ade646a1d7fd493480428cca92982627",
            "cc54e4df4ac24b679229bd4b88ed2375",
            "d9a3d7e24d54497db17a83c9f50e10b2",
            "b74514431d364a73874959aaa0460437",
            "da72c18d53064219b4a3872af46ccfbf",
            "6d19f03b07c145eebfb40663fc913040"
          ]
        },
        "id": "pYmo0yejcqdw",
        "outputId": "4070899c-7e00-4eb4-b32a-d3595eb87194"
      },
      "execution_count": null,
      "outputs": [
        {
          "output_type": "display_data",
          "data": {
            "text/plain": [
              "  0%|          | 0/200 [00:00<?, ?it/s]"
            ],
            "application/vnd.jupyter.widget-view+json": {
              "version_major": 2,
              "version_minor": 0,
              "model_id": "423eec62adba448bb7a6fb7f12a39651"
            }
          },
          "metadata": {}
        },
        {
          "output_type": "stream",
          "name": "stdout",
          "text": [
            "Optimized energy  : 24.758399110260992\n",
            "Relative error    : 0.0006628045534310597\n"
          ]
        }
      ]
    },
    {
      "cell_type": "code",
      "source": [
        "data_FFN = log.data\n",
        "\n",
        "plt.errorbar(data_FFN[\"Energy\"].iters, data_FFN[\"Energy\"].Mean, yerr=data_FFN[\"Energy\"].Sigma, label=\"FFN\")\n",
        "plt.legend()\n",
        "plt.title(\"Ground-state energy on each iteration\", fontsize = 20)\n",
        "plt.xlabel('Iterations')\n",
        "plt.ylabel('Energy')\n",
        "plt.show()"
      ],
      "metadata": {
        "colab": {
          "base_uri": "https://localhost:8080/",
          "height": 483
        },
        "id": "iPB3wU-3a1pH",
        "outputId": "a8ef8cee-fd9e-4d54-cbea-7061fd3acaf0"
      },
      "execution_count": null,
      "outputs": [
        {
          "output_type": "display_data",
          "data": {
            "text/plain": [
              "<Figure size 640x480 with 1 Axes>"
            ],
            "image/png": "[encoded data removed]"
          },
          "metadata": {}
        }
      ]
    },
    {
      "cell_type": "markdown",
      "source": [
        "## 6. Measuring Other Properties\n",
        "\n",
        "Once the model has been optimized, we can of start to measure other observables than the energy as well. An interesting quantity could for example be the radial distribution function, which is related to the structure factor measured in scattering experiments. It is defined as:\n",
        "\n",
        "$$\n",
        "g(r) = C \\langle \\sum_{i<j} \\delta(r-r_{ij}) \\rangle\n",
        "$$\n",
        "\n",
        "where $ \\langle \\cdot \\rangle $ denotes the expectation value w.r.t. the probability distribution defined by the optimized wave-function. The constant $C$ is chosen such that $\\int \\mathrm{d}r g(r) = N*(N-1)$.\n",
        "\n",
        "To evaluate the above expression we need samples from the optimized wave-function:"
      ],
      "metadata": {
        "id": "ngPg4ZvIcsPw"
      }
    },
    {
      "cell_type": "code",
      "source": [
        "samples = vstate.sample(chain_length=3*10**4)\n",
        "\n",
        "import numpy as np\n",
        "import jax\n",
        "\n",
        "def gr(samples, n_particles, sdim, L, bins=80):\n",
        "    dists = minimum_distance(samples, n_particles, sdim)\n",
        "    hist, bin_edges = np.histogram(dists.flatten(), bins=bins, range=(0,L/2))\n",
        "    delta_r = bin_edges[1] - bin_edges[0]\n",
        "    centers = (bin_edges[1:] + bin_edges[:-1])/2\n",
        "\n",
        "    gC = hist / (dists.shape[0]*n_particles)\n",
        "\n",
        "    def get_jacobian():\n",
        "        if sdim == 1:\n",
        "            return np.ones_like(centers)\n",
        "        elif sdim == 2:\n",
        "            return 2*np.pi*centers\n",
        "        elif sdim == 3:\n",
        "            return 4*np.pi*centers**2\n",
        "        else:\n",
        "            raise NotImplementedError(f\"Jacobian factor not yet implemented for sdim={sdim}\")\n",
        "\n",
        "    def get_volume():\n",
        "        return L**sdim\n",
        "\n",
        "    def get_density():\n",
        "        return n_particles/get_volume()\n",
        "\n",
        "    gU = get_jacobian()*delta_r*get_density()\n",
        "\n",
        "    return centers, gC/gU"
      ],
      "metadata": {
        "id": "hUg6QbsCczSd"
      },
      "execution_count": null,
      "outputs": []
    },
    {
      "cell_type": "code",
      "source": [
        "c, g = gr(samples, n_particles=N, sdim=dim, L=L)\n",
        "plt.plot(c, g)\n",
        "plt.title(\"Radial distribution function\", fontsize = 20)\n",
        "plt.xlabel('r')\n",
        "plt.ylabel('g(r)')\n",
        "plt.show()"
      ],
      "metadata": {
        "colab": {
          "base_uri": "https://localhost:8080/",
          "height": 483
        },
        "id": "lX8eTg-9cGm9",
        "outputId": "04bd94d5-cf4f-4633-c340-cc287cf797dc"
      },
      "execution_count": null,
      "outputs": [
        {
          "output_type": "display_data",
          "data": {
            "text/plain": [
              "<Figure size 640x480 with 1 Axes>"
            ],
            "image/png": "[encoded data removed]"
          },
          "metadata": {}
        }
      ]
    },
    {
      "cell_type": "code",
      "source": [],
      "metadata": {
        "id": "DC7LOj8accQ6"
      },
      "execution_count": null,
      "outputs": []
    }
  ]
}
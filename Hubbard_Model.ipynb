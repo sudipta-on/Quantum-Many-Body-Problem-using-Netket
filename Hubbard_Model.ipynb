{
  "nbformat": 4,
  "nbformat_minor": 0,
  "metadata": {
    "colab": {
      "provenance": [],
      "gpuType": "T4",
      "authorship_tag": "ABX9TyNv4uSw794/3o0fhCliXFzj",
      "include_colab_link": true
    },
    "kernelspec": {
      "name": "python3",
      "display_name": "Python 3"
    },
    "language_info": {
      "name": "python"
    },
    "accelerator": "GPU",
    "widgets": {
      "application/vnd.jupyter.widget-state+json": {
        "76626887be954fd9afadab4ae56274b4": {
          "model_module": "@jupyter-widgets/controls",
          "model_name": "HBoxModel",
          "model_module_version": "1.5.0",
          "state": {
            "_dom_classes": [],
            "_model_module": "@jupyter-widgets/controls",
            "_model_module_version": "1.5.0",
            "_model_name": "HBoxModel",
            "_view_count": null,
            "_view_module": "@jupyter-widgets/controls",
            "_view_module_version": "1.5.0",
            "_view_name": "HBoxView",
            "box_style": "",
            "children": [
              "IPY_MODEL_fc3e4c33478f454c94a2e3e69dc39f4e",
              "IPY_MODEL_53a8fd73c5204c4196d12e769462cb4c",
              "IPY_MODEL_e7485b1c1e6946cb9638390dcc6f173f"
            ],
            "layout": "IPY_MODEL_c982115ef4dc4c0cb233d43b99c724a7"
          }
        },
        "fc3e4c33478f454c94a2e3e69dc39f4e": {
          "model_module": "@jupyter-widgets/controls",
          "model_name": "HTMLModel",
          "model_module_version": "1.5.0",
          "state": {
            "_dom_classes": [],
            "_model_module": "@jupyter-widgets/controls",
            "_model_module_version": "1.5.0",
            "_model_name": "HTMLModel",
            "_view_count": null,
            "_view_module": "@jupyter-widgets/controls",
            "_view_module_version": "1.5.0",
            "_view_name": "HTMLView",
            "description": "",
            "description_tooltip": null,
            "layout": "IPY_MODEL_c6c0b2f77e624d5699ab58192b356756",
            "placeholder": "​",
            "style": "IPY_MODEL_74502d17586d4cc6ae999c9062d0ba11",
            "value": "100%"
          }
        },
        "53a8fd73c5204c4196d12e769462cb4c": {
          "model_module": "@jupyter-widgets/controls",
          "model_name": "FloatProgressModel",
          "model_module_version": "1.5.0",
          "state": {
            "_dom_classes": [],
            "_model_module": "@jupyter-widgets/controls",
            "_model_module_version": "1.5.0",
            "_model_name": "FloatProgressModel",
            "_view_count": null,
            "_view_module": "@jupyter-widgets/controls",
            "_view_module_version": "1.5.0",
            "_view_name": "ProgressView",
            "bar_style": "success",
            "description": "",
            "description_tooltip": null,
            "layout": "IPY_MODEL_62ebbd92deb041929f9c98c3c2168c7a",
            "max": 300,
            "min": 0,
            "orientation": "horizontal",
            "style": "IPY_MODEL_356bc3e731cd4987a56ccbf302d041db",
            "value": 300
          }
        },
        "e7485b1c1e6946cb9638390dcc6f173f": {
          "model_module": "@jupyter-widgets/controls",
          "model_name": "HTMLModel",
          "model_module_version": "1.5.0",
          "state": {
            "_dom_classes": [],
            "_model_module": "@jupyter-widgets/controls",
            "_model_module_version": "1.5.0",
            "_model_name": "HTMLModel",
            "_view_count": null,
            "_view_module": "@jupyter-widgets/controls",
            "_view_module_version": "1.5.0",
            "_view_name": "HTMLView",
            "description": "",
            "description_tooltip": null,
            "layout": "IPY_MODEL_2ade82180263400ca276cc5611915977",
            "placeholder": "​",
            "style": "IPY_MODEL_f7deaf80fe80442ea73100cccf7b8705",
            "value": " 300/300 [04:19&lt;00:00,  1.18it/s, Energy=-5.071-0.000j ± 0.035 [σ²=4.568, R̂=1.0015]]"
          }
        },
        "c982115ef4dc4c0cb233d43b99c724a7": {
          "model_module": "@jupyter-widgets/base",
          "model_name": "LayoutModel",
          "model_module_version": "1.2.0",
          "state": {
            "_model_module": "@jupyter-widgets/base",
            "_model_module_version": "1.2.0",
            "_model_name": "LayoutModel",
            "_view_count": null,
            "_view_module": "@jupyter-widgets/base",
            "_view_module_version": "1.2.0",
            "_view_name": "LayoutView",
            "align_content": null,
            "align_items": null,
            "align_self": null,
            "border": null,
            "bottom": null,
            "display": "inline-flex",
            "flex": null,
            "flex_flow": "row wrap",
            "grid_area": null,
            "grid_auto_columns": null,
            "grid_auto_flow": null,
            "grid_auto_rows": null,
            "grid_column": null,
            "grid_gap": null,
            "grid_row": null,
            "grid_template_areas": null,
            "grid_template_columns": null,
            "grid_template_rows": null,
            "height": null,
            "justify_content": null,
            "justify_items": null,
            "left": null,
            "margin": null,
            "max_height": null,
            "max_width": null,
            "min_height": null,
            "min_width": null,
            "object_fit": null,
            "object_position": null,
            "order": null,
            "overflow": null,
            "overflow_x": null,
            "overflow_y": null,
            "padding": null,
            "right": null,
            "top": null,
            "visibility": null,
            "width": "100%"
          }
        },
        "c6c0b2f77e624d5699ab58192b356756": {
          "model_module": "@jupyter-widgets/base",
          "model_name": "LayoutModel",
          "model_module_version": "1.2.0",
          "state": {
            "_model_module": "@jupyter-widgets/base",
            "_model_module_version": "1.2.0",
            "_model_name": "LayoutModel",
            "_view_count": null,
            "_view_module": "@jupyter-widgets/base",
            "_view_module_version": "1.2.0",
            "_view_name": "LayoutView",
            "align_content": null,
            "align_items": null,
            "align_self": null,
            "border": null,
            "bottom": null,
            "display": null,
            "flex": null,
            "flex_flow": null,
            "grid_area": null,
            "grid_auto_columns": null,
            "grid_auto_flow": null,
            "grid_auto_rows": null,
            "grid_column": null,
            "grid_gap": null,
            "grid_row": null,
            "grid_template_areas": null,
            "grid_template_columns": null,
            "grid_template_rows": null,
            "height": null,
            "justify_content": null,
            "justify_items": null,
            "left": null,
            "margin": null,
            "max_height": null,
            "max_width": null,
            "min_height": null,
            "min_width": null,
            "object_fit": null,
            "object_position": null,
            "order": null,
            "overflow": null,
            "overflow_x": null,
            "overflow_y": null,
            "padding": null,
            "right": null,
            "top": null,
            "visibility": null,
            "width": null
          }
        },
        "74502d17586d4cc6ae999c9062d0ba11": {
          "model_module": "@jupyter-widgets/controls",
          "model_name": "DescriptionStyleModel",
          "model_module_version": "1.5.0",
          "state": {
            "_model_module": "@jupyter-widgets/controls",
            "_model_module_version": "1.5.0",
            "_model_name": "DescriptionStyleModel",
            "_view_count": null,
            "_view_module": "@jupyter-widgets/base",
            "_view_module_version": "1.2.0",
            "_view_name": "StyleView",
            "description_width": ""
          }
        },
        "62ebbd92deb041929f9c98c3c2168c7a": {
          "model_module": "@jupyter-widgets/base",
          "model_name": "LayoutModel",
          "model_module_version": "1.2.0",
          "state": {
            "_model_module": "@jupyter-widgets/base",
            "_model_module_version": "1.2.0",
            "_model_name": "LayoutModel",
            "_view_count": null,
            "_view_module": "@jupyter-widgets/base",
            "_view_module_version": "1.2.0",
            "_view_name": "LayoutView",
            "align_content": null,
            "align_items": null,
            "align_self": null,
            "border": null,
            "bottom": null,
            "display": null,
            "flex": "2",
            "flex_flow": null,
            "grid_area": null,
            "grid_auto_columns": null,
            "grid_auto_flow": null,
            "grid_auto_rows": null,
            "grid_column": null,
            "grid_gap": null,
            "grid_row": null,
            "grid_template_areas": null,
            "grid_template_columns": null,
            "grid_template_rows": null,
            "height": null,
            "justify_content": null,
            "justify_items": null,
            "left": null,
            "margin": null,
            "max_height": null,
            "max_width": null,
            "min_height": null,
            "min_width": null,
            "object_fit": null,
            "object_position": null,
            "order": null,
            "overflow": null,
            "overflow_x": null,
            "overflow_y": null,
            "padding": null,
            "right": null,
            "top": null,
            "visibility": null,
            "width": null
          }
        },
        "356bc3e731cd4987a56ccbf302d041db": {
          "model_module": "@jupyter-widgets/controls",
          "model_name": "ProgressStyleModel",
          "model_module_version": "1.5.0",
          "state": {
            "_model_module": "@jupyter-widgets/controls",
            "_model_module_version": "1.5.0",
            "_model_name": "ProgressStyleModel",
            "_view_count": null,
            "_view_module": "@jupyter-widgets/base",
            "_view_module_version": "1.2.0",
            "_view_name": "StyleView",
            "bar_color": null,
            "description_width": ""
          }
        },
        "2ade82180263400ca276cc5611915977": {
          "model_module": "@jupyter-widgets/base",
          "model_name": "LayoutModel",
          "model_module_version": "1.2.0",
          "state": {
            "_model_module": "@jupyter-widgets/base",
            "_model_module_version": "1.2.0",
            "_model_name": "LayoutModel",
            "_view_count": null,
            "_view_module": "@jupyter-widgets/base",
            "_view_module_version": "1.2.0",
            "_view_name": "LayoutView",
            "align_content": null,
            "align_items": null,
            "align_self": null,
            "border": null,
            "bottom": null,
            "display": null,
            "flex": null,
            "flex_flow": null,
            "grid_area": null,
            "grid_auto_columns": null,
            "grid_auto_flow": null,
            "grid_auto_rows": null,
            "grid_column": null,
            "grid_gap": null,
            "grid_row": null,
            "grid_template_areas": null,
            "grid_template_columns": null,
            "grid_template_rows": null,
            "height": null,
            "justify_content": null,
            "justify_items": null,
            "left": null,
            "margin": null,
            "max_height": null,
            "max_width": null,
            "min_height": null,
            "min_width": null,
            "object_fit": null,
            "object_position": null,
            "order": null,
            "overflow": null,
            "overflow_x": null,
            "overflow_y": null,
            "padding": null,
            "right": null,
            "top": null,
            "visibility": null,
            "width": null
          }
        },
        "f7deaf80fe80442ea73100cccf7b8705": {
          "model_module": "@jupyter-widgets/controls",
          "model_name": "DescriptionStyleModel",
          "model_module_version": "1.5.0",
          "state": {
            "_model_module": "@jupyter-widgets/controls",
            "_model_module_version": "1.5.0",
            "_model_name": "DescriptionStyleModel",
            "_view_count": null,
            "_view_module": "@jupyter-widgets/base",
            "_view_module_version": "1.2.0",
            "_view_name": "StyleView",
            "description_width": ""
          }
        },
        "4b80d6486c2a428089650cb98c8253e0": {
          "model_module": "@jupyter-widgets/controls",
          "model_name": "HBoxModel",
          "model_module_version": "1.5.0",
          "state": {
            "_dom_classes": [],
            "_model_module": "@jupyter-widgets/controls",
            "_model_module_version": "1.5.0",
            "_model_name": "HBoxModel",
            "_view_count": null,
            "_view_module": "@jupyter-widgets/controls",
            "_view_module_version": "1.5.0",
            "_view_name": "HBoxView",
            "box_style": "",
            "children": [
              "IPY_MODEL_c3f0ad413664464183876032821d7290",
              "IPY_MODEL_dc0f09cfce1b4ec0ad733a5d307a2eea",
              "IPY_MODEL_60ad5a84d03c4539b2dc7ba1734b081c"
            ],
            "layout": "IPY_MODEL_d190d1f164ab4c14ae4478f05e736472"
          }
        },
        "c3f0ad413664464183876032821d7290": {
          "model_module": "@jupyter-widgets/controls",
          "model_name": "HTMLModel",
          "model_module_version": "1.5.0",
          "state": {
            "_dom_classes": [],
            "_model_module": "@jupyter-widgets/controls",
            "_model_module_version": "1.5.0",
            "_model_name": "HTMLModel",
            "_view_count": null,
            "_view_module": "@jupyter-widgets/controls",
            "_view_module_version": "1.5.0",
            "_view_name": "HTMLView",
            "description": "",
            "description_tooltip": null,
            "layout": "IPY_MODEL_0cb63a9b3acf43b2909158a8b505ea9e",
            "placeholder": "​",
            "style": "IPY_MODEL_6618c9e2d62d4e40bbb338f44134a14e",
            "value": "100%"
          }
        },
        "dc0f09cfce1b4ec0ad733a5d307a2eea": {
          "model_module": "@jupyter-widgets/controls",
          "model_name": "FloatProgressModel",
          "model_module_version": "1.5.0",
          "state": {
            "_dom_classes": [],
            "_model_module": "@jupyter-widgets/controls",
            "_model_module_version": "1.5.0",
            "_model_name": "FloatProgressModel",
            "_view_count": null,
            "_view_module": "@jupyter-widgets/controls",
            "_view_module_version": "1.5.0",
            "_view_name": "ProgressView",
            "bar_style": "success",
            "description": "",
            "description_tooltip": null,
            "layout": "IPY_MODEL_f3e992b172f945c4ae9d97157317958f",
            "max": 300,
            "min": 0,
            "orientation": "horizontal",
            "style": "IPY_MODEL_90c7b88f80b745ef8fc64b2494dd7549",
            "value": 300
          }
        },
        "60ad5a84d03c4539b2dc7ba1734b081c": {
          "model_module": "@jupyter-widgets/controls",
          "model_name": "HTMLModel",
          "model_module_version": "1.5.0",
          "state": {
            "_dom_classes": [],
            "_model_module": "@jupyter-widgets/controls",
            "_model_module_version": "1.5.0",
            "_model_name": "HTMLModel",
            "_view_count": null,
            "_view_module": "@jupyter-widgets/controls",
            "_view_module_version": "1.5.0",
            "_view_name": "HTMLView",
            "description": "",
            "description_tooltip": null,
            "layout": "IPY_MODEL_fed2d1f9220a4c628f981e6be3bdc8a0",
            "placeholder": "​",
            "style": "IPY_MODEL_c6645045343645b0825f68cf9b056fcd",
            "value": " 300/300 [04:49&lt;00:00,  1.01s/it, Energy=-6.824+0.000j ± 0.010 [σ²=0.457, R̂=1.0023]]"
          }
        },
        "d190d1f164ab4c14ae4478f05e736472": {
          "model_module": "@jupyter-widgets/base",
          "model_name": "LayoutModel",
          "model_module_version": "1.2.0",
          "state": {
            "_model_module": "@jupyter-widgets/base",
            "_model_module_version": "1.2.0",
            "_model_name": "LayoutModel",
            "_view_count": null,
            "_view_module": "@jupyter-widgets/base",
            "_view_module_version": "1.2.0",
            "_view_name": "LayoutView",
            "align_content": null,
            "align_items": null,
            "align_self": null,
            "border": null,
            "bottom": null,
            "display": "inline-flex",
            "flex": null,
            "flex_flow": "row wrap",
            "grid_area": null,
            "grid_auto_columns": null,
            "grid_auto_flow": null,
            "grid_auto_rows": null,
            "grid_column": null,
            "grid_gap": null,
            "grid_row": null,
            "grid_template_areas": null,
            "grid_template_columns": null,
            "grid_template_rows": null,
            "height": null,
            "justify_content": null,
            "justify_items": null,
            "left": null,
            "margin": null,
            "max_height": null,
            "max_width": null,
            "min_height": null,
            "min_width": null,
            "object_fit": null,
            "object_position": null,
            "order": null,
            "overflow": null,
            "overflow_x": null,
            "overflow_y": null,
            "padding": null,
            "right": null,
            "top": null,
            "visibility": null,
            "width": "100%"
          }
        },
        "0cb63a9b3acf43b2909158a8b505ea9e": {
          "model_module": "@jupyter-widgets/base",
          "model_name": "LayoutModel",
          "model_module_version": "1.2.0",
          "state": {
            "_model_module": "@jupyter-widgets/base",
            "_model_module_version": "1.2.0",
            "_model_name": "LayoutModel",
            "_view_count": null,
            "_view_module": "@jupyter-widgets/base",
            "_view_module_version": "1.2.0",
            "_view_name": "LayoutView",
            "align_content": null,
            "align_items": null,
            "align_self": null,
            "border": null,
            "bottom": null,
            "display": null,
            "flex": null,
            "flex_flow": null,
            "grid_area": null,
            "grid_auto_columns": null,
            "grid_auto_flow": null,
            "grid_auto_rows": null,
            "grid_column": null,
            "grid_gap": null,
            "grid_row": null,
            "grid_template_areas": null,
            "grid_template_columns": null,
            "grid_template_rows": null,
            "height": null,
            "justify_content": null,
            "justify_items": null,
            "left": null,
            "margin": null,
            "max_height": null,
            "max_width": null,
            "min_height": null,
            "min_width": null,
            "object_fit": null,
            "object_position": null,
            "order": null,
            "overflow": null,
            "overflow_x": null,
            "overflow_y": null,
            "padding": null,
            "right": null,
            "top": null,
            "visibility": null,
            "width": null
          }
        },
        "6618c9e2d62d4e40bbb338f44134a14e": {
          "model_module": "@jupyter-widgets/controls",
          "model_name": "DescriptionStyleModel",
          "model_module_version": "1.5.0",
          "state": {
            "_model_module": "@jupyter-widgets/controls",
            "_model_module_version": "1.5.0",
            "_model_name": "DescriptionStyleModel",
            "_view_count": null,
            "_view_module": "@jupyter-widgets/base",
            "_view_module_version": "1.2.0",
            "_view_name": "StyleView",
            "description_width": ""
          }
        },
        "f3e992b172f945c4ae9d97157317958f": {
          "model_module": "@jupyter-widgets/base",
          "model_name": "LayoutModel",
          "model_module_version": "1.2.0",
          "state": {
            "_model_module": "@jupyter-widgets/base",
            "_model_module_version": "1.2.0",
            "_model_name": "LayoutModel",
            "_view_count": null,
            "_view_module": "@jupyter-widgets/base",
            "_view_module_version": "1.2.0",
            "_view_name": "LayoutView",
            "align_content": null,
            "align_items": null,
            "align_self": null,
            "border": null,
            "bottom": null,
            "display": null,
            "flex": "2",
            "flex_flow": null,
            "grid_area": null,
            "grid_auto_columns": null,
            "grid_auto_flow": null,
            "grid_auto_rows": null,
            "grid_column": null,
            "grid_gap": null,
            "grid_row": null,
            "grid_template_areas": null,
            "grid_template_columns": null,
            "grid_template_rows": null,
            "height": null,
            "justify_content": null,
            "justify_items": null,
            "left": null,
            "margin": null,
            "max_height": null,
            "max_width": null,
            "min_height": null,
            "min_width": null,
            "object_fit": null,
            "object_position": null,
            "order": null,
            "overflow": null,
            "overflow_x": null,
            "overflow_y": null,
            "padding": null,
            "right": null,
            "top": null,
            "visibility": null,
            "width": null
          }
        },
        "90c7b88f80b745ef8fc64b2494dd7549": {
          "model_module": "@jupyter-widgets/controls",
          "model_name": "ProgressStyleModel",
          "model_module_version": "1.5.0",
          "state": {
            "_model_module": "@jupyter-widgets/controls",
            "_model_module_version": "1.5.0",
            "_model_name": "ProgressStyleModel",
            "_view_count": null,
            "_view_module": "@jupyter-widgets/base",
            "_view_module_version": "1.2.0",
            "_view_name": "StyleView",
            "bar_color": null,
            "description_width": ""
          }
        },
        "fed2d1f9220a4c628f981e6be3bdc8a0": {
          "model_module": "@jupyter-widgets/base",
          "model_name": "LayoutModel",
          "model_module_version": "1.2.0",
          "state": {
            "_model_module": "@jupyter-widgets/base",
            "_model_module_version": "1.2.0",
            "_model_name": "LayoutModel",
            "_view_count": null,
            "_view_module": "@jupyter-widgets/base",
            "_view_module_version": "1.2.0",
            "_view_name": "LayoutView",
            "align_content": null,
            "align_items": null,
            "align_self": null,
            "border": null,
            "bottom": null,
            "display": null,
            "flex": null,
            "flex_flow": null,
            "grid_area": null,
            "grid_auto_columns": null,
            "grid_auto_flow": null,
            "grid_auto_rows": null,
            "grid_column": null,
            "grid_gap": null,
            "grid_row": null,
            "grid_template_areas": null,
            "grid_template_columns": null,
            "grid_template_rows": null,
            "height": null,
            "justify_content": null,
            "justify_items": null,
            "left": null,
            "margin": null,
            "max_height": null,
            "max_width": null,
            "min_height": null,
            "min_width": null,
            "object_fit": null,
            "object_position": null,
            "order": null,
            "overflow": null,
            "overflow_x": null,
            "overflow_y": null,
            "padding": null,
            "right": null,
            "top": null,
            "visibility": null,
            "width": null
          }
        },
        "c6645045343645b0825f68cf9b056fcd": {
          "model_module": "@jupyter-widgets/controls",
          "model_name": "DescriptionStyleModel",
          "model_module_version": "1.5.0",
          "state": {
            "_model_module": "@jupyter-widgets/controls",
            "_model_module_version": "1.5.0",
            "_model_name": "DescriptionStyleModel",
            "_view_count": null,
            "_view_module": "@jupyter-widgets/base",
            "_view_module_version": "1.2.0",
            "_view_name": "StyleView",
            "description_width": ""
          }
        },
        "88424b0ba246490ca4729aebce9bd6d0": {
          "model_module": "@jupyter-widgets/controls",
          "model_name": "HBoxModel",
          "model_module_version": "1.5.0",
          "state": {
            "_dom_classes": [],
            "_model_module": "@jupyter-widgets/controls",
            "_model_module_version": "1.5.0",
            "_model_name": "HBoxModel",
            "_view_count": null,
            "_view_module": "@jupyter-widgets/controls",
            "_view_module_version": "1.5.0",
            "_view_name": "HBoxView",
            "box_style": "",
            "children": [
              "IPY_MODEL_8165900ed51943c789594f42eacbcf17",
              "IPY_MODEL_55c4420402a744b1bb17b22b67b20ecd",
              "IPY_MODEL_7c807e2b41834f8689537d22220d5e9f"
            ],
            "layout": "IPY_MODEL_7e6ce35c1ae74ee4a1be10875db0101b"
          }
        },
        "8165900ed51943c789594f42eacbcf17": {
          "model_module": "@jupyter-widgets/controls",
          "model_name": "HTMLModel",
          "model_module_version": "1.5.0",
          "state": {
            "_dom_classes": [],
            "_model_module": "@jupyter-widgets/controls",
            "_model_module_version": "1.5.0",
            "_model_name": "HTMLModel",
            "_view_count": null,
            "_view_module": "@jupyter-widgets/controls",
            "_view_module_version": "1.5.0",
            "_view_name": "HTMLView",
            "description": "",
            "description_tooltip": null,
            "layout": "IPY_MODEL_584f7558968a4609b20d5b2c1608984e",
            "placeholder": "​",
            "style": "IPY_MODEL_d2b99e2665bc4eafb15c50b9f00775b2",
            "value": "100%"
          }
        },
        "55c4420402a744b1bb17b22b67b20ecd": {
          "model_module": "@jupyter-widgets/controls",
          "model_name": "FloatProgressModel",
          "model_module_version": "1.5.0",
          "state": {
            "_dom_classes": [],
            "_model_module": "@jupyter-widgets/controls",
            "_model_module_version": "1.5.0",
            "_model_name": "FloatProgressModel",
            "_view_count": null,
            "_view_module": "@jupyter-widgets/controls",
            "_view_module_version": "1.5.0",
            "_view_name": "ProgressView",
            "bar_style": "success",
            "description": "",
            "description_tooltip": null,
            "layout": "IPY_MODEL_991938e16a374b46a78d86210e043f7f",
            "max": 300,
            "min": 0,
            "orientation": "horizontal",
            "style": "IPY_MODEL_d45d96d62e8e42bfa8ee4e4cbaebb95c",
            "value": 300
          }
        },
        "7c807e2b41834f8689537d22220d5e9f": {
          "model_module": "@jupyter-widgets/controls",
          "model_name": "HTMLModel",
          "model_module_version": "1.5.0",
          "state": {
            "_dom_classes": [],
            "_model_module": "@jupyter-widgets/controls",
            "_model_module_version": "1.5.0",
            "_model_name": "HTMLModel",
            "_view_count": null,
            "_view_module": "@jupyter-widgets/controls",
            "_view_module_version": "1.5.0",
            "_view_name": "HTMLView",
            "description": "",
            "description_tooltip": null,
            "layout": "IPY_MODEL_4c9aa0f47136406b8b6d1cf8f525f365",
            "placeholder": "​",
            "style": "IPY_MODEL_13fc40e09e964c1399ca8fc195bd3d14",
            "value": " 300/300 [05:02&lt;00:00,  1.03s/it, Energy=-6.8274+0.0000j ± 0.0096 [σ²=0.3891, R̂=1.0014]]"
          }
        },
        "7e6ce35c1ae74ee4a1be10875db0101b": {
          "model_module": "@jupyter-widgets/base",
          "model_name": "LayoutModel",
          "model_module_version": "1.2.0",
          "state": {
            "_model_module": "@jupyter-widgets/base",
            "_model_module_version": "1.2.0",
            "_model_name": "LayoutModel",
            "_view_count": null,
            "_view_module": "@jupyter-widgets/base",
            "_view_module_version": "1.2.0",
            "_view_name": "LayoutView",
            "align_content": null,
            "align_items": null,
            "align_self": null,
            "border": null,
            "bottom": null,
            "display": "inline-flex",
            "flex": null,
            "flex_flow": "row wrap",
            "grid_area": null,
            "grid_auto_columns": null,
            "grid_auto_flow": null,
            "grid_auto_rows": null,
            "grid_column": null,
            "grid_gap": null,
            "grid_row": null,
            "grid_template_areas": null,
            "grid_template_columns": null,
            "grid_template_rows": null,
            "height": null,
            "justify_content": null,
            "justify_items": null,
            "left": null,
            "margin": null,
            "max_height": null,
            "max_width": null,
            "min_height": null,
            "min_width": null,
            "object_fit": null,
            "object_position": null,
            "order": null,
            "overflow": null,
            "overflow_x": null,
            "overflow_y": null,
            "padding": null,
            "right": null,
            "top": null,
            "visibility": null,
            "width": "100%"
          }
        },
        "584f7558968a4609b20d5b2c1608984e": {
          "model_module": "@jupyter-widgets/base",
          "model_name": "LayoutModel",
          "model_module_version": "1.2.0",
          "state": {
            "_model_module": "@jupyter-widgets/base",
            "_model_module_version": "1.2.0",
            "_model_name": "LayoutModel",
            "_view_count": null,
            "_view_module": "@jupyter-widgets/base",
            "_view_module_version": "1.2.0",
            "_view_name": "LayoutView",
            "align_content": null,
            "align_items": null,
            "align_self": null,
            "border": null,
            "bottom": null,
            "display": null,
            "flex": null,
            "flex_flow": null,
            "grid_area": null,
            "grid_auto_columns": null,
            "grid_auto_flow": null,
            "grid_auto_rows": null,
            "grid_column": null,
            "grid_gap": null,
            "grid_row": null,
            "grid_template_areas": null,
            "grid_template_columns": null,
            "grid_template_rows": null,
            "height": null,
            "justify_content": null,
            "justify_items": null,
            "left": null,
            "margin": null,
            "max_height": null,
            "max_width": null,
            "min_height": null,
            "min_width": null,
            "object_fit": null,
            "object_position": null,
            "order": null,
            "overflow": null,
            "overflow_x": null,
            "overflow_y": null,
            "padding": null,
            "right": null,
            "top": null,
            "visibility": null,
            "width": null
          }
        },
        "d2b99e2665bc4eafb15c50b9f00775b2": {
          "model_module": "@jupyter-widgets/controls",
          "model_name": "DescriptionStyleModel",
          "model_module_version": "1.5.0",
          "state": {
            "_model_module": "@jupyter-widgets/controls",
            "_model_module_version": "1.5.0",
            "_model_name": "DescriptionStyleModel",
            "_view_count": null,
            "_view_module": "@jupyter-widgets/base",
            "_view_module_version": "1.2.0",
            "_view_name": "StyleView",
            "description_width": ""
          }
        },
        "991938e16a374b46a78d86210e043f7f": {
          "model_module": "@jupyter-widgets/base",
          "model_name": "LayoutModel",
          "model_module_version": "1.2.0",
          "state": {
            "_model_module": "@jupyter-widgets/base",
            "_model_module_version": "1.2.0",
            "_model_name": "LayoutModel",
            "_view_count": null,
            "_view_module": "@jupyter-widgets/base",
            "_view_module_version": "1.2.0",
            "_view_name": "LayoutView",
            "align_content": null,
            "align_items": null,
            "align_self": null,
            "border": null,
            "bottom": null,
            "display": null,
            "flex": "2",
            "flex_flow": null,
            "grid_area": null,
            "grid_auto_columns": null,
            "grid_auto_flow": null,
            "grid_auto_rows": null,
            "grid_column": null,
            "grid_gap": null,
            "grid_row": null,
            "grid_template_areas": null,
            "grid_template_columns": null,
            "grid_template_rows": null,
            "height": null,
            "justify_content": null,
            "justify_items": null,
            "left": null,
            "margin": null,
            "max_height": null,
            "max_width": null,
            "min_height": null,
            "min_width": null,
            "object_fit": null,
            "object_position": null,
            "order": null,
            "overflow": null,
            "overflow_x": null,
            "overflow_y": null,
            "padding": null,
            "right": null,
            "top": null,
            "visibility": null,
            "width": null
          }
        },
        "d45d96d62e8e42bfa8ee4e4cbaebb95c": {
          "model_module": "@jupyter-widgets/controls",
          "model_name": "ProgressStyleModel",
          "model_module_version": "1.5.0",
          "state": {
            "_model_module": "@jupyter-widgets/controls",
            "_model_module_version": "1.5.0",
            "_model_name": "ProgressStyleModel",
            "_view_count": null,
            "_view_module": "@jupyter-widgets/base",
            "_view_module_version": "1.2.0",
            "_view_name": "StyleView",
            "bar_color": null,
            "description_width": ""
          }
        },
        "4c9aa0f47136406b8b6d1cf8f525f365": {
          "model_module": "@jupyter-widgets/base",
          "model_name": "LayoutModel",
          "model_module_version": "1.2.0",
          "state": {
            "_model_module": "@jupyter-widgets/base",
            "_model_module_version": "1.2.0",
            "_model_name": "LayoutModel",
            "_view_count": null,
            "_view_module": "@jupyter-widgets/base",
            "_view_module_version": "1.2.0",
            "_view_name": "LayoutView",
            "align_content": null,
            "align_items": null,
            "align_self": null,
            "border": null,
            "bottom": null,
            "display": null,
            "flex": null,
            "flex_flow": null,
            "grid_area": null,
            "grid_auto_columns": null,
            "grid_auto_flow": null,
            "grid_auto_rows": null,
            "grid_column": null,
            "grid_gap": null,
            "grid_row": null,
            "grid_template_areas": null,
            "grid_template_columns": null,
            "grid_template_rows": null,
            "height": null,
            "justify_content": null,
            "justify_items": null,
            "left": null,
            "margin": null,
            "max_height": null,
            "max_width": null,
            "min_height": null,
            "min_width": null,
            "object_fit": null,
            "object_position": null,
            "order": null,
            "overflow": null,
            "overflow_x": null,
            "overflow_y": null,
            "padding": null,
            "right": null,
            "top": null,
            "visibility": null,
            "width": null
          }
        },
        "13fc40e09e964c1399ca8fc195bd3d14": {
          "model_module": "@jupyter-widgets/controls",
          "model_name": "DescriptionStyleModel",
          "model_module_version": "1.5.0",
          "state": {
            "_model_module": "@jupyter-widgets/controls",
            "_model_module_version": "1.5.0",
            "_model_name": "DescriptionStyleModel",
            "_view_count": null,
            "_view_module": "@jupyter-widgets/base",
            "_view_module_version": "1.2.0",
            "_view_name": "StyleView",
            "description_width": ""
          }
        },
        "6e66bcf8822a4fb09a756d47817141bf": {
          "model_module": "@jupyter-widgets/controls",
          "model_name": "HBoxModel",
          "model_module_version": "1.5.0",
          "state": {
            "_dom_classes": [],
            "_model_module": "@jupyter-widgets/controls",
            "_model_module_version": "1.5.0",
            "_model_name": "HBoxModel",
            "_view_count": null,
            "_view_module": "@jupyter-widgets/controls",
            "_view_module_version": "1.5.0",
            "_view_name": "HBoxView",
            "box_style": "",
            "children": [
              "IPY_MODEL_c52a429804ab486b94eed018ca42c505",
              "IPY_MODEL_12572101097c4ffea7fc2dec5c4b25f2",
              "IPY_MODEL_521d0ae728ec45688c04411ab4343c9c"
            ],
            "layout": "IPY_MODEL_beedb8e608964c899a0e3404224e443d"
          }
        },
        "c52a429804ab486b94eed018ca42c505": {
          "model_module": "@jupyter-widgets/controls",
          "model_name": "HTMLModel",
          "model_module_version": "1.5.0",
          "state": {
            "_dom_classes": [],
            "_model_module": "@jupyter-widgets/controls",
            "_model_module_version": "1.5.0",
            "_model_name": "HTMLModel",
            "_view_count": null,
            "_view_module": "@jupyter-widgets/controls",
            "_view_module_version": "1.5.0",
            "_view_name": "HTMLView",
            "description": "",
            "description_tooltip": null,
            "layout": "IPY_MODEL_ef7339e8fb7e4ab48d0d2ec1bf122d83",
            "placeholder": "​",
            "style": "IPY_MODEL_96ae85dfa2f7458d91fd4e2ffd065fe9",
            "value": "100%"
          }
        },
        "12572101097c4ffea7fc2dec5c4b25f2": {
          "model_module": "@jupyter-widgets/controls",
          "model_name": "FloatProgressModel",
          "model_module_version": "1.5.0",
          "state": {
            "_dom_classes": [],
            "_model_module": "@jupyter-widgets/controls",
            "_model_module_version": "1.5.0",
            "_model_name": "FloatProgressModel",
            "_view_count": null,
            "_view_module": "@jupyter-widgets/controls",
            "_view_module_version": "1.5.0",
            "_view_name": "ProgressView",
            "bar_style": "success",
            "description": "",
            "description_tooltip": null,
            "layout": "IPY_MODEL_3f854953e76a4e6db0b49299bbb276f8",
            "max": 300,
            "min": 0,
            "orientation": "horizontal",
            "style": "IPY_MODEL_a105f678343148c78035aa5234cd30ac",
            "value": 300
          }
        },
        "521d0ae728ec45688c04411ab4343c9c": {
          "model_module": "@jupyter-widgets/controls",
          "model_name": "HTMLModel",
          "model_module_version": "1.5.0",
          "state": {
            "_dom_classes": [],
            "_model_module": "@jupyter-widgets/controls",
            "_model_module_version": "1.5.0",
            "_model_name": "HTMLModel",
            "_view_count": null,
            "_view_module": "@jupyter-widgets/controls",
            "_view_module_version": "1.5.0",
            "_view_name": "HTMLView",
            "description": "",
            "description_tooltip": null,
            "layout": "IPY_MODEL_65f9c25769564c21a54725350069a9a7",
            "placeholder": "​",
            "style": "IPY_MODEL_d80ec86362de4313b86e08cf46f0301e",
            "value": " 300/300 [04:03&lt;00:00,  1.28s/it, Energy=3.12 ± 0.26 [σ²=100.82, R̂=1.0257]]"
          }
        },
        "beedb8e608964c899a0e3404224e443d": {
          "model_module": "@jupyter-widgets/base",
          "model_name": "LayoutModel",
          "model_module_version": "1.2.0",
          "state": {
            "_model_module": "@jupyter-widgets/base",
            "_model_module_version": "1.2.0",
            "_model_name": "LayoutModel",
            "_view_count": null,
            "_view_module": "@jupyter-widgets/base",
            "_view_module_version": "1.2.0",
            "_view_name": "LayoutView",
            "align_content": null,
            "align_items": null,
            "align_self": null,
            "border": null,
            "bottom": null,
            "display": "inline-flex",
            "flex": null,
            "flex_flow": "row wrap",
            "grid_area": null,
            "grid_auto_columns": null,
            "grid_auto_flow": null,
            "grid_auto_rows": null,
            "grid_column": null,
            "grid_gap": null,
            "grid_row": null,
            "grid_template_areas": null,
            "grid_template_columns": null,
            "grid_template_rows": null,
            "height": null,
            "justify_content": null,
            "justify_items": null,
            "left": null,
            "margin": null,
            "max_height": null,
            "max_width": null,
            "min_height": null,
            "min_width": null,
            "object_fit": null,
            "object_position": null,
            "order": null,
            "overflow": null,
            "overflow_x": null,
            "overflow_y": null,
            "padding": null,
            "right": null,
            "top": null,
            "visibility": null,
            "width": "100%"
          }
        },
        "ef7339e8fb7e4ab48d0d2ec1bf122d83": {
          "model_module": "@jupyter-widgets/base",
          "model_name": "LayoutModel",
          "model_module_version": "1.2.0",
          "state": {
            "_model_module": "@jupyter-widgets/base",
            "_model_module_version": "1.2.0",
            "_model_name": "LayoutModel",
            "_view_count": null,
            "_view_module": "@jupyter-widgets/base",
            "_view_module_version": "1.2.0",
            "_view_name": "LayoutView",
            "align_content": null,
            "align_items": null,
            "align_self": null,
            "border": null,
            "bottom": null,
            "display": null,
            "flex": null,
            "flex_flow": null,
            "grid_area": null,
            "grid_auto_columns": null,
            "grid_auto_flow": null,
            "grid_auto_rows": null,
            "grid_column": null,
            "grid_gap": null,
            "grid_row": null,
            "grid_template_areas": null,
            "grid_template_columns": null,
            "grid_template_rows": null,
            "height": null,
            "justify_content": null,
            "justify_items": null,
            "left": null,
            "margin": null,
            "max_height": null,
            "max_width": null,
            "min_height": null,
            "min_width": null,
            "object_fit": null,
            "object_position": null,
            "order": null,
            "overflow": null,
            "overflow_x": null,
            "overflow_y": null,
            "padding": null,
            "right": null,
            "top": null,
            "visibility": null,
            "width": null
          }
        },
        "96ae85dfa2f7458d91fd4e2ffd065fe9": {
          "model_module": "@jupyter-widgets/controls",
          "model_name": "DescriptionStyleModel",
          "model_module_version": "1.5.0",
          "state": {
            "_model_module": "@jupyter-widgets/controls",
            "_model_module_version": "1.5.0",
            "_model_name": "DescriptionStyleModel",
            "_view_count": null,
            "_view_module": "@jupyter-widgets/base",
            "_view_module_version": "1.2.0",
            "_view_name": "StyleView",
            "description_width": ""
          }
        },
        "3f854953e76a4e6db0b49299bbb276f8": {
          "model_module": "@jupyter-widgets/base",
          "model_name": "LayoutModel",
          "model_module_version": "1.2.0",
          "state": {
            "_model_module": "@jupyter-widgets/base",
            "_model_module_version": "1.2.0",
            "_model_name": "LayoutModel",
            "_view_count": null,
            "_view_module": "@jupyter-widgets/base",
            "_view_module_version": "1.2.0",
            "_view_name": "LayoutView",
            "align_content": null,
            "align_items": null,
            "align_self": null,
            "border": null,
            "bottom": null,
            "display": null,
            "flex": "2",
            "flex_flow": null,
            "grid_area": null,
            "grid_auto_columns": null,
            "grid_auto_flow": null,
            "grid_auto_rows": null,
            "grid_column": null,
            "grid_gap": null,
            "grid_row": null,
            "grid_template_areas": null,
            "grid_template_columns": null,
            "grid_template_rows": null,
            "height": null,
            "justify_content": null,
            "justify_items": null,
            "left": null,
            "margin": null,
            "max_height": null,
            "max_width": null,
            "min_height": null,
            "min_width": null,
            "object_fit": null,
            "object_position": null,
            "order": null,
            "overflow": null,
            "overflow_x": null,
            "overflow_y": null,
            "padding": null,
            "right": null,
            "top": null,
            "visibility": null,
            "width": null
          }
        },
        "a105f678343148c78035aa5234cd30ac": {
          "model_module": "@jupyter-widgets/controls",
          "model_name": "ProgressStyleModel",
          "model_module_version": "1.5.0",
          "state": {
            "_model_module": "@jupyter-widgets/controls",
            "_model_module_version": "1.5.0",
            "_model_name": "ProgressStyleModel",
            "_view_count": null,
            "_view_module": "@jupyter-widgets/base",
            "_view_module_version": "1.2.0",
            "_view_name": "StyleView",
            "bar_color": null,
            "description_width": ""
          }
        },
        "65f9c25769564c21a54725350069a9a7": {
          "model_module": "@jupyter-widgets/base",
          "model_name": "LayoutModel",
          "model_module_version": "1.2.0",
          "state": {
            "_model_module": "@jupyter-widgets/base",
            "_model_module_version": "1.2.0",
            "_model_name": "LayoutModel",
            "_view_count": null,
            "_view_module": "@jupyter-widgets/base",
            "_view_module_version": "1.2.0",
            "_view_name": "LayoutView",
            "align_content": null,
            "align_items": null,
            "align_self": null,
            "border": null,
            "bottom": null,
            "display": null,
            "flex": null,
            "flex_flow": null,
            "grid_area": null,
            "grid_auto_columns": null,
            "grid_auto_flow": null,
            "grid_auto_rows": null,
            "grid_column": null,
            "grid_gap": null,
            "grid_row": null,
            "grid_template_areas": null,
            "grid_template_columns": null,
            "grid_template_rows": null,
            "height": null,
            "justify_content": null,
            "justify_items": null,
            "left": null,
            "margin": null,
            "max_height": null,
            "max_width": null,
            "min_height": null,
            "min_width": null,
            "object_fit": null,
            "object_position": null,
            "order": null,
            "overflow": null,
            "overflow_x": null,
            "overflow_y": null,
            "padding": null,
            "right": null,
            "top": null,
            "visibility": null,
            "width": null
          }
        },
        "d80ec86362de4313b86e08cf46f0301e": {
          "model_module": "@jupyter-widgets/controls",
          "model_name": "DescriptionStyleModel",
          "model_module_version": "1.5.0",
          "state": {
            "_model_module": "@jupyter-widgets/controls",
            "_model_module_version": "1.5.0",
            "_model_name": "DescriptionStyleModel",
            "_view_count": null,
            "_view_module": "@jupyter-widgets/base",
            "_view_module_version": "1.2.0",
            "_view_name": "StyleView",
            "description_width": ""
          }
        }
      }
    }
  },
  "cells": [
    {
      "cell_type": "markdown",
      "metadata": {
        "id": "view-in-github",
        "colab_type": "text"
      },
      "source": [
        "<a href=\"https://colab.research.google.com/github/sudipta-on/Quantum-Many-Body-Problem-using-Netket/blob/main/Hubbard_Model.ipynb\" target=\"_parent\"><img src=\"https://colab.research.google.com/assets/colab-badge.svg\" alt=\"Open In Colab\"/></a>"
      ]
    },
    {
      "cell_type": "markdown",
      "source": [
        "# $$\\textbf{Fermionic Quantum Many-Body System using NetKet}$$\n",
        "$\\qquad \\qquad \\qquad\\qquad\\qquad\\qquad\\qquad\\qquad\\qquad\\qquad\\qquad\\qquad\\qquad\\qquad\\qquad \\text{ - Sudipta Majumder}$\n",
        "\n",
        "$17 $ $\\text{July},2024$"
      ],
      "metadata": {
        "id": "VOGgOASsRxN8"
      }
    },
    {
      "cell_type": "markdown",
      "source": [
        "We will start by introducing fermionic operators and how to work with them in NetKet. We will then proceed to implement and optimize three different wave functions:\n",
        "- a Slater determinant wave function,\n",
        "- a Neural Jastrow-Slater state, and\n",
        "- a Slater Backflow neural wave function."
      ],
      "metadata": {
        "id": "VUk0jnvkSj6J"
      }
    },
    {
      "cell_type": "markdown",
      "source": [
        "## 0. Installing and Importing NetKet"
      ],
      "metadata": {
        "id": "f91RPpokF_cZ"
      }
    },
    {
      "cell_type": "code",
      "source": [
        "!pip install netket --quiet --use-deprecated=legacy-resolver"
      ],
      "metadata": {
        "id": "Yv4xU17DTcOX"
      },
      "execution_count": null,
      "outputs": []
    },
    {
      "cell_type": "code",
      "source": [
        "import netket as nk\n",
        "import netket.experimental as nkx\n",
        "import time"
      ],
      "metadata": {
        "id": "hmhPeOQiTTtG"
      },
      "execution_count": null,
      "outputs": []
    },
    {
      "cell_type": "markdown",
      "source": [
        "Fermionic operators are fundamental to describing quantum systems with fermions (e.g., electrons). NetKet provides tools to work with these operators efficiently.\n",
        "We will work with a Hamiltonian of spinless fermions on a two-dimensional lattice:\n",
        "\n",
        "$$\n",
        "\\mathcal{H} = -t \\sum_{\\langle i,j \\rangle } \\left( c^{\\dagger}_i c_j + c^{\\dagger}_j c_i \\right ) + V \\sum_{\\langle i,j \\rangle } n_i n_j\n",
        "$$\n",
        "Here, $\\langle i,j \\rangle $ denotes nearest-neighbors on a square lattice of $N=L\\times L$ sites, $c_i (c^{\\dagger}_i)$ are destruction (creation) fermionic operators on site $i$, whereas $n_i=c^{\\dagger}_i c_i$ are density operators.\n",
        "\n",
        "## 1. Defining the lattice and the Hilbert space:"
      ],
      "metadata": {
        "id": "0OFv2_EiTVym"
      }
    },
    {
      "cell_type": "code",
      "source": [
        "L = 4  # Side of the square\n",
        "graph = nk.graph.Square(L)\n",
        "N = graph.n_nodes"
      ],
      "metadata": {
        "id": "Ny8gfmv9T6g4"
      },
      "execution_count": null,
      "outputs": []
    },
    {
      "cell_type": "code",
      "source": [
        "print(f'Total number of sites on the lattice: {N}')"
      ],
      "metadata": {
        "colab": {
          "base_uri": "https://localhost:8080/"
        },
        "id": "Mmyqjd_PUV7w",
        "outputId": "45affc93-1239-4107-b45a-c9718c3d96e0"
      },
      "execution_count": null,
      "outputs": [
        {
          "output_type": "stream",
          "name": "stdout",
          "text": [
            "Total number of sites on the lattice: 16\n"
          ]
        }
      ]
    },
    {
      "cell_type": "markdown",
      "source": [
        "We now define also the Hilbert space associated with a system of $N_f$ spinless fermions:"
      ],
      "metadata": {
        "id": "DPQVrpDtU1r6"
      }
    },
    {
      "cell_type": "code",
      "source": [
        "N_f = 5\n",
        "\n",
        "hi = nkx.hilbert.SpinOrbitalFermions(N, s=None, n_fermions=N_f)"
      ],
      "metadata": {
        "id": "otL6e-eaUhiB"
      },
      "execution_count": null,
      "outputs": []
    },
    {
      "cell_type": "markdown",
      "source": [
        "To describe the Hamiltonian of our quantum system, we need to work with the fermionic operators associated with the Hilbert space defined above. These operators include creation (cdag), annihilation (c), and number (nc) operators. We will use these operators to build our Hamiltonian."
      ],
      "metadata": {
        "id": "kRUNcuIOV3l-"
      }
    },
    {
      "cell_type": "code",
      "source": [
        "from netket.experimental.operator.fermion import destroy as c\n",
        "from netket.experimental.operator.fermion import create as cdag\n",
        "from netket.experimental.operator.fermion import number as nc"
      ],
      "metadata": {
        "id": "sotYCrNEV6OL"
      },
      "execution_count": null,
      "outputs": []
    },
    {
      "cell_type": "markdown",
      "source": [
        "With these operators, we can now construct the Hamiltonian for our system. In this example, we have a tight-binding hopping term proportional to $t$ and a density-density interaction term proportional to $V$. We can easily define the Hamiltonian by adding terms one by one looping over the edges of the lattice:\n"
      ],
      "metadata": {
        "id": "EfEBjkO1W4y4"
      }
    },
    {
      "cell_type": "code",
      "source": [
        "t = 1.0\n",
        "V = 4.0\n",
        "\n",
        "H = 0.0\n",
        "for (i, j) in graph.edges():\n",
        "    H -= t * (cdag(hi,i) * c(hi,j) + cdag(hi,j) * c(hi,i))  # look on the order of cdag and c\n",
        "    H += V * nc(hi,i) * nc(hi,j)"
      ],
      "metadata": {
        "id": "aMYxI3MAWxpL"
      },
      "execution_count": null,
      "outputs": []
    },
    {
      "cell_type": "markdown",
      "source": [
        "## 2. Exact Diagonalization or Configuration Interaction method\n",
        "\n",
        "Since the system is relatively small, the Hilbert space is also not too big, and we can still use exact diagonalization to compute the ground state energy. This is achieved by first converting the Hamiltonian to a sparse matrix, and then diagonalizing it with scipy:"
      ],
      "metadata": {
        "id": "ZgaMQmCOXhyq"
      }
    },
    {
      "cell_type": "code",
      "source": [
        "# Convert the Hamiltonian to a Sparse matrix\n",
        "sp_h = H.to_sparse()"
      ],
      "metadata": {
        "id": "E0fcOBBXYDbx"
      },
      "execution_count": null,
      "outputs": []
    },
    {
      "cell_type": "code",
      "source": [
        "from scipy.sparse.linalg import eigsh\n",
        "\n",
        "eig_vals, eig_vecs = eigsh(sp_h, k = 2, which = 'SA')\n",
        "\n",
        "E_gs = eig_vals[0]\n",
        "\n",
        "print(f'Exact ground state energy: {E_gs}')"
      ],
      "metadata": {
        "colab": {
          "base_uri": "https://localhost:8080/"
        },
        "id": "e2mCHd3_YTfl",
        "outputId": "30b9edd8-8a8e-41f6-d1c0-0f0ad5ee7827"
      },
      "execution_count": null,
      "outputs": [
        {
          "output_type": "stream",
          "name": "stdout",
          "text": [
            "Exact ground state energy: -6.8590135543195805\n"
          ]
        }
      ]
    },
    {
      "cell_type": "markdown",
      "source": [
        "## 3. Slater Determinant\n",
        "\n",
        "Now, let's move on to defining and optimizing a simple variational wave function based on a mean-field state: the Slater determinant.\n",
        "\n",
        "Formally, we can write the state as filling up $N_{\\mathrm{f}}$ orbitals:\n",
        "\n",
        "$$\n",
        "|\\Phi_s\\rangle = \\Pi_{\\alpha=1}^{N_{\\mathrm{f}}} \\phi^{\\dagger}_{\\alpha} |0\\rangle,\n",
        "$$\n",
        "\n",
        "where $|0\\rangle$ is the vacuum state and the single-particle orbitals are created by the operators $\\phi^{\\dagger}_{\\alpha}$. In turn, these creation operators are, in general, a linear combination of the original creation operators:\n",
        "\n",
        "$$\n",
        "\\phi^{\\dagger}_{\\alpha} = \\sum_i M_{\\alpha, i} c^{\\dagger}_i.\n",
        "$$\n",
        "\n",
        "The rectangular ($N\\times N_{\\mathrm{f}}$) matrix $M$ constitutes a set of free variational parameters (Where $N$ is the number of orbitals and $N_{\\mathrm{f}}$ the number of fermions).\n",
        "\n",
        "It can be shown that the amplitudes of the wave function in the computational basis $|n_1,\\dots,n_N\\rangle$ are determinants:\n",
        "\n",
        "$$\n",
        "\\langle n_1,\\dots,n_N |\\Phi_s\\rangle = \\mathrm{det}\\left\\{A(\\bf{n})\\right\\},\n",
        "$$\n",
        "\n",
        "where the $N_{\\mathrm{f}}\\times N_{\\mathrm{f}}$ matrix is\n",
        "\n",
        "$$\n",
        "A(n)_{\\alpha,\\beta} = M_{R_{\\alpha}(\\bf{n}), \\beta},\n",
        "$$\n",
        "\n",
        "where $R_{\\alpha}(\\bf{n})$ denotes the index of the $\\alpha$-th occupied site (non-zero $n_i$) in $\\bf{n}=(n_1,\\dots,n_N)$.\n",
        "This can also be interepted as selecting $N_\\mathrm{f}$ rows of the matrix $M$ in corresponding to the $N_\\mathrm{f}$ occupied orbitals.\n"
      ],
      "metadata": {
        "id": "yTFI7TNiYvIW"
      }
    },
    {
      "cell_type": "markdown",
      "source": [
        "To write down this variational amplitudes, we start by defining a convenience function to compute the logarithm of the determinant of a matrix, in the complex domain, and using jax:"
      ],
      "metadata": {
        "id": "Wtsb4LT1YpVF"
      }
    },
    {
      "cell_type": "code",
      "source": [
        "import jax\n",
        "import jax.numpy as jnp\n",
        "\n",
        "def _logdet_cmplx(A):\n",
        "    '''We can also call this function from the netket module as `nk.jax.logdet_cmplx`. '''\n",
        "    sign, logabsdet = jnp.linalg.slogdet(A)\n",
        "    return logabsdet.astype(complex) + jnp.log(sign.astype(complex))"
      ],
      "metadata": {
        "id": "IzfqYhQWZCSY"
      },
      "execution_count": null,
      "outputs": []
    },
    {
      "cell_type": "code",
      "source": [
        "import flax.linen as nn\n",
        "from netket.utils.types import NNInitFunc\n",
        "from netket.nn.masked_linear import default_kernel_init\n",
        "from typing import Any, Callable, Sequence\n",
        "from functools import partial\n",
        "DType = Any\n",
        "\n",
        "\n",
        "class LogSlaterDeterminant(nn.Module):\n",
        "    hilbert: nkx.hilbert.SpinOrbitalFermions\n",
        "    kernel_init: NNInitFunc = default_kernel_init\n",
        "    param_dtype: DType = float\n",
        "\n",
        "    @nn.compact\n",
        "    def __call__(self, n):\n",
        "        # the N x Nf matrix of the orbitals\n",
        "        M = self.param('M', self.kernel_init, (self.hilbert.n_orbitals, self.hilbert.n_fermions,), self.param_dtype)\n",
        "\n",
        "        @partial(jnp.vectorize, signature='(n)->()')\n",
        "        def log_sd(n):\n",
        "            #Find the positions of the occupied orbitals\n",
        "            R = n.nonzero(size=self.hilbert.n_fermions)[0]\n",
        "\n",
        "            # Extract the Nf x Nf submatrix of M corresponding to the occupied orbitals\n",
        "            A = M[R]\n",
        "\n",
        "            return _logdet_cmplx(A)\n",
        "\n",
        "        return log_sd(n)"
      ],
      "metadata": {
        "id": "_3IZM1P-Zplx"
      },
      "execution_count": null,
      "outputs": []
    },
    {
      "cell_type": "markdown",
      "source": [
        "This Flax module defines the variational parameters to be the rectangular matrix $M$. In general, these parameters can be real or complex valued. In the following we will work with real parameters, for simplicity."
      ],
      "metadata": {
        "id": "lJaSo7LWcIFW"
      }
    },
    {
      "cell_type": "markdown",
      "source": [
        "### Optimizing the Slater Determinant Wave Function\n",
        "\n",
        "We now create an instance of the `LogSlaterDeterminant` class and of a suitable Monte Carlo Sampler to obtain expected values using Variational Monte Carlo:"
      ],
      "metadata": {
        "id": "CS0aKZ7dsbNC"
      }
    },
    {
      "cell_type": "code",
      "source": [
        "# Create the Slater determinant model\n",
        "model = LogSlaterDeterminant(hi)\n",
        "\n",
        "# Define the Metropolis-Hastings sampler\n",
        "sa = nk.sampler.MetropolisExchange(hi, graph=graph)"
      ],
      "metadata": {
        "id": "g6yFmVKzso8m"
      },
      "execution_count": null,
      "outputs": []
    },
    {
      "cell_type": "markdown",
      "source": [
        "We also define the `VariationalState` necessary to compute expected values over the variational state using Monte Carlo sampling. We will use a total of 16 independent Markov Chains and $2^{12}$ samples per chain. We will also discard the first 16 samples of each chain, to allow thermalization:"
      ],
      "metadata": {
        "id": "h2n11fKhsyCu"
      }
    },
    {
      "cell_type": "code",
      "source": [
        "vstate = nk.vqs.MCState(sampler=sa, model=model, n_samples = 2**12, n_discard_per_chain=16)"
      ],
      "metadata": {
        "id": "72IW8QxitINf"
      },
      "execution_count": null,
      "outputs": []
    },
    {
      "cell_type": "code",
      "source": [
        "vstate.samples.shape"
      ],
      "metadata": {
        "colab": {
          "base_uri": "https://localhost:8080/"
        },
        "id": "cpImOjOGtfFh",
        "outputId": "fcca8094-9793-4d34-b521-5572dfc2e4aa"
      },
      "execution_count": null,
      "outputs": [
        {
          "output_type": "execute_result",
          "data": {
            "text/plain": [
              "(16, 256, 16)"
            ]
          },
          "metadata": {},
          "execution_count": 14
        }
      ]
    },
    {
      "cell_type": "code",
      "source": [
        "vstate.samples[0,0]"
      ],
      "metadata": {
        "colab": {
          "base_uri": "https://localhost:8080/"
        },
        "id": "kQVLOp414d8N",
        "outputId": "fb182238-1d84-4325-9a16-5cc53515e410"
      },
      "execution_count": null,
      "outputs": [
        {
          "output_type": "execute_result",
          "data": {
            "text/plain": [
              "Array([0., 1., 0., 0., 1., 0., 1., 0., 1., 0., 0., 0., 0., 0., 1., 0.],      dtype=float64)"
            ]
          },
          "metadata": {},
          "execution_count": 15
        }
      ]
    },
    {
      "cell_type": "code",
      "source": [
        "# Define the optimizer\n",
        "op = nk.optimizer.Sgd(learning_rate=0.05)\n",
        "\n",
        "# Define a preconditioner\n",
        "preconditioner = nk.optimizer.SR(diag_shift=0.05)\n",
        "\n",
        "# Create the VMC (Variational Monte Carlo) driver\n",
        "gs = nk.VMC(H, op, variational_state=vstate, preconditioner=preconditioner)"
      ],
      "metadata": {
        "id": "Mb3Cd9bg4kF_"
      },
      "execution_count": null,
      "outputs": []
    },
    {
      "cell_type": "code",
      "source": [
        "# Construct the logger to visualize the data later on\n",
        "slater_log=nk.logging.RuntimeLog()\n",
        "\n",
        "# Run the optimization for 300 iterations\n",
        "start = time.time()\n",
        "gs.run(n_iter=300, out=slater_log)\n",
        "end = time.time()\n",
        "sd_time = end - start\n",
        "print(\"## Slater Determinant Wave function\")\n",
        "print(f\"Time taken: {sd_time} seconds\")\n",
        "\n",
        "sd_energy = vstate.expect(H)\n",
        "sd_error = abs((sd_energy.mean - E_gs)/E_gs)\n",
        "print(f\"Optimized energy : {sd_energy}\")\n",
        "print(f\"relative error   : {sd_error}\")"
      ],
      "metadata": {
        "colab": {
          "base_uri": "https://localhost:8080/",
          "height": 118,
          "referenced_widgets": [
            "76626887be954fd9afadab4ae56274b4",
            "fc3e4c33478f454c94a2e3e69dc39f4e",
            "53a8fd73c5204c4196d12e769462cb4c",
            "e7485b1c1e6946cb9638390dcc6f173f",
            "c982115ef4dc4c0cb233d43b99c724a7",
            "c6c0b2f77e624d5699ab58192b356756",
            "74502d17586d4cc6ae999c9062d0ba11",
            "62ebbd92deb041929f9c98c3c2168c7a",
            "356bc3e731cd4987a56ccbf302d041db",
            "2ade82180263400ca276cc5611915977",
            "f7deaf80fe80442ea73100cccf7b8705"
          ]
        },
        "id": "i8feP9ml5f2u",
        "outputId": "6e9d65f7-5fec-4942-a2d3-e4157358afb3"
      },
      "execution_count": null,
      "outputs": [
        {
          "output_type": "display_data",
          "data": {
            "text/plain": [
              "  0%|          | 0/300 [00:00<?, ?it/s]"
            ],
            "application/vnd.jupyter.widget-view+json": {
              "version_major": 2,
              "version_minor": 0,
              "model_id": "76626887be954fd9afadab4ae56274b4"
            }
          },
          "metadata": {}
        },
        {
          "output_type": "stream",
          "name": "stdout",
          "text": [
            "## Slater Determinant Wave function\n",
            "Time taken: 265.2650525569916 seconds\n",
            "Optimized energy : -5.089+0.000j ± 0.034 [σ²=4.353, R̂=1.0005]\n",
            "relative error   : 0.2580067192020388\n"
          ]
        }
      ]
    },
    {
      "cell_type": "markdown",
      "source": [
        "The mean field energy of the Slater Determinant is about 25% off in this case where interactions are strong, thus far from the single-particle regime in which the Slater Determinant is accurate."
      ],
      "metadata": {
        "id": "M78nqXEl5xwZ"
      }
    },
    {
      "cell_type": "markdown",
      "source": [
        "## 4. Neural Jastrow-Slater Wave Function\n",
        "\n",
        "To improve on the simple mean field wave function considered above, we can construct a variational state that is the product of a Slater determinant times a many-body neural Jastrow factor :\n",
        "\n",
        "$$\n",
        "\\langle n_1,\\dots,n_N |\\Phi_s\\rangle \\times \\exp(J(\\bf{n})),\n",
        "$$\n",
        "\n",
        "where $J(\\bf{n})$ is parameterized via a suitable neural network taking as inputs the occupation numbers $\\bf{n}=(n_1,\\dots,n_N)$ and returning a scalar. See also References [2] and [3], for example choices of the neural network part.\n",
        "\n",
        "In the following, we will parameterize the neural Jastrow with a simple two-layer feedforward network consisting of real parameters only. This means that the neural Jastrow will not be able to change the overall sign of the wave function, but it will nonetheless be able to capture strong correlations by modifying the absolute value of the wave function amplitudes.\n",
        "\n",
        "We define the corresponding variational wave function in the following Flax class:"
      ],
      "metadata": {
        "id": "NF4oOeTkY2Ii"
      }
    },
    {
      "cell_type": "code",
      "source": [
        "class LogNeuralJastrowSlater(nn.Module):\n",
        "    hilbert: nkx.hilbert.SpinOrbitalFermions\n",
        "    hidden_units: int\n",
        "    kernel_init: NNInitFunc = default_kernel_init\n",
        "    param_dtype: DType = float\n",
        "\n",
        "    @nn.compact\n",
        "    def __call__(self, n):\n",
        "\n",
        "        @partial(jnp.vectorize, signature='(n)->()')\n",
        "        def log_wf(n):\n",
        "            #Bare Slater Determinant (N x Nf matrix of the orbital amplitudes)\n",
        "            M = self.param('M', self.kernel_init, (self.hilbert.n_orbitals, self.hilbert.n_fermions,), self.param_dtype)\n",
        "\n",
        "            #Construct the Neural Jastrow\n",
        "            J = nn.Dense(self.hidden_units, param_dtype=self.param_dtype)(n)\n",
        "            J = jax.nn.tanh(J)\n",
        "            J = J.sum()\n",
        "\n",
        "            # Find the positions of the occupied orbitals\n",
        "            R = n.nonzero(size=self.hilbert.n_fermions)[0]\n",
        "            # Select the N rows of M corresponding to the occupied orbitals, obtaining the Nf x Nf slater matrix\n",
        "            A = M[R]\n",
        "            # compute the (log) determinant and add the Jastrow\n",
        "            # (when exponentiating this becomes a product of the slater and jastrow terms)\n",
        "            return _logdet_cmplx(A)+J\n",
        "\n",
        "        return log_wf(n)"
      ],
      "metadata": {
        "id": "HIg5r33656hq"
      },
      "execution_count": null,
      "outputs": []
    },
    {
      "cell_type": "code",
      "source": [
        "# Create a Neural Jastrow Slater wave function\n",
        "model = LogNeuralJastrowSlater(hi, hidden_units=N)\n",
        "\n",
        "# Define a Metropolis exchange sampler\n",
        "sa = nk.sampler.MetropolisExchange(hi, graph=graph)\n",
        "\n",
        "# Define an optimizer\n",
        "op = nk.optimizer.Sgd(learning_rate=0.05)\n",
        "\n",
        "# Create a variational state\n",
        "vstate = nk.vqs.MCState(sa, model, n_samples=2**12, n_discard_per_chain=16)\n",
        "\n",
        "# Create a Variational Monte Carlo driver\n",
        "preconditioner = nk.optimizer.SR(diag_shift=0.05)\n",
        "gs = nk.VMC(H, op, variational_state=vstate, preconditioner=preconditioner)\n",
        "\n",
        "# Construct the logger to visualize the data later on\n",
        "nj_log=nk.logging.RuntimeLog()\n",
        "\n",
        "# Run the optimization for 300 iterations\n",
        "start = time.time()\n",
        "gs.run(n_iter=300, out=nj_log)\n",
        "end = time.time()\n",
        "nj_time = end - start\n",
        "print(\"## Neural Jastrow Wave function\")\n",
        "print(f\"Time taken: {nj_time} seconds\")\n",
        "\n",
        "nj_energy = vstate.expect(H)\n",
        "nj_error = abs((nj_energy.mean - E_gs)/E_gs)\n",
        "print(f\"Optimized energy : {nj_energy}\")\n",
        "print(f\"relative error   : {nj_error}\")"
      ],
      "metadata": {
        "colab": {
          "base_uri": "https://localhost:8080/",
          "height": 118,
          "referenced_widgets": [
            "4b80d6486c2a428089650cb98c8253e0",
            "c3f0ad413664464183876032821d7290",
            "dc0f09cfce1b4ec0ad733a5d307a2eea",
            "60ad5a84d03c4539b2dc7ba1734b081c",
            "d190d1f164ab4c14ae4478f05e736472",
            "0cb63a9b3acf43b2909158a8b505ea9e",
            "6618c9e2d62d4e40bbb338f44134a14e",
            "f3e992b172f945c4ae9d97157317958f",
            "90c7b88f80b745ef8fc64b2494dd7549",
            "fed2d1f9220a4c628f981e6be3bdc8a0",
            "c6645045343645b0825f68cf9b056fcd"
          ]
        },
        "id": "r1KgY0-o5-Kx",
        "outputId": "8f85f093-702c-4a4c-e1d2-7aad516b7dde"
      },
      "execution_count": null,
      "outputs": [
        {
          "output_type": "display_data",
          "data": {
            "text/plain": [
              "  0%|          | 0/300 [00:00<?, ?it/s]"
            ],
            "application/vnd.jupyter.widget-view+json": {
              "version_major": 2,
              "version_minor": 0,
              "model_id": "4b80d6486c2a428089650cb98c8253e0"
            }
          },
          "metadata": {}
        },
        {
          "output_type": "stream",
          "name": "stdout",
          "text": [
            "## Neural Jastrow Wave function\n",
            "Time taken: 295.78839802742004 seconds\n",
            "Optimized energy : -6.814+0.000j ± 0.011 [σ²=0.523, R̂=1.0015]\n",
            "relative error   : 0.0065978970630699105\n"
          ]
        }
      ]
    },
    {
      "cell_type": "markdown",
      "source": [
        "## 5. Neural-Backflow Wave Function\n",
        "\n",
        "An alternative approach to go beyond the simple mean field approximation, and also effectively change the nodal structure of the wave functions is given by the Neural Backflow transformation of Reference [4].  \n",
        "The idea is to promote the matrix $M$ appearing in the Slater determinant to be a function of all the occupation numbers, through a neural network. Specifically, we take an additive form of the backflow transformation:\n",
        "\n",
        "$$\n",
        "M^{\\mathrm{bf}}_{\\alpha,i}(\\bf{n}) = M_{\\alpha, i} + F_{\\alpha,i}(\\bf{n})\n",
        "$$\n",
        "\n",
        "and parameterize $F$ with a multilayer perceptron taking $N$ inputs and having an output of $N\\times N_{\\mathrm{f}}$ numbers."
      ],
      "metadata": {
        "id": "3HoAEx-r6Ie8"
      }
    },
    {
      "cell_type": "code",
      "source": [
        "class LogNeuralBackflow(nn.Module):\n",
        "    hilbert: nkx.hilbert.SpinOrbitalFermions\n",
        "    hidden_units: int\n",
        "    kernel_init: NNInitFunc = default_kernel_init\n",
        "    param_dtype: DType = float\n",
        "\n",
        "    @nn.compact\n",
        "    def __call__(self, n):\n",
        "\n",
        "        @partial(jnp.vectorize, signature='(n)->()')\n",
        "        def log_sd(n):\n",
        "            #Bare Slater Determinant (N x Nf matrix of the orbital amplitudes)\n",
        "            M = self.param('M', self.kernel_init, (self.hilbert.n_orbitals, self.hilbert.n_fermions,), self.param_dtype)\n",
        "\n",
        "            # Construct the Backflow. Takes as input strings of $N$ occupation numbers, outputs an $N x Nf$ matrix\n",
        "            # that modifies the bare orbitals.\n",
        "            F = nn.Dense(self.hidden_units, param_dtype=self.param_dtype)(n)\n",
        "            F = jax.nn.tanh(F)\n",
        "            # last layer, outputs N x Nf values\n",
        "            F = nn.Dense(self.hilbert.n_orbitals * self.hilbert.n_fermions, param_dtype=self.param_dtype)(F)\n",
        "            # reshape into M and add\n",
        "            M += F.reshape(M.shape)\n",
        "\n",
        "            #Find the positions of the occupied, backflow-modified orbitals\n",
        "            R = n.nonzero(size=self.hilbert.n_fermions)[0]\n",
        "            A = M[R]\n",
        "            return _logdet_cmplx(A)\n",
        "\n",
        "        return log_sd(n)"
      ],
      "metadata": {
        "id": "A6i9_cER6LEF"
      },
      "execution_count": null,
      "outputs": []
    },
    {
      "cell_type": "code",
      "source": [
        "# Create a neural backflow wave function\n",
        "model = LogNeuralBackflow(hi, hidden_units=N)\n",
        "\n",
        "# Define a Metropolis exchange sampler\n",
        "sa = nk.sampler.MetropolisExchange(hi, graph=graph)\n",
        "\n",
        "# Define an optimizer\n",
        "op = nk.optimizer.Sgd(learning_rate=0.05)\n",
        "\n",
        "# Create a variational state\n",
        "vstate = nk.vqs.MCState(sa, model, n_samples=2**12, n_discard_per_chain=16)\n",
        "\n",
        "# Create a Variational Monte Carlo driver\n",
        "preconditioner = nk.optimizer.SR(diag_shift=0.05)\n",
        "gs = nk.VMC(H, op, variational_state=vstate, preconditioner=preconditioner)\n",
        "\n",
        "# Construct the logger to visualize the data later on\n",
        "bf_log=nk.logging.RuntimeLog()\n",
        "\n",
        "# Run the optimization for 300 iterations\n",
        "start = time.time()\n",
        "gs.run(n_iter=300, out=bf_log)\n",
        "end = time.time()\n",
        "bf_time = end - start\n",
        "print(\"## Neural Backflow Wave function\")\n",
        "print(f\"Time taken: {bf_time} seconds\")\n",
        "\n",
        "bf_energy = vstate.expect(H)\n",
        "bf_error = abs((bf_energy.mean - E_gs)/E_gs)\n",
        "print(f\"Optimized energy : {bf_energy}\")\n",
        "print(f\"relative error   : {bf_error}\")"
      ],
      "metadata": {
        "colab": {
          "base_uri": "https://localhost:8080/",
          "height": 118,
          "referenced_widgets": [
            "88424b0ba246490ca4729aebce9bd6d0",
            "8165900ed51943c789594f42eacbcf17",
            "55c4420402a744b1bb17b22b67b20ecd",
            "7c807e2b41834f8689537d22220d5e9f",
            "7e6ce35c1ae74ee4a1be10875db0101b",
            "584f7558968a4609b20d5b2c1608984e",
            "d2b99e2665bc4eafb15c50b9f00775b2",
            "991938e16a374b46a78d86210e043f7f",
            "d45d96d62e8e42bfa8ee4e4cbaebb95c",
            "4c9aa0f47136406b8b6d1cf8f525f365",
            "13fc40e09e964c1399ca8fc195bd3d14"
          ]
        },
        "id": "kPWsWcfq6OCL",
        "outputId": "c6ae6cf9-6370-460a-db2d-7f5d32be9d5e"
      },
      "execution_count": null,
      "outputs": [
        {
          "output_type": "display_data",
          "data": {
            "text/plain": [
              "  0%|          | 0/300 [00:00<?, ?it/s]"
            ],
            "application/vnd.jupyter.widget-view+json": {
              "version_major": 2,
              "version_minor": 0,
              "model_id": "88424b0ba246490ca4729aebce9bd6d0"
            }
          },
          "metadata": {}
        },
        {
          "output_type": "stream",
          "name": "stdout",
          "text": [
            "## Neural Backflow Wave function\n",
            "Time taken: 309.69594168663025 seconds\n",
            "Optimized energy : -6.833+0.000j ± 0.010 [σ²=0.433, R̂=1.0018]\n",
            "relative error   : 0.003737125705837068\n"
          ]
        }
      ]
    },
    {
      "cell_type": "markdown",
      "source": [
        "Thus, as expected, the Neural Backflow achieves a significantly higher level of precision (~0.5%) versus the ~25% error of the mean field state. Notice that in this case the precision achieved is similar to the simpler Neural Jastrow-Slater wave function. However, the backflow result can be further improved by playing with the feedforward architecture defining the backflow, for example by increasing 'hidden_units' or by improving the optimization increasing the number of samples and/or the number of steps."
      ],
      "metadata": {
        "id": "RZJuxfmy6RSn"
      }
    },
    {
      "cell_type": "markdown",
      "source": [
        "## 6. Restricted Boltzmann Machine"
      ],
      "metadata": {
        "id": "y0a6FIvfVpyF"
      }
    },
    {
      "cell_type": "code",
      "source": [
        "# Create a RBM\n",
        "model = nk.models.RBM(alpha=1)\n",
        "\n",
        "# Define a Metropolis exchange sampler\n",
        "sa = nk.sampler.MetropolisExchange(hi, graph=graph)\n",
        "\n",
        "# Define an optimizer\n",
        "op = nk.optimizer.Sgd(learning_rate=0.05)\n",
        "\n",
        "# Create a variational state\n",
        "vstate = nk.vqs.MCState(sa, model, n_samples=2**12, n_discard_per_chain=16)\n",
        "\n",
        "# Create a Variational Monte Carlo driver\n",
        "preconditioner = nk.optimizer.SR(diag_shift=0.05)\n",
        "gs = nk.VMC(H, op, variational_state=vstate, preconditioner=preconditioner)\n",
        "\n",
        "# Construct the logger to visualize the data later on\n",
        "rbm_log=nk.logging.RuntimeLog()\n",
        "\n",
        "# Run the optimization for 300 iterations\n",
        "start = time.time()\n",
        "gs.run(n_iter=300, out=rbm_log)\n",
        "end = time.time()\n",
        "rbm_time = end - start\n",
        "print(\"## Restricted Boltzmann Machine\")\n",
        "print(f\"Time taken: {rbm_time} seconds\")\n",
        "\n",
        "rbm_energy = vstate.expect(H)\n",
        "rbm_error = abs((rbm_energy.mean - E_gs)/E_gs)\n",
        "print(f\"Optimized energy : {rbm_energy}\")\n",
        "print(f\"relative error   : {rbm_error}\")"
      ],
      "metadata": {
        "id": "2jVRgezcByYh",
        "colab": {
          "base_uri": "https://localhost:8080/",
          "height": 118,
          "referenced_widgets": [
            "6e66bcf8822a4fb09a756d47817141bf",
            "c52a429804ab486b94eed018ca42c505",
            "12572101097c4ffea7fc2dec5c4b25f2",
            "521d0ae728ec45688c04411ab4343c9c",
            "beedb8e608964c899a0e3404224e443d",
            "ef7339e8fb7e4ab48d0d2ec1bf122d83",
            "96ae85dfa2f7458d91fd4e2ffd065fe9",
            "3f854953e76a4e6db0b49299bbb276f8",
            "a105f678343148c78035aa5234cd30ac",
            "65f9c25769564c21a54725350069a9a7",
            "d80ec86362de4313b86e08cf46f0301e"
          ]
        },
        "outputId": "f42442a8-86af-416e-9b52-01dfc83a141b"
      },
      "execution_count": null,
      "outputs": [
        {
          "output_type": "display_data",
          "data": {
            "text/plain": [
              "  0%|          | 0/300 [00:00<?, ?it/s]"
            ],
            "application/vnd.jupyter.widget-view+json": {
              "version_major": 2,
              "version_minor": 0,
              "model_id": "6e66bcf8822a4fb09a756d47817141bf"
            }
          },
          "metadata": {}
        },
        {
          "output_type": "stream",
          "name": "stdout",
          "text": [
            "## Restricted Boltzmann Machine\n",
            "Time taken: 246.55730295181274 seconds\n",
            "Optimized energy : -2.932 ± 0.088 [σ²=14.795, R̂=1.0086]\n",
            "relative error   : 0.5724988898065432\n"
          ]
        }
      ]
    },
    {
      "cell_type": "markdown",
      "source": [
        "## 7. Plotting all together\n",
        "\n",
        "Finally, we can visualize the results obtained with the three wave functions we have covered in this Tutorial, by using the data logged during the optimization. In order to visualize what happened during the optimization, we can use the data that has been stored by the logger. There are several available loggers in NetKet, in the previous runs we have just used a simple one that stores the intermediate results as values in a dictionary."
      ],
      "metadata": {
        "id": "OGpoXEAF6VSz"
      }
    },
    {
      "cell_type": "code",
      "source": [
        "data_slater = slater_log.data\n",
        "print(data_slater)"
      ],
      "metadata": {
        "colab": {
          "base_uri": "https://localhost:8080/"
        },
        "id": "p7KH8aod6XdX",
        "outputId": "e5f239ce-15b8-44cc-ae03-39ac8adaf8dc"
      },
      "execution_count": null,
      "outputs": [
        {
          "output_type": "stream",
          "name": "stdout",
          "text": [
            "{'acceptance': History(\n",
            "   keys  = ['value'], \n",
            "   iters = [0, 1, ... 298, 299] (300 steps),\n",
            "), 'Energy': History(\n",
            "   keys  = ['Mean', 'Variance', 'Sigma', 'R_hat', 'TauCorr'], \n",
            "   iters = [0, 1, ... 298, 299] (300 steps),\n",
            ")}\n"
          ]
        }
      ]
    },
    {
      "cell_type": "code",
      "source": [
        "logged_data = (slater_log.data,nj_log.data,bf_log.data)\n",
        "labels = (\"Slater\",\"Neural Jastrow\",\"Neural Backflow\")\n",
        "\n",
        "from matplotlib import pyplot as plt\n",
        "import matplotlib\n",
        "\n",
        "%matplotlib inline\n",
        "matplotlib.rc('font', family = 'Serif', size = 14)\n",
        "matplotlib.rc('xtick', labelsize = 10)\n",
        "matplotlib.rc('ytick', labelsize = 10)\n",
        "matplotlib.rcParams['figure.figsize'] = (10,6)\n",
        "\n",
        "for data,label in zip(logged_data,labels):\n",
        "    plt.errorbar(data[\"Energy\"].iters, data[\"Energy\"].Mean.real, yerr=data[\"Energy\"].Sigma,label=label)\n",
        "\n",
        "plt.hlines([E_gs], xmin=0, xmax=300, color='black', label=\"Exact\")\n",
        "\n",
        "plt.xlabel('Iterations')\n",
        "plt.ylabel('Energy')\n",
        "plt.legend()\n",
        "plt.grid()\n",
        "plt.xlim(-10,300)\n",
        "#Zoomed Portion\n",
        "sub_axes = plt.axes([0.35,0.3,0.4,0.3])\n",
        "for data,label in zip(logged_data,labels):\n",
        "    sub_axes.errorbar(data[\"Energy\"].iters[10:], data[\"Energy\"].Mean.real[10:], yerr=data[\"Energy\"].Sigma[10:],label=label)\n",
        "sub_axes.axhline(y=eig_vals[0], xmin=0, xmax=logged_data[0][\"Energy\"].iters[-1], linewidth=2, color=\"k\", label=\"Exact\")\n",
        "plt.xlim(10,300)\n",
        "plt.grid()\n",
        "plt.show()"
      ],
      "metadata": {
        "colab": {
          "base_uri": "https://localhost:8080/",
          "height": 546
        },
        "id": "qiII2PtS6ZeZ",
        "outputId": "913d42db-a90c-4b4d-c55f-e59c993e8a1d"
      },
      "execution_count": null,
      "outputs": [
        {
          "output_type": "display_data",
          "data": {
            "text/plain": [
              "<Figure size 1000x600 with 2 Axes>"
            ],
            "image/png": "[encoded data removed]"
          },
          "metadata": {}
        }
      ]
    },
    {
      "cell_type": "code",
      "source": [
        "print(\"Time Required for Different methods/ ansatz for same number of iteration\")\n",
        "print(\"------------------------------------------------------------------\")\n",
        "print(f\"Slater Determinant  : {sd_time} seconds\")\n",
        "print(f\"Neural Jastrow      : {nj_time} seconds\")\n",
        "print(f\"Neural Backflow     : {bf_time} seconds\")\n",
        "print(\"------------------------------------------------------------------\")"
      ],
      "metadata": {
        "id": "7lzvBTMzPRCR",
        "colab": {
          "base_uri": "https://localhost:8080/"
        },
        "outputId": "ca102a89-e888-4061-8978-e8d98d541d49"
      },
      "execution_count": null,
      "outputs": [
        {
          "output_type": "stream",
          "name": "stdout",
          "text": [
            "Time Required for Different methods/ ansatz for same number of iteration\n",
            "------------------------------------------------------------------\n",
            "Slater Determinant  : 265.2650525569916 seconds\n",
            "Neural Jastrow      : 295.78839802742004 seconds\n",
            "Neural Backflow     : 309.69594168663025 seconds\n",
            "------------------------------------------------------------------\n"
          ]
        }
      ]
    },
    {
      "cell_type": "code",
      "source": [
        "print(\"Relative error for Different methods/ ansatz for same number of iteration\")\n",
        "print(\"------------------------------------------------------------------\")\n",
        "print(f\"Slater Determinant  : {sd_error} \")\n",
        "print(f\"Neural Jastrow      : {nj_error} \")\n",
        "print(f\"Neural Backflow     : {bf_error} \")\n",
        "print(\"------------------------------------------------------------------\")"
      ],
      "metadata": {
        "colab": {
          "base_uri": "https://localhost:8080/"
        },
        "id": "971rMmWyieYv",
        "outputId": "0f6aa1a2-947b-4b0f-bb32-ff008883e7b3"
      },
      "execution_count": null,
      "outputs": [
        {
          "output_type": "stream",
          "name": "stdout",
          "text": [
            "Relative error for Different methods/ ansatz for same number of iteration\n",
            "------------------------------------------------------------------\n",
            "Slater Determinant  : 0.2580067192020388 \n",
            "Neural Jastrow      : 0.0065978970630699105 \n",
            "Neural Backflow     : 0.003737125705837068 \n",
            "------------------------------------------------------------------\n"
          ]
        }
      ]
    },
    {
      "cell_type": "code",
      "source": [],
      "metadata": {
        "id": "K-fzFHkBiqTI"
      },
      "execution_count": null,
      "outputs": []
    }
  ]
}
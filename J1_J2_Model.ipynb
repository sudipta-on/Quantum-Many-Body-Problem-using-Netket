{
  "nbformat": 4,
  "nbformat_minor": 0,
  "metadata": {
    "colab": {
      "provenance": [],
      "authorship_tag": "ABX9TyMcgZ7JX/AOriylZUmI3FXI",
      "include_colab_link": true
    },
    "kernelspec": {
      "name": "python3",
      "display_name": "Python 3"
    },
    "language_info": {
      "name": "python"
    },
    "widgets": {
      "application/vnd.jupyter.widget-state+json": {
        "c9cc2f6243ce41cda9a456382d98324b": {
          "model_module": "@jupyter-widgets/controls",
          "model_name": "HBoxModel",
          "model_module_version": "1.5.0",
          "state": {
            "_dom_classes": [],
            "_model_module": "@jupyter-widgets/controls",
            "_model_module_version": "1.5.0",
            "_model_name": "HBoxModel",
            "_view_count": null,
            "_view_module": "@jupyter-widgets/controls",
            "_view_module_version": "1.5.0",
            "_view_name": "HBoxView",
            "box_style": "",
            "children": [
              "IPY_MODEL_ebed8e51c12d4de1a7938c26daa94bd3",
              "IPY_MODEL_f60939d2ca3d4876a89ac42c39ac640a",
              "IPY_MODEL_084a504cca694ab29aaa37cd82d1806d"
            ],
            "layout": "IPY_MODEL_56afe18df9db40c5bbb1d55126e39de5"
          }
        },
        "ebed8e51c12d4de1a7938c26daa94bd3": {
          "model_module": "@jupyter-widgets/controls",
          "model_name": "HTMLModel",
          "model_module_version": "1.5.0",
          "state": {
            "_dom_classes": [],
            "_model_module": "@jupyter-widgets/controls",
            "_model_module_version": "1.5.0",
            "_model_name": "HTMLModel",
            "_view_count": null,
            "_view_module": "@jupyter-widgets/controls",
            "_view_module_version": "1.5.0",
            "_view_name": "HTMLView",
            "description": "",
            "description_tooltip": null,
            "layout": "IPY_MODEL_06de507d916b4276b49a2f39f1adc6b7",
            "placeholder": "​",
            "style": "IPY_MODEL_81cebb2cc5f9449d9f3becd597ca864c",
            "value": "100%"
          }
        },
        "f60939d2ca3d4876a89ac42c39ac640a": {
          "model_module": "@jupyter-widgets/controls",
          "model_name": "FloatProgressModel",
          "model_module_version": "1.5.0",
          "state": {
            "_dom_classes": [],
            "_model_module": "@jupyter-widgets/controls",
            "_model_module_version": "1.5.0",
            "_model_name": "FloatProgressModel",
            "_view_count": null,
            "_view_module": "@jupyter-widgets/controls",
            "_view_module_version": "1.5.0",
            "_view_name": "ProgressView",
            "bar_style": "success",
            "description": "",
            "description_tooltip": null,
            "layout": "IPY_MODEL_19d534dba0564e84b6faf4a1ff7b1867",
            "max": 600,
            "min": 0,
            "orientation": "horizontal",
            "style": "IPY_MODEL_614e091a3d214496af99ec50ae7cd26e",
            "value": 600
          }
        },
        "084a504cca694ab29aaa37cd82d1806d": {
          "model_module": "@jupyter-widgets/controls",
          "model_name": "HTMLModel",
          "model_module_version": "1.5.0",
          "state": {
            "_dom_classes": [],
            "_model_module": "@jupyter-widgets/controls",
            "_model_module_version": "1.5.0",
            "_model_name": "HTMLModel",
            "_view_count": null,
            "_view_module": "@jupyter-widgets/controls",
            "_view_module_version": "1.5.0",
            "_view_name": "HTMLView",
            "description": "",
            "description_tooltip": null,
            "layout": "IPY_MODEL_ffc4c7ae8122400f9db3bdf8ff05a57b",
            "placeholder": "​",
            "style": "IPY_MODEL_235eadbc8cac4c56b0fdf4de15d30664",
            "value": " 600/600 [04:37&lt;00:00,  2.51it/s, Energy=-23.0634+0.0005j ± 0.0022 [σ²=0.0049, R̂=1.0024]]"
          }
        },
        "56afe18df9db40c5bbb1d55126e39de5": {
          "model_module": "@jupyter-widgets/base",
          "model_name": "LayoutModel",
          "model_module_version": "1.2.0",
          "state": {
            "_model_module": "@jupyter-widgets/base",
            "_model_module_version": "1.2.0",
            "_model_name": "LayoutModel",
            "_view_count": null,
            "_view_module": "@jupyter-widgets/base",
            "_view_module_version": "1.2.0",
            "_view_name": "LayoutView",
            "align_content": null,
            "align_items": null,
            "align_self": null,
            "border": null,
            "bottom": null,
            "display": "inline-flex",
            "flex": null,
            "flex_flow": "row wrap",
            "grid_area": null,
            "grid_auto_columns": null,
            "grid_auto_flow": null,
            "grid_auto_rows": null,
            "grid_column": null,
            "grid_gap": null,
            "grid_row": null,
            "grid_template_areas": null,
            "grid_template_columns": null,
            "grid_template_rows": null,
            "height": null,
            "justify_content": null,
            "justify_items": null,
            "left": null,
            "margin": null,
            "max_height": null,
            "max_width": null,
            "min_height": null,
            "min_width": null,
            "object_fit": null,
            "object_position": null,
            "order": null,
            "overflow": null,
            "overflow_x": null,
            "overflow_y": null,
            "padding": null,
            "right": null,
            "top": null,
            "visibility": null,
            "width": "100%"
          }
        },
        "06de507d916b4276b49a2f39f1adc6b7": {
          "model_module": "@jupyter-widgets/base",
          "model_name": "LayoutModel",
          "model_module_version": "1.2.0",
          "state": {
            "_model_module": "@jupyter-widgets/base",
            "_model_module_version": "1.2.0",
            "_model_name": "LayoutModel",
            "_view_count": null,
            "_view_module": "@jupyter-widgets/base",
            "_view_module_version": "1.2.0",
            "_view_name": "LayoutView",
            "align_content": null,
            "align_items": null,
            "align_self": null,
            "border": null,
            "bottom": null,
            "display": null,
            "flex": null,
            "flex_flow": null,
            "grid_area": null,
            "grid_auto_columns": null,
            "grid_auto_flow": null,
            "grid_auto_rows": null,
            "grid_column": null,
            "grid_gap": null,
            "grid_row": null,
            "grid_template_areas": null,
            "grid_template_columns": null,
            "grid_template_rows": null,
            "height": null,
            "justify_content": null,
            "justify_items": null,
            "left": null,
            "margin": null,
            "max_height": null,
            "max_width": null,
            "min_height": null,
            "min_width": null,
            "object_fit": null,
            "object_position": null,
            "order": null,
            "overflow": null,
            "overflow_x": null,
            "overflow_y": null,
            "padding": null,
            "right": null,
            "top": null,
            "visibility": null,
            "width": null
          }
        },
        "81cebb2cc5f9449d9f3becd597ca864c": {
          "model_module": "@jupyter-widgets/controls",
          "model_name": "DescriptionStyleModel",
          "model_module_version": "1.5.0",
          "state": {
            "_model_module": "@jupyter-widgets/controls",
            "_model_module_version": "1.5.0",
            "_model_name": "DescriptionStyleModel",
            "_view_count": null,
            "_view_module": "@jupyter-widgets/base",
            "_view_module_version": "1.2.0",
            "_view_name": "StyleView",
            "description_width": ""
          }
        },
        "19d534dba0564e84b6faf4a1ff7b1867": {
          "model_module": "@jupyter-widgets/base",
          "model_name": "LayoutModel",
          "model_module_version": "1.2.0",
          "state": {
            "_model_module": "@jupyter-widgets/base",
            "_model_module_version": "1.2.0",
            "_model_name": "LayoutModel",
            "_view_count": null,
            "_view_module": "@jupyter-widgets/base",
            "_view_module_version": "1.2.0",
            "_view_name": "LayoutView",
            "align_content": null,
            "align_items": null,
            "align_self": null,
            "border": null,
            "bottom": null,
            "display": null,
            "flex": "2",
            "flex_flow": null,
            "grid_area": null,
            "grid_auto_columns": null,
            "grid_auto_flow": null,
            "grid_auto_rows": null,
            "grid_column": null,
            "grid_gap": null,
            "grid_row": null,
            "grid_template_areas": null,
            "grid_template_columns": null,
            "grid_template_rows": null,
            "height": null,
            "justify_content": null,
            "justify_items": null,
            "left": null,
            "margin": null,
            "max_height": null,
            "max_width": null,
            "min_height": null,
            "min_width": null,
            "object_fit": null,
            "object_position": null,
            "order": null,
            "overflow": null,
            "overflow_x": null,
            "overflow_y": null,
            "padding": null,
            "right": null,
            "top": null,
            "visibility": null,
            "width": null
          }
        },
        "614e091a3d214496af99ec50ae7cd26e": {
          "model_module": "@jupyter-widgets/controls",
          "model_name": "ProgressStyleModel",
          "model_module_version": "1.5.0",
          "state": {
            "_model_module": "@jupyter-widgets/controls",
            "_model_module_version": "1.5.0",
            "_model_name": "ProgressStyleModel",
            "_view_count": null,
            "_view_module": "@jupyter-widgets/base",
            "_view_module_version": "1.2.0",
            "_view_name": "StyleView",
            "bar_color": null,
            "description_width": ""
          }
        },
        "ffc4c7ae8122400f9db3bdf8ff05a57b": {
          "model_module": "@jupyter-widgets/base",
          "model_name": "LayoutModel",
          "model_module_version": "1.2.0",
          "state": {
            "_model_module": "@jupyter-widgets/base",
            "_model_module_version": "1.2.0",
            "_model_name": "LayoutModel",
            "_view_count": null,
            "_view_module": "@jupyter-widgets/base",
            "_view_module_version": "1.2.0",
            "_view_name": "LayoutView",
            "align_content": null,
            "align_items": null,
            "align_self": null,
            "border": null,
            "bottom": null,
            "display": null,
            "flex": null,
            "flex_flow": null,
            "grid_area": null,
            "grid_auto_columns": null,
            "grid_auto_flow": null,
            "grid_auto_rows": null,
            "grid_column": null,
            "grid_gap": null,
            "grid_row": null,
            "grid_template_areas": null,
            "grid_template_columns": null,
            "grid_template_rows": null,
            "height": null,
            "justify_content": null,
            "justify_items": null,
            "left": null,
            "margin": null,
            "max_height": null,
            "max_width": null,
            "min_height": null,
            "min_width": null,
            "object_fit": null,
            "object_position": null,
            "order": null,
            "overflow": null,
            "overflow_x": null,
            "overflow_y": null,
            "padding": null,
            "right": null,
            "top": null,
            "visibility": null,
            "width": null
          }
        },
        "235eadbc8cac4c56b0fdf4de15d30664": {
          "model_module": "@jupyter-widgets/controls",
          "model_name": "DescriptionStyleModel",
          "model_module_version": "1.5.0",
          "state": {
            "_model_module": "@jupyter-widgets/controls",
            "_model_module_version": "1.5.0",
            "_model_name": "DescriptionStyleModel",
            "_view_count": null,
            "_view_module": "@jupyter-widgets/base",
            "_view_module_version": "1.2.0",
            "_view_name": "StyleView",
            "description_width": ""
          }
        }
      }
    }
  },
  "cells": [
    {
      "cell_type": "markdown",
      "metadata": {
        "id": "view-in-github",
        "colab_type": "text"
      },
      "source": [
        "<a href=\"https://colab.research.google.com/github/sudipta-on/Quantum-Many-Body-Problem-using-Netket/blob/main/J1_J2_Model.ipynb\" target=\"_parent\"><img src=\"https://colab.research.google.com/assets/colab-badge.svg\" alt=\"Open In Colab\"/></a>"
      ]
    },
    {
      "cell_type": "markdown",
      "source": [
        "# $$\\textbf{Ground-State: J1-J2 model}$$\n",
        "\n",
        "$\\qquad \\qquad \\qquad\\qquad\\qquad\\qquad\\qquad\\qquad\\qquad\\qquad\\qquad\\qquad\\qquad\\qquad\\qquad \\text{ - Sudipta Majumder}$\n",
        "\n",
        "$7 $ $\\text{July},2024$\n",
        "\n",
        "\n",
        "We will use NetKet to obtain the ground state of the J1-J2 model in one-dimension with periodic boundary conditions, using a Neural Network variational wave-function. The Hamiltonian of the model is given by:\n",
        "\n",
        "$$ H = \\sum_{i=1}^{L} J_{1}\\vec{\\sigma}_{i} \\cdot \\vec{\\sigma}_{i+1} + J_{2} \\vec{\\sigma}_{i} \\cdot \\vec{\\sigma}_{i+2} $$\n",
        "\n",
        "where the sum is over sites of the 1-D chain. Here $\\vec{\\sigma}=(\\sigma^x,\\sigma^y,\\sigma^z)$ is the vector of Pauli matrices.\n",
        "\n",
        "We will also explore some useful functionalities provided by the package.\n",
        "\n",
        "## Objectives:\n",
        "    1. Defining custom Hamiltonians\n",
        "    2. Defining the variational ansatz\n",
        "    3. Variational Monte Carlo Optimisation\n",
        "    4. Measuring observables\n",
        "    5. Data Visualisation\n",
        "    6. Sanity Check: Exact Diagonalisation\n",
        "    \n",
        "Let's start."
      ],
      "metadata": {
        "id": "9L9OQM4fIJn1"
      }
    },
    {
      "cell_type": "markdown",
      "source": [
        "## Installing and importing Netket"
      ],
      "metadata": {
        "id": "lLzJlxFp7NbV"
      }
    },
    {
      "cell_type": "code",
      "source": [
        "!pip install --quiet netket"
      ],
      "metadata": {
        "id": "-beInwZwJkek"
      },
      "execution_count": 1,
      "outputs": []
    },
    {
      "cell_type": "code",
      "source": [
        "# ensure we run on the CPU\n",
        "import os\n",
        "os.environ[\"JAX_PLATFORM_NAME\"] = \"cpu\"\n",
        "\n",
        "# Import netket library\n",
        "import netket as nk\n",
        "\n",
        "# Helper libraries\n",
        "import numpy as np\n",
        "import matplotlib.pyplot as plt\n",
        "import matplotlib\n",
        "import time\n",
        "\n",
        "%matplotlib inline\n",
        "matplotlib.rc('font', family = 'Serif', size = 14)\n",
        "matplotlib.rc('xtick', labelsize = 10)\n",
        "matplotlib.rc('ytick', labelsize = 10)\n",
        "matplotlib.rcParams['figure.figsize'] = (10,6)"
      ],
      "metadata": {
        "id": "Opb0QVRYIxG4"
      },
      "execution_count": 2,
      "outputs": []
    },
    {
      "cell_type": "markdown",
      "source": [
        "## 1. Defining a Custom Hamiltonian\n",
        "\n",
        "The first thing to do is to define the graph (lattice) on which to specify the Hamiltonian. Here we would like to build a one-dimensional graph with both nearest and next nearest neighbour bonds. The graph is created in the ``nk.graph.CustomGraph`` class. To initialise the class we simply provide a list of edges in the ``[[site_i, site_j, edge_color], ...]``"
      ],
      "metadata": {
        "id": "73fXmwmgIzWv"
      }
    },
    {
      "cell_type": "code",
      "source": [
        "#Couplings J1 and J2\n",
        "J = [1, 0.2]\n",
        "L = 14"
      ],
      "metadata": {
        "id": "SL2Vll0TI5w7"
      },
      "execution_count": 3,
      "outputs": []
    },
    {
      "cell_type": "code",
      "source": [
        "# Define custom graph\n",
        "edge_colors = []\n",
        "for i in range(L):\n",
        "    edge_colors.append([i, (i+1)%L, 1])\n",
        "    edge_colors.append([i, (i+2)%L, 2])\n",
        "\n",
        "# Define the netket graph object\n",
        "g = nk.graph.Graph(edges=edge_colors)"
      ],
      "metadata": {
        "id": "uIhQ9S1PI8TR"
      },
      "execution_count": 4,
      "outputs": []
    },
    {
      "cell_type": "code",
      "source": [
        "#Sigma^z*Sigma^z interactions\n",
        "sigmaz = [[1, 0], [0, -1]]\n",
        "mszsz = (np.kron(sigmaz, sigmaz))\n",
        "\n",
        "#Exchange interactions\n",
        "exchange = np.asarray([[0, 0, 0, 0], [0, 0, 2, 0], [0, 2, 0, 0], [0, 0, 0, 0]])\n",
        "\n",
        "bond_operator = [\n",
        "    (J[0] * mszsz).tolist(),\n",
        "    (J[1] * mszsz).tolist(),\n",
        "    (-J[0] * exchange).tolist(),\n",
        "    (J[1] * exchange).tolist(),\n",
        "]\n",
        "\n",
        "bond_color = [1, 2, 1, 2]"
      ],
      "metadata": {
        "id": "T4EZo51SI8oZ"
      },
      "execution_count": 5,
      "outputs": []
    },
    {
      "cell_type": "code",
      "source": [
        "# Spin based Hilbert Space\n",
        "hi = nk.hilbert.Spin(s=0.5, total_sz=0.0, N=g.n_nodes)"
      ],
      "metadata": {
        "id": "lfEncZdKI813"
      },
      "execution_count": 6,
      "outputs": []
    },
    {
      "cell_type": "code",
      "source": [
        "# Custom Hamiltonian operator\n",
        "op = nk.operator.GraphOperator(hi, graph=g, bond_ops=bond_operator, bond_ops_colors=bond_color)"
      ],
      "metadata": {
        "id": "yFlY0ECpI8_h"
      },
      "execution_count": 7,
      "outputs": []
    },
    {
      "cell_type": "markdown",
      "source": [
        "## 2. Defining the Machine or Model\n",
        "\n",
        "For this tutorial, we shall use the most common type of neural network: fully connected feedforward neural network ``nk.machine.FFNN``. Other types of neural networks available will be discussed in other tutorials."
      ],
      "metadata": {
        "id": "I0YJYuE6I9Jc"
      }
    },
    {
      "cell_type": "code",
      "source": [
        "import netket.nn as nknn\n",
        "import flax.linen as nn\n",
        "\n",
        "import jax.numpy as jnp\n",
        "\n",
        "class FFNN(nn.Module):\n",
        "    @nn.compact\n",
        "    def __call__(self, x):\n",
        "        x = nn.Dense(features=2*x.shape[-1],\n",
        "                     use_bias=True,\n",
        "                     param_dtype=np.complex128,\n",
        "                     kernel_init=nn.initializers.normal(stddev=0.01),\n",
        "                     bias_init=nn.initializers.normal(stddev=0.01)\n",
        "                    )(x)\n",
        "        x = nknn.log_cosh(x)\n",
        "        x = jnp.sum(x, axis=-1)\n",
        "        return x"
      ],
      "metadata": {
        "id": "IT0iZ_6PJ1Y5"
      },
      "execution_count": 8,
      "outputs": []
    },
    {
      "cell_type": "markdown",
      "source": [
        "## 3. Variational Monte Carlo Optimisation\n",
        "\n",
        "We have now set up our model (Hamiltonian, Graph, Hilbert Space) and can proceed to optimise the variational ansatz we chose, namely the ``ffnn`` machine.\n",
        "\n",
        "To setup the variational Monte Carlo optimisation tool, we have to provide a sampler ``nk.sampler`` and an optimizer ``nk.optimizer``."
      ],
      "metadata": {
        "id": "__Vubf6uJ7db"
      }
    },
    {
      "cell_type": "code",
      "source": [
        "model = FFNN()\n",
        "\n",
        "# We shall use an exchange Sampler which preserves the global magnetization (as this is a conserved quantity in the model)\n",
        "sa = nk.sampler.MetropolisExchange(hilbert=hi, graph=g, d_max = 2)\n",
        "\n",
        "# Construct the variational state\n",
        "vs = nk.vqs.MCState(sa, model, n_samples=1008)\n",
        "\n",
        "# We choose a basic, albeit important, Optimizer: the Stochastic Gradient Descent\n",
        "opt = nk.optimizer.Sgd(learning_rate=0.01)\n",
        "\n",
        "# Stochastic Reconfiguration\n",
        "sr = nk.optimizer.SR(diag_shift=0.01, holomorphic = True)\n",
        "start  = time.time()\n",
        "gs = nk.VMC(hamiltonian=op, optimizer=opt, variational_state=vs, preconditioner=sr)\n",
        "end = time.time()\n",
        "\n",
        "ffn_time = end-start\n",
        "\n",
        "print('### Feed Forward calculation')\n",
        "print('Has',vs.n_parameters,'parameters')\n",
        "print('The Feed Forward calculation took',ffn_time,'seconds')"
      ],
      "metadata": {
        "colab": {
          "base_uri": "https://localhost:8080/"
        },
        "id": "sK6atFKTJ-NP",
        "outputId": "ed5e00a0-0b3e-4033-f8d9-f70d53cec305"
      },
      "execution_count": 9,
      "outputs": [
        {
          "output_type": "stream",
          "name": "stdout",
          "text": [
            "### Feed Forward calculation\n",
            "Has 420 parameters\n",
            "The Feed Forward calculation took 0.0005984306335449219 seconds\n"
          ]
        }
      ]
    },
    {
      "cell_type": "markdown",
      "source": [
        "## 4. Measuring Observables\n",
        "\n",
        "Before running the optimization, it can be helpful to add some observables to keep track off during the optimization. For our purpose, let us measure the antiferromagnetic structure factor, defined as:\n",
        "\n",
        "$$ \\frac{1}{L} \\sum_{ij} \\langle \\hat{\\sigma}_{i}^z \\cdot \\hat{\\sigma}_{j}^z\\rangle e^{i\\pi(i-j)}$$"
      ],
      "metadata": {
        "id": "l4VohroPKJ0c"
      }
    },
    {
      "cell_type": "code",
      "source": [
        "# We need to specify the local operators as a matrix acting on a local Hilbert space\n",
        "sf = []\n",
        "sites = []\n",
        "structure_factor = nk.operator.LocalOperator(hi, dtype=complex)\n",
        "for i in range(0, L):\n",
        "    for j in range(0, L):\n",
        "        structure_factor += (nk.operator.spin.sigmaz(hi, i)*nk.operator.spin.sigmaz(hi, j))*((-1)**(i-j))/L\n"
      ],
      "metadata": {
        "id": "wbSR4vUQKMbP"
      },
      "execution_count": 10,
      "outputs": []
    },
    {
      "cell_type": "code",
      "source": [
        "# Run the optimization protocol\n",
        "gs.run(out='test', n_iter=600, obs={'Structure Factor': structure_factor})"
      ],
      "metadata": {
        "colab": {
          "base_uri": "https://localhost:8080/",
          "height": 118,
          "referenced_widgets": [
            "c9cc2f6243ce41cda9a456382d98324b",
            "ebed8e51c12d4de1a7938c26daa94bd3",
            "f60939d2ca3d4876a89ac42c39ac640a",
            "084a504cca694ab29aaa37cd82d1806d",
            "56afe18df9db40c5bbb1d55126e39de5",
            "06de507d916b4276b49a2f39f1adc6b7",
            "81cebb2cc5f9449d9f3becd597ca864c",
            "19d534dba0564e84b6faf4a1ff7b1867",
            "614e091a3d214496af99ec50ae7cd26e",
            "ffc4c7ae8122400f9db3bdf8ff05a57b",
            "235eadbc8cac4c56b0fdf4de15d30664"
          ]
        },
        "id": "ZoVaUSrsKPK2",
        "outputId": "cc96b8fb-d7db-461f-df5a-b289e420feea"
      },
      "execution_count": 11,
      "outputs": [
        {
          "output_type": "display_data",
          "data": {
            "text/plain": [
              "  0%|          | 0/600 [00:00<?, ?it/s]"
            ],
            "application/vnd.jupyter.widget-view+json": {
              "version_major": 2,
              "version_minor": 0,
              "model_id": "c9cc2f6243ce41cda9a456382d98324b"
            }
          },
          "metadata": {}
        },
        {
          "output_type": "execute_result",
          "data": {
            "text/plain": [
              "(JsonLog('test', mode=write, autoflush_cost=0.005)\n",
              "   Runtime cost:\n",
              "   \tLog:    0.8044445514678955\n",
              "   \tParams: 0.5024008750915527,)"
            ]
          },
          "metadata": {},
          "execution_count": 11
        }
      ]
    },
    {
      "cell_type": "markdown",
      "source": [
        "## 5. Data Visualisation\n",
        "\n",
        "Now that we have optimized our machine to find the ground state of the $J_1-J_2$ model, let's look at what we have.\n",
        "The relevant data are stored in the \".log\" file while the optimized parameters are in the \".wf\" file. The files are all in json format.\n",
        "\n",
        "We shall extract the energy as well as specified observables (antiferromagnetic structure factor in our case) from the \".log\" file."
      ],
      "metadata": {
        "id": "5hVXZqLtKVr0"
      }
    },
    {
      "cell_type": "code",
      "source": [
        "# Load the data from the .log file\n",
        "import json\n",
        "\n",
        "data=json.load(open(\"test.log\"))\n",
        "\n",
        "iters = data['Energy']['iters']\n",
        "energy=data['Energy']['Mean']['real']\n",
        "sf=data['Structure Factor']['Mean']['real']"
      ],
      "metadata": {
        "id": "cV7XDjsgKavp"
      },
      "execution_count": 12,
      "outputs": []
    },
    {
      "cell_type": "code",
      "source": [
        "fig, ax1 = plt.subplots()\n",
        "ax1.plot(iters, energy, color='blue', label='Energy')\n",
        "ax1.set_ylabel('Energy')\n",
        "ax1.set_xlabel('Iteration')\n",
        "ax2 = ax1.twinx()\n",
        "ax2.plot(iters, np.array(sf), color='green', label='Structure Factor')\n",
        "ax2.set_ylabel('Structure Factor')\n",
        "ax1.legend(loc=2)\n",
        "ax2.legend(loc=1)\n",
        "plt.show()"
      ],
      "metadata": {
        "colab": {
          "base_uri": "https://localhost:8080/",
          "height": 546
        },
        "id": "1EX6-nbXKcQp",
        "outputId": "8931d52d-24a4-4dca-b355-5a8208cc1fa0"
      },
      "execution_count": 13,
      "outputs": [
        {
          "output_type": "display_data",
          "data": {
            "text/plain": [
              "<Figure size 1000x600 with 2 Axes>"
            ],
            "image/png": "[encoded data removed]"
          },
          "metadata": {}
        }
      ]
    },
    {
      "cell_type": "code",
      "source": [
        "print(r\"Structure factor = {0:.3f}({1:.3f})\".format(np.mean(sf[-50:]),\n",
        "                                              np.std(np.array(sf[-50:]))/np.sqrt(50)))\n",
        "print(r\"Energy = {0:.3f}({1:.3f})\".format(np.mean(energy[-50:]), np.std(energy[-50:])/(np.sqrt(50))))"
      ],
      "metadata": {
        "colab": {
          "base_uri": "https://localhost:8080/"
        },
        "id": "h1FvOHVhKdnD",
        "outputId": "9fb6eb64-01f3-41f4-fda7-ef5236f9865b"
      },
      "execution_count": 14,
      "outputs": [
        {
          "output_type": "stream",
          "name": "stdout",
          "text": [
            "Structure factor = 3.839(0.030)\n",
            "Energy = -23.063(0.000)\n"
          ]
        }
      ]
    },
    {
      "cell_type": "markdown",
      "source": [
        "## 6. Sanity Check: Exact Diagonalisation\n",
        "\n",
        "Now that we have obtained some results using VMC, it is a good time to check the quality of our results (at least for small system sizes). For this purpose, Netket provides exact diagonalisation tools."
      ],
      "metadata": {
        "id": "5CdDKic6KfaB"
      }
    },
    {
      "cell_type": "code",
      "source": [
        "E_gs, ket_gs = nk.exact.lanczos_ed(op, compute_eigenvectors=True)\n",
        "structure_factor_gs = (ket_gs.T.conj()@structure_factor.to_linear_operator()@ket_gs).real[0,0]"
      ],
      "metadata": {
        "id": "iPnzDWFLKspj"
      },
      "execution_count": 15,
      "outputs": []
    },
    {
      "cell_type": "code",
      "source": [
        "print(\"Exact Ground-state Structure Factor: {0:.3f}\".format(structure_factor_gs))\n",
        "print(\"Exact ground state energy = {0:.3f}\".format(E_gs[0]))"
      ],
      "metadata": {
        "colab": {
          "base_uri": "https://localhost:8080/"
        },
        "id": "gdUVoCUYKtqg",
        "outputId": "11601a9a-bfbf-492d-909e-2a90a0e440f6"
      },
      "execution_count": 16,
      "outputs": [
        {
          "output_type": "stream",
          "name": "stdout",
          "text": [
            "Exact Ground-state Structure Factor: 3.803\n",
            "Exact ground state energy = -23.064\n"
          ]
        }
      ]
    },
    {
      "cell_type": "code",
      "source": [],
      "metadata": {
        "id": "MtBIp5zwKu15"
      },
      "execution_count": 16,
      "outputs": []
    }
  ]
}
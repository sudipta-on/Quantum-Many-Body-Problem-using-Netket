{
  "nbformat": 4,
  "nbformat_minor": 0,
  "metadata": {
    "colab": {
      "provenance": [],
      "gpuType": "T4",
      "authorship_tag": "ABX9TyNQB0FZfUd9Ccm0PJgegDjG",
      "include_colab_link": true
    },
    "kernelspec": {
      "name": "python3",
      "display_name": "Python 3"
    },
    "language_info": {
      "name": "python"
    },
    "accelerator": "GPU",
    "widgets": {
      "application/vnd.jupyter.widget-state+json": {
        "ac4d387e2bc2425aab45e2a24306dc68": {
          "model_module": "@jupyter-widgets/controls",
          "model_name": "HBoxModel",
          "model_module_version": "1.5.0",
          "state": {
            "_dom_classes": [],
            "_model_module": "@jupyter-widgets/controls",
            "_model_module_version": "1.5.0",
            "_model_name": "HBoxModel",
            "_view_count": null,
            "_view_module": "@jupyter-widgets/controls",
            "_view_module_version": "1.5.0",
            "_view_name": "HBoxView",
            "box_style": "",
            "children": [
              "IPY_MODEL_c3adf3e70827478a9e30ffd625f586e7",
              "IPY_MODEL_777b3149d9284612b4ddddc914002ea9",
              "IPY_MODEL_054396f186f54efc8b7f0b52b458315e"
            ],
            "layout": "IPY_MODEL_330a299b3e104df58d1b0ddd768d5347"
          }
        },
        "c3adf3e70827478a9e30ffd625f586e7": {
          "model_module": "@jupyter-widgets/controls",
          "model_name": "HTMLModel",
          "model_module_version": "1.5.0",
          "state": {
            "_dom_classes": [],
            "_model_module": "@jupyter-widgets/controls",
            "_model_module_version": "1.5.0",
            "_model_name": "HTMLModel",
            "_view_count": null,
            "_view_module": "@jupyter-widgets/controls",
            "_view_module_version": "1.5.0",
            "_view_name": "HTMLView",
            "description": "",
            "description_tooltip": null,
            "layout": "IPY_MODEL_ca5a5788f8264954839870bb76435917",
            "placeholder": "​",
            "style": "IPY_MODEL_801deefa091d496aa7193477d648c3d8",
            "value": "100%"
          }
        },
        "777b3149d9284612b4ddddc914002ea9": {
          "model_module": "@jupyter-widgets/controls",
          "model_name": "FloatProgressModel",
          "model_module_version": "1.5.0",
          "state": {
            "_dom_classes": [],
            "_model_module": "@jupyter-widgets/controls",
            "_model_module_version": "1.5.0",
            "_model_name": "FloatProgressModel",
            "_view_count": null,
            "_view_module": "@jupyter-widgets/controls",
            "_view_module_version": "1.5.0",
            "_view_name": "ProgressView",
            "bar_style": "success",
            "description": "",
            "description_tooltip": null,
            "layout": "IPY_MODEL_15c0377e24ab4d66b760fe691acf5cac",
            "max": 300,
            "min": 0,
            "orientation": "horizontal",
            "style": "IPY_MODEL_beb017a6b47a486bbe410307d060f4a0",
            "value": 300
          }
        },
        "054396f186f54efc8b7f0b52b458315e": {
          "model_module": "@jupyter-widgets/controls",
          "model_name": "HTMLModel",
          "model_module_version": "1.5.0",
          "state": {
            "_dom_classes": [],
            "_model_module": "@jupyter-widgets/controls",
            "_model_module_version": "1.5.0",
            "_model_name": "HTMLModel",
            "_view_count": null,
            "_view_module": "@jupyter-widgets/controls",
            "_view_module_version": "1.5.0",
            "_view_name": "HTMLView",
            "description": "",
            "description_tooltip": null,
            "layout": "IPY_MODEL_0ca27d97cc7e46eebc16b89ff8845c88",
            "placeholder": "​",
            "style": "IPY_MODEL_feaed39e680b49f5aaf004c15725853c",
            "value": " 300/300 [04:01&lt;00:00,  1.41it/s, Energy=-5.100-0.000j ± 0.035 [σ²=4.423, R̂=1.0041]]"
          }
        },
        "330a299b3e104df58d1b0ddd768d5347": {
          "model_module": "@jupyter-widgets/base",
          "model_name": "LayoutModel",
          "model_module_version": "1.2.0",
          "state": {
            "_model_module": "@jupyter-widgets/base",
            "_model_module_version": "1.2.0",
            "_model_name": "LayoutModel",
            "_view_count": null,
            "_view_module": "@jupyter-widgets/base",
            "_view_module_version": "1.2.0",
            "_view_name": "LayoutView",
            "align_content": null,
            "align_items": null,
            "align_self": null,
            "border": null,
            "bottom": null,
            "display": "inline-flex",
            "flex": null,
            "flex_flow": "row wrap",
            "grid_area": null,
            "grid_auto_columns": null,
            "grid_auto_flow": null,
            "grid_auto_rows": null,
            "grid_column": null,
            "grid_gap": null,
            "grid_row": null,
            "grid_template_areas": null,
            "grid_template_columns": null,
            "grid_template_rows": null,
            "height": null,
            "justify_content": null,
            "justify_items": null,
            "left": null,
            "margin": null,
            "max_height": null,
            "max_width": null,
            "min_height": null,
            "min_width": null,
            "object_fit": null,
            "object_position": null,
            "order": null,
            "overflow": null,
            "overflow_x": null,
            "overflow_y": null,
            "padding": null,
            "right": null,
            "top": null,
            "visibility": null,
            "width": "100%"
          }
        },
        "ca5a5788f8264954839870bb76435917": {
          "model_module": "@jupyter-widgets/base",
          "model_name": "LayoutModel",
          "model_module_version": "1.2.0",
          "state": {
            "_model_module": "@jupyter-widgets/base",
            "_model_module_version": "1.2.0",
            "_model_name": "LayoutModel",
            "_view_count": null,
            "_view_module": "@jupyter-widgets/base",
            "_view_module_version": "1.2.0",
            "_view_name": "LayoutView",
            "align_content": null,
            "align_items": null,
            "align_self": null,
            "border": null,
            "bottom": null,
            "display": null,
            "flex": null,
            "flex_flow": null,
            "grid_area": null,
            "grid_auto_columns": null,
            "grid_auto_flow": null,
            "grid_auto_rows": null,
            "grid_column": null,
            "grid_gap": null,
            "grid_row": null,
            "grid_template_areas": null,
            "grid_template_columns": null,
            "grid_template_rows": null,
            "height": null,
            "justify_content": null,
            "justify_items": null,
            "left": null,
            "margin": null,
            "max_height": null,
            "max_width": null,
            "min_height": null,
            "min_width": null,
            "object_fit": null,
            "object_position": null,
            "order": null,
            "overflow": null,
            "overflow_x": null,
            "overflow_y": null,
            "padding": null,
            "right": null,
            "top": null,
            "visibility": null,
            "width": null
          }
        },
        "801deefa091d496aa7193477d648c3d8": {
          "model_module": "@jupyter-widgets/controls",
          "model_name": "DescriptionStyleModel",
          "model_module_version": "1.5.0",
          "state": {
            "_model_module": "@jupyter-widgets/controls",
            "_model_module_version": "1.5.0",
            "_model_name": "DescriptionStyleModel",
            "_view_count": null,
            "_view_module": "@jupyter-widgets/base",
            "_view_module_version": "1.2.0",
            "_view_name": "StyleView",
            "description_width": ""
          }
        },
        "15c0377e24ab4d66b760fe691acf5cac": {
          "model_module": "@jupyter-widgets/base",
          "model_name": "LayoutModel",
          "model_module_version": "1.2.0",
          "state": {
            "_model_module": "@jupyter-widgets/base",
            "_model_module_version": "1.2.0",
            "_model_name": "LayoutModel",
            "_view_count": null,
            "_view_module": "@jupyter-widgets/base",
            "_view_module_version": "1.2.0",
            "_view_name": "LayoutView",
            "align_content": null,
            "align_items": null,
            "align_self": null,
            "border": null,
            "bottom": null,
            "display": null,
            "flex": "2",
            "flex_flow": null,
            "grid_area": null,
            "grid_auto_columns": null,
            "grid_auto_flow": null,
            "grid_auto_rows": null,
            "grid_column": null,
            "grid_gap": null,
            "grid_row": null,
            "grid_template_areas": null,
            "grid_template_columns": null,
            "grid_template_rows": null,
            "height": null,
            "justify_content": null,
            "justify_items": null,
            "left": null,
            "margin": null,
            "max_height": null,
            "max_width": null,
            "min_height": null,
            "min_width": null,
            "object_fit": null,
            "object_position": null,
            "order": null,
            "overflow": null,
            "overflow_x": null,
            "overflow_y": null,
            "padding": null,
            "right": null,
            "top": null,
            "visibility": null,
            "width": null
          }
        },
        "beb017a6b47a486bbe410307d060f4a0": {
          "model_module": "@jupyter-widgets/controls",
          "model_name": "ProgressStyleModel",
          "model_module_version": "1.5.0",
          "state": {
            "_model_module": "@jupyter-widgets/controls",
            "_model_module_version": "1.5.0",
            "_model_name": "ProgressStyleModel",
            "_view_count": null,
            "_view_module": "@jupyter-widgets/base",
            "_view_module_version": "1.2.0",
            "_view_name": "StyleView",
            "bar_color": null,
            "description_width": ""
          }
        },
        "0ca27d97cc7e46eebc16b89ff8845c88": {
          "model_module": "@jupyter-widgets/base",
          "model_name": "LayoutModel",
          "model_module_version": "1.2.0",
          "state": {
            "_model_module": "@jupyter-widgets/base",
            "_model_module_version": "1.2.0",
            "_model_name": "LayoutModel",
            "_view_count": null,
            "_view_module": "@jupyter-widgets/base",
            "_view_module_version": "1.2.0",
            "_view_name": "LayoutView",
            "align_content": null,
            "align_items": null,
            "align_self": null,
            "border": null,
            "bottom": null,
            "display": null,
            "flex": null,
            "flex_flow": null,
            "grid_area": null,
            "grid_auto_columns": null,
            "grid_auto_flow": null,
            "grid_auto_rows": null,
            "grid_column": null,
            "grid_gap": null,
            "grid_row": null,
            "grid_template_areas": null,
            "grid_template_columns": null,
            "grid_template_rows": null,
            "height": null,
            "justify_content": null,
            "justify_items": null,
            "left": null,
            "margin": null,
            "max_height": null,
            "max_width": null,
            "min_height": null,
            "min_width": null,
            "object_fit": null,
            "object_position": null,
            "order": null,
            "overflow": null,
            "overflow_x": null,
            "overflow_y": null,
            "padding": null,
            "right": null,
            "top": null,
            "visibility": null,
            "width": null
          }
        },
        "feaed39e680b49f5aaf004c15725853c": {
          "model_module": "@jupyter-widgets/controls",
          "model_name": "DescriptionStyleModel",
          "model_module_version": "1.5.0",
          "state": {
            "_model_module": "@jupyter-widgets/controls",
            "_model_module_version": "1.5.0",
            "_model_name": "DescriptionStyleModel",
            "_view_count": null,
            "_view_module": "@jupyter-widgets/base",
            "_view_module_version": "1.2.0",
            "_view_name": "StyleView",
            "description_width": ""
          }
        },
        "fa99c0dc63bf4ddc952d9c39c8527420": {
          "model_module": "@jupyter-widgets/controls",
          "model_name": "HBoxModel",
          "model_module_version": "1.5.0",
          "state": {
            "_dom_classes": [],
            "_model_module": "@jupyter-widgets/controls",
            "_model_module_version": "1.5.0",
            "_model_name": "HBoxModel",
            "_view_count": null,
            "_view_module": "@jupyter-widgets/controls",
            "_view_module_version": "1.5.0",
            "_view_name": "HBoxView",
            "box_style": "",
            "children": [
              "IPY_MODEL_67158cce679f443d87c197d396d1b6d4",
              "IPY_MODEL_d894c7cfb49c4b2d9b52c636b18a9b7c",
              "IPY_MODEL_e68efc64197e49aca1fd3b8ab079e57c"
            ],
            "layout": "IPY_MODEL_4377af812bdd42c6be29fe911c4aad9d"
          }
        },
        "67158cce679f443d87c197d396d1b6d4": {
          "model_module": "@jupyter-widgets/controls",
          "model_name": "HTMLModel",
          "model_module_version": "1.5.0",
          "state": {
            "_dom_classes": [],
            "_model_module": "@jupyter-widgets/controls",
            "_model_module_version": "1.5.0",
            "_model_name": "HTMLModel",
            "_view_count": null,
            "_view_module": "@jupyter-widgets/controls",
            "_view_module_version": "1.5.0",
            "_view_name": "HTMLView",
            "description": "",
            "description_tooltip": null,
            "layout": "IPY_MODEL_5e13198f695a417d8ae7f722ce1842bc",
            "placeholder": "​",
            "style": "IPY_MODEL_c8cedab99ff440f79ea46bc3df7b1196",
            "value": "100%"
          }
        },
        "d894c7cfb49c4b2d9b52c636b18a9b7c": {
          "model_module": "@jupyter-widgets/controls",
          "model_name": "FloatProgressModel",
          "model_module_version": "1.5.0",
          "state": {
            "_dom_classes": [],
            "_model_module": "@jupyter-widgets/controls",
            "_model_module_version": "1.5.0",
            "_model_name": "FloatProgressModel",
            "_view_count": null,
            "_view_module": "@jupyter-widgets/controls",
            "_view_module_version": "1.5.0",
            "_view_name": "ProgressView",
            "bar_style": "success",
            "description": "",
            "description_tooltip": null,
            "layout": "IPY_MODEL_d31457c2f8ec45e495f370a066f4de56",
            "max": 300,
            "min": 0,
            "orientation": "horizontal",
            "style": "IPY_MODEL_91fe69efd72c437ab68c307c6c9ca8dd",
            "value": 300
          }
        },
        "e68efc64197e49aca1fd3b8ab079e57c": {
          "model_module": "@jupyter-widgets/controls",
          "model_name": "HTMLModel",
          "model_module_version": "1.5.0",
          "state": {
            "_dom_classes": [],
            "_model_module": "@jupyter-widgets/controls",
            "_model_module_version": "1.5.0",
            "_model_name": "HTMLModel",
            "_view_count": null,
            "_view_module": "@jupyter-widgets/controls",
            "_view_module_version": "1.5.0",
            "_view_name": "HTMLView",
            "description": "",
            "description_tooltip": null,
            "layout": "IPY_MODEL_04731d8a8fb947e79bf59cc698502ac5",
            "placeholder": "​",
            "style": "IPY_MODEL_1ff435eb04c2441084736e0b95aa1a2c",
            "value": " 300/300 [06:06&lt;00:00,  1.23s/it, Energy=-6.838+0.000j ± 0.011 [σ²=0.482, R̂=1.0008]]"
          }
        },
        "4377af812bdd42c6be29fe911c4aad9d": {
          "model_module": "@jupyter-widgets/base",
          "model_name": "LayoutModel",
          "model_module_version": "1.2.0",
          "state": {
            "_model_module": "@jupyter-widgets/base",
            "_model_module_version": "1.2.0",
            "_model_name": "LayoutModel",
            "_view_count": null,
            "_view_module": "@jupyter-widgets/base",
            "_view_module_version": "1.2.0",
            "_view_name": "LayoutView",
            "align_content": null,
            "align_items": null,
            "align_self": null,
            "border": null,
            "bottom": null,
            "display": "inline-flex",
            "flex": null,
            "flex_flow": "row wrap",
            "grid_area": null,
            "grid_auto_columns": null,
            "grid_auto_flow": null,
            "grid_auto_rows": null,
            "grid_column": null,
            "grid_gap": null,
            "grid_row": null,
            "grid_template_areas": null,
            "grid_template_columns": null,
            "grid_template_rows": null,
            "height": null,
            "justify_content": null,
            "justify_items": null,
            "left": null,
            "margin": null,
            "max_height": null,
            "max_width": null,
            "min_height": null,
            "min_width": null,
            "object_fit": null,
            "object_position": null,
            "order": null,
            "overflow": null,
            "overflow_x": null,
            "overflow_y": null,
            "padding": null,
            "right": null,
            "top": null,
            "visibility": null,
            "width": "100%"
          }
        },
        "5e13198f695a417d8ae7f722ce1842bc": {
          "model_module": "@jupyter-widgets/base",
          "model_name": "LayoutModel",
          "model_module_version": "1.2.0",
          "state": {
            "_model_module": "@jupyter-widgets/base",
            "_model_module_version": "1.2.0",
            "_model_name": "LayoutModel",
            "_view_count": null,
            "_view_module": "@jupyter-widgets/base",
            "_view_module_version": "1.2.0",
            "_view_name": "LayoutView",
            "align_content": null,
            "align_items": null,
            "align_self": null,
            "border": null,
            "bottom": null,
            "display": null,
            "flex": null,
            "flex_flow": null,
            "grid_area": null,
            "grid_auto_columns": null,
            "grid_auto_flow": null,
            "grid_auto_rows": null,
            "grid_column": null,
            "grid_gap": null,
            "grid_row": null,
            "grid_template_areas": null,
            "grid_template_columns": null,
            "grid_template_rows": null,
            "height": null,
            "justify_content": null,
            "justify_items": null,
            "left": null,
            "margin": null,
            "max_height": null,
            "max_width": null,
            "min_height": null,
            "min_width": null,
            "object_fit": null,
            "object_position": null,
            "order": null,
            "overflow": null,
            "overflow_x": null,
            "overflow_y": null,
            "padding": null,
            "right": null,
            "top": null,
            "visibility": null,
            "width": null
          }
        },
        "c8cedab99ff440f79ea46bc3df7b1196": {
          "model_module": "@jupyter-widgets/controls",
          "model_name": "DescriptionStyleModel",
          "model_module_version": "1.5.0",
          "state": {
            "_model_module": "@jupyter-widgets/controls",
            "_model_module_version": "1.5.0",
            "_model_name": "DescriptionStyleModel",
            "_view_count": null,
            "_view_module": "@jupyter-widgets/base",
            "_view_module_version": "1.2.0",
            "_view_name": "StyleView",
            "description_width": ""
          }
        },
        "d31457c2f8ec45e495f370a066f4de56": {
          "model_module": "@jupyter-widgets/base",
          "model_name": "LayoutModel",
          "model_module_version": "1.2.0",
          "state": {
            "_model_module": "@jupyter-widgets/base",
            "_model_module_version": "1.2.0",
            "_model_name": "LayoutModel",
            "_view_count": null,
            "_view_module": "@jupyter-widgets/base",
            "_view_module_version": "1.2.0",
            "_view_name": "LayoutView",
            "align_content": null,
            "align_items": null,
            "align_self": null,
            "border": null,
            "bottom": null,
            "display": null,
            "flex": "2",
            "flex_flow": null,
            "grid_area": null,
            "grid_auto_columns": null,
            "grid_auto_flow": null,
            "grid_auto_rows": null,
            "grid_column": null,
            "grid_gap": null,
            "grid_row": null,
            "grid_template_areas": null,
            "grid_template_columns": null,
            "grid_template_rows": null,
            "height": null,
            "justify_content": null,
            "justify_items": null,
            "left": null,
            "margin": null,
            "max_height": null,
            "max_width": null,
            "min_height": null,
            "min_width": null,
            "object_fit": null,
            "object_position": null,
            "order": null,
            "overflow": null,
            "overflow_x": null,
            "overflow_y": null,
            "padding": null,
            "right": null,
            "top": null,
            "visibility": null,
            "width": null
          }
        },
        "91fe69efd72c437ab68c307c6c9ca8dd": {
          "model_module": "@jupyter-widgets/controls",
          "model_name": "ProgressStyleModel",
          "model_module_version": "1.5.0",
          "state": {
            "_model_module": "@jupyter-widgets/controls",
            "_model_module_version": "1.5.0",
            "_model_name": "ProgressStyleModel",
            "_view_count": null,
            "_view_module": "@jupyter-widgets/base",
            "_view_module_version": "1.2.0",
            "_view_name": "StyleView",
            "bar_color": null,
            "description_width": ""
          }
        },
        "04731d8a8fb947e79bf59cc698502ac5": {
          "model_module": "@jupyter-widgets/base",
          "model_name": "LayoutModel",
          "model_module_version": "1.2.0",
          "state": {
            "_model_module": "@jupyter-widgets/base",
            "_model_module_version": "1.2.0",
            "_model_name": "LayoutModel",
            "_view_count": null,
            "_view_module": "@jupyter-widgets/base",
            "_view_module_version": "1.2.0",
            "_view_name": "LayoutView",
            "align_content": null,
            "align_items": null,
            "align_self": null,
            "border": null,
            "bottom": null,
            "display": null,
            "flex": null,
            "flex_flow": null,
            "grid_area": null,
            "grid_auto_columns": null,
            "grid_auto_flow": null,
            "grid_auto_rows": null,
            "grid_column": null,
            "grid_gap": null,
            "grid_row": null,
            "grid_template_areas": null,
            "grid_template_columns": null,
            "grid_template_rows": null,
            "height": null,
            "justify_content": null,
            "justify_items": null,
            "left": null,
            "margin": null,
            "max_height": null,
            "max_width": null,
            "min_height": null,
            "min_width": null,
            "object_fit": null,
            "object_position": null,
            "order": null,
            "overflow": null,
            "overflow_x": null,
            "overflow_y": null,
            "padding": null,
            "right": null,
            "top": null,
            "visibility": null,
            "width": null
          }
        },
        "1ff435eb04c2441084736e0b95aa1a2c": {
          "model_module": "@jupyter-widgets/controls",
          "model_name": "DescriptionStyleModel",
          "model_module_version": "1.5.0",
          "state": {
            "_model_module": "@jupyter-widgets/controls",
            "_model_module_version": "1.5.0",
            "_model_name": "DescriptionStyleModel",
            "_view_count": null,
            "_view_module": "@jupyter-widgets/base",
            "_view_module_version": "1.2.0",
            "_view_name": "StyleView",
            "description_width": ""
          }
        },
        "563eb91ef72044bcb6832094b4676490": {
          "model_module": "@jupyter-widgets/controls",
          "model_name": "HBoxModel",
          "model_module_version": "1.5.0",
          "state": {
            "_dom_classes": [],
            "_model_module": "@jupyter-widgets/controls",
            "_model_module_version": "1.5.0",
            "_model_name": "HBoxModel",
            "_view_count": null,
            "_view_module": "@jupyter-widgets/controls",
            "_view_module_version": "1.5.0",
            "_view_name": "HBoxView",
            "box_style": "",
            "children": [
              "IPY_MODEL_4ac15bcfbe564d8db55700bdc54191f1",
              "IPY_MODEL_09c85b627d1f40d7ae5974de78e7139c",
              "IPY_MODEL_3960f840b4514b3482c6188276f19d22"
            ],
            "layout": "IPY_MODEL_dc024c92fad9405baad601be25872ef1"
          }
        },
        "4ac15bcfbe564d8db55700bdc54191f1": {
          "model_module": "@jupyter-widgets/controls",
          "model_name": "HTMLModel",
          "model_module_version": "1.5.0",
          "state": {
            "_dom_classes": [],
            "_model_module": "@jupyter-widgets/controls",
            "_model_module_version": "1.5.0",
            "_model_name": "HTMLModel",
            "_view_count": null,
            "_view_module": "@jupyter-widgets/controls",
            "_view_module_version": "1.5.0",
            "_view_name": "HTMLView",
            "description": "",
            "description_tooltip": null,
            "layout": "IPY_MODEL_5464797f952b4fbcb7504a6ca75ea625",
            "placeholder": "​",
            "style": "IPY_MODEL_98c2e36d3e144c8994c3e9295b881e42",
            "value": "100%"
          }
        },
        "09c85b627d1f40d7ae5974de78e7139c": {
          "model_module": "@jupyter-widgets/controls",
          "model_name": "FloatProgressModel",
          "model_module_version": "1.5.0",
          "state": {
            "_dom_classes": [],
            "_model_module": "@jupyter-widgets/controls",
            "_model_module_version": "1.5.0",
            "_model_name": "FloatProgressModel",
            "_view_count": null,
            "_view_module": "@jupyter-widgets/controls",
            "_view_module_version": "1.5.0",
            "_view_name": "ProgressView",
            "bar_style": "success",
            "description": "",
            "description_tooltip": null,
            "layout": "IPY_MODEL_2b487296054e473e9d1265f029854f4b",
            "max": 300,
            "min": 0,
            "orientation": "horizontal",
            "style": "IPY_MODEL_d9e7ee2693c14cdd8491f2d67258bc08",
            "value": 300
          }
        },
        "3960f840b4514b3482c6188276f19d22": {
          "model_module": "@jupyter-widgets/controls",
          "model_name": "HTMLModel",
          "model_module_version": "1.5.0",
          "state": {
            "_dom_classes": [],
            "_model_module": "@jupyter-widgets/controls",
            "_model_module_version": "1.5.0",
            "_model_name": "HTMLModel",
            "_view_count": null,
            "_view_module": "@jupyter-widgets/controls",
            "_view_module_version": "1.5.0",
            "_view_name": "HTMLView",
            "description": "",
            "description_tooltip": null,
            "layout": "IPY_MODEL_571190292ace4f1b94d910a304ca2ed3",
            "placeholder": "​",
            "style": "IPY_MODEL_7f312ee005db4bb5b1d3f71e5e976ae6",
            "value": " 300/300 [07:11&lt;00:00,  1.34s/it, Energy=-6.817+0.000j ± 0.011 [σ²=0.483, R̂=1.0021]]"
          }
        },
        "dc024c92fad9405baad601be25872ef1": {
          "model_module": "@jupyter-widgets/base",
          "model_name": "LayoutModel",
          "model_module_version": "1.2.0",
          "state": {
            "_model_module": "@jupyter-widgets/base",
            "_model_module_version": "1.2.0",
            "_model_name": "LayoutModel",
            "_view_count": null,
            "_view_module": "@jupyter-widgets/base",
            "_view_module_version": "1.2.0",
            "_view_name": "LayoutView",
            "align_content": null,
            "align_items": null,
            "align_self": null,
            "border": null,
            "bottom": null,
            "display": "inline-flex",
            "flex": null,
            "flex_flow": "row wrap",
            "grid_area": null,
            "grid_auto_columns": null,
            "grid_auto_flow": null,
            "grid_auto_rows": null,
            "grid_column": null,
            "grid_gap": null,
            "grid_row": null,
            "grid_template_areas": null,
            "grid_template_columns": null,
            "grid_template_rows": null,
            "height": null,
            "justify_content": null,
            "justify_items": null,
            "left": null,
            "margin": null,
            "max_height": null,
            "max_width": null,
            "min_height": null,
            "min_width": null,
            "object_fit": null,
            "object_position": null,
            "order": null,
            "overflow": null,
            "overflow_x": null,
            "overflow_y": null,
            "padding": null,
            "right": null,
            "top": null,
            "visibility": null,
            "width": "100%"
          }
        },
        "5464797f952b4fbcb7504a6ca75ea625": {
          "model_module": "@jupyter-widgets/base",
          "model_name": "LayoutModel",
          "model_module_version": "1.2.0",
          "state": {
            "_model_module": "@jupyter-widgets/base",
            "_model_module_version": "1.2.0",
            "_model_name": "LayoutModel",
            "_view_count": null,
            "_view_module": "@jupyter-widgets/base",
            "_view_module_version": "1.2.0",
            "_view_name": "LayoutView",
            "align_content": null,
            "align_items": null,
            "align_self": null,
            "border": null,
            "bottom": null,
            "display": null,
            "flex": null,
            "flex_flow": null,
            "grid_area": null,
            "grid_auto_columns": null,
            "grid_auto_flow": null,
            "grid_auto_rows": null,
            "grid_column": null,
            "grid_gap": null,
            "grid_row": null,
            "grid_template_areas": null,
            "grid_template_columns": null,
            "grid_template_rows": null,
            "height": null,
            "justify_content": null,
            "justify_items": null,
            "left": null,
            "margin": null,
            "max_height": null,
            "max_width": null,
            "min_height": null,
            "min_width": null,
            "object_fit": null,
            "object_position": null,
            "order": null,
            "overflow": null,
            "overflow_x": null,
            "overflow_y": null,
            "padding": null,
            "right": null,
            "top": null,
            "visibility": null,
            "width": null
          }
        },
        "98c2e36d3e144c8994c3e9295b881e42": {
          "model_module": "@jupyter-widgets/controls",
          "model_name": "DescriptionStyleModel",
          "model_module_version": "1.5.0",
          "state": {
            "_model_module": "@jupyter-widgets/controls",
            "_model_module_version": "1.5.0",
            "_model_name": "DescriptionStyleModel",
            "_view_count": null,
            "_view_module": "@jupyter-widgets/base",
            "_view_module_version": "1.2.0",
            "_view_name": "StyleView",
            "description_width": ""
          }
        },
        "2b487296054e473e9d1265f029854f4b": {
          "model_module": "@jupyter-widgets/base",
          "model_name": "LayoutModel",
          "model_module_version": "1.2.0",
          "state": {
            "_model_module": "@jupyter-widgets/base",
            "_model_module_version": "1.2.0",
            "_model_name": "LayoutModel",
            "_view_count": null,
            "_view_module": "@jupyter-widgets/base",
            "_view_module_version": "1.2.0",
            "_view_name": "LayoutView",
            "align_content": null,
            "align_items": null,
            "align_self": null,
            "border": null,
            "bottom": null,
            "display": null,
            "flex": "2",
            "flex_flow": null,
            "grid_area": null,
            "grid_auto_columns": null,
            "grid_auto_flow": null,
            "grid_auto_rows": null,
            "grid_column": null,
            "grid_gap": null,
            "grid_row": null,
            "grid_template_areas": null,
            "grid_template_columns": null,
            "grid_template_rows": null,
            "height": null,
            "justify_content": null,
            "justify_items": null,
            "left": null,
            "margin": null,
            "max_height": null,
            "max_width": null,
            "min_height": null,
            "min_width": null,
            "object_fit": null,
            "object_position": null,
            "order": null,
            "overflow": null,
            "overflow_x": null,
            "overflow_y": null,
            "padding": null,
            "right": null,
            "top": null,
            "visibility": null,
            "width": null
          }
        },
        "d9e7ee2693c14cdd8491f2d67258bc08": {
          "model_module": "@jupyter-widgets/controls",
          "model_name": "ProgressStyleModel",
          "model_module_version": "1.5.0",
          "state": {
            "_model_module": "@jupyter-widgets/controls",
            "_model_module_version": "1.5.0",
            "_model_name": "ProgressStyleModel",
            "_view_count": null,
            "_view_module": "@jupyter-widgets/base",
            "_view_module_version": "1.2.0",
            "_view_name": "StyleView",
            "bar_color": null,
            "description_width": ""
          }
        },
        "571190292ace4f1b94d910a304ca2ed3": {
          "model_module": "@jupyter-widgets/base",
          "model_name": "LayoutModel",
          "model_module_version": "1.2.0",
          "state": {
            "_model_module": "@jupyter-widgets/base",
            "_model_module_version": "1.2.0",
            "_model_name": "LayoutModel",
            "_view_count": null,
            "_view_module": "@jupyter-widgets/base",
            "_view_module_version": "1.2.0",
            "_view_name": "LayoutView",
            "align_content": null,
            "align_items": null,
            "align_self": null,
            "border": null,
            "bottom": null,
            "display": null,
            "flex": null,
            "flex_flow": null,
            "grid_area": null,
            "grid_auto_columns": null,
            "grid_auto_flow": null,
            "grid_auto_rows": null,
            "grid_column": null,
            "grid_gap": null,
            "grid_row": null,
            "grid_template_areas": null,
            "grid_template_columns": null,
            "grid_template_rows": null,
            "height": null,
            "justify_content": null,
            "justify_items": null,
            "left": null,
            "margin": null,
            "max_height": null,
            "max_width": null,
            "min_height": null,
            "min_width": null,
            "object_fit": null,
            "object_position": null,
            "order": null,
            "overflow": null,
            "overflow_x": null,
            "overflow_y": null,
            "padding": null,
            "right": null,
            "top": null,
            "visibility": null,
            "width": null
          }
        },
        "7f312ee005db4bb5b1d3f71e5e976ae6": {
          "model_module": "@jupyter-widgets/controls",
          "model_name": "DescriptionStyleModel",
          "model_module_version": "1.5.0",
          "state": {
            "_model_module": "@jupyter-widgets/controls",
            "_model_module_version": "1.5.0",
            "_model_name": "DescriptionStyleModel",
            "_view_count": null,
            "_view_module": "@jupyter-widgets/base",
            "_view_module_version": "1.2.0",
            "_view_name": "StyleView",
            "description_width": ""
          }
        }
      }
    }
  },
  "cells": [
    {
      "cell_type": "markdown",
      "metadata": {
        "id": "view-in-github",
        "colab_type": "text"
      },
      "source": [
        "<a href=\"https://colab.research.google.com/github/sudipta-on/Quantum-Many-Body-Problem-using-Netket/blob/main/Lattice_Fermion.ipynb\" target=\"_parent\"><img src=\"https://colab.research.google.com/assets/colab-badge.svg\" alt=\"Open In Colab\"/></a>"
      ]
    },
    {
      "cell_type": "markdown",
      "source": [
        "# $$\\textbf{Fermionic Quantum Many-Body System using NetKet}$$\n",
        "$\\qquad \\qquad \\qquad\\qquad\\qquad\\qquad\\qquad\\qquad\\qquad\\qquad\\qquad\\qquad\\qquad\\qquad\\qquad \\text{ - Sudipta Majumder}$\n",
        "\n",
        "$17 $ $\\text{July},2024$"
      ],
      "metadata": {
        "id": "VOGgOASsRxN8"
      }
    },
    {
      "cell_type": "markdown",
      "source": [
        "We will start by introducing fermionic operators and how to work with them in NetKet. We will then proceed to implement and optimize three different wave functions:\n",
        "- a Slater determinant wave function,\n",
        "- a Neural Jastrow-Slater state, and\n",
        "- a Slater Backflow neural wave function."
      ],
      "metadata": {
        "id": "VUk0jnvkSj6J"
      }
    },
    {
      "cell_type": "markdown",
      "source": [
        "## 0. Installing and Importing NetKet"
      ],
      "metadata": {
        "id": "f91RPpokF_cZ"
      }
    },
    {
      "cell_type": "code",
      "source": [
        "!pip install netket --quiet"
      ],
      "metadata": {
        "id": "Yv4xU17DTcOX",
        "colab": {
          "base_uri": "https://localhost:8080/"
        },
        "outputId": "d26aae20-8bad-49b1-a2aa-a22fe5224ec8"
      },
      "execution_count": 1,
      "outputs": [
        {
          "output_type": "stream",
          "name": "stdout",
          "text": [
            "\u001b[2K     \u001b[90m━━━━━━━━━━━━━━━━━━━━━━━━━━━━━━━━━━━━━━━━\u001b[0m \u001b[32m649.4/649.4 kB\u001b[0m \u001b[31m6.4 MB/s\u001b[0m eta \u001b[36m0:00:00\u001b[0m\n",
            "\u001b[2K     \u001b[90m━━━━━━━━━━━━━━━━━━━━━━━━━━━━━━━━━━━━━━━━\u001b[0m \u001b[32m175.2/175.2 kB\u001b[0m \u001b[31m5.5 MB/s\u001b[0m eta \u001b[36m0:00:00\u001b[0m\n",
            "\u001b[2K     \u001b[90m━━━━━━━━━━━━━━━━━━━━━━━━━━━━━━━━━━━━━━━━\u001b[0m \u001b[32m3.1/3.1 MB\u001b[0m \u001b[31m23.3 MB/s\u001b[0m eta \u001b[36m0:00:00\u001b[0m\n",
            "\u001b[2K     \u001b[90m━━━━━━━━━━━━━━━━━━━━━━━━━━━━━━━━━━━━━━━━\u001b[0m \u001b[32m141.1/141.1 kB\u001b[0m \u001b[31m8.9 MB/s\u001b[0m eta \u001b[36m0:00:00\u001b[0m\n",
            "\u001b[2K     \u001b[90m━━━━━━━━━━━━━━━━━━━━━━━━━━━━━━━━━━━━━━━━\u001b[0m \u001b[32m42.3/42.3 kB\u001b[0m \u001b[31m1.1 MB/s\u001b[0m eta \u001b[36m0:00:00\u001b[0m\n",
            "\u001b[2K     \u001b[90m━━━━━━━━━━━━━━━━━━━━━━━━━━━━━━━━━━━━━━━━\u001b[0m \u001b[32m42.4/42.4 kB\u001b[0m \u001b[31m1.9 MB/s\u001b[0m eta \u001b[36m0:00:00\u001b[0m\n",
            "\u001b[2K     \u001b[90m━━━━━━━━━━━━━━━━━━━━━━━━━━━━━━━━━━━━━━━━\u001b[0m \u001b[32m917.8/917.8 kB\u001b[0m \u001b[31m17.6 MB/s\u001b[0m eta \u001b[36m0:00:00\u001b[0m\n",
            "\u001b[?25h"
          ]
        }
      ]
    },
    {
      "cell_type": "code",
      "source": [
        "import netket as nk\n",
        "import netket.experimental as nkx"
      ],
      "metadata": {
        "id": "hmhPeOQiTTtG"
      },
      "execution_count": 2,
      "outputs": []
    },
    {
      "cell_type": "markdown",
      "source": [
        "Fermionic operators are fundamental to describing quantum systems with fermions (e.g., electrons). NetKet provides tools to work with these operators efficiently.\n",
        "We will work with a Hamiltonian of spinless fermions on a two-dimensional lattice:\n",
        "\n",
        "$$\n",
        "\\mathcal{H} = -t \\sum_{\\langle i,j \\rangle } \\left( c^{\\dagger}_i c_j + c^{\\dagger}_j c_i \\right ) + V \\sum_{\\langle i,j \\rangle } n_i n_j\n",
        "$$\n",
        "Here, $\\langle i,j \\rangle $ denotes nearest-neighbors on a square lattice of $N=L\\times L$ sites, $c_i (c^{\\dagger}_i)$ are destruction (creation) fermionic operators on site $i$, whereas $n_i=c^{\\dagger}_i c_i$ are density operators.\n",
        "\n",
        "## 1. Defining the lattice and the Hilbert space:"
      ],
      "metadata": {
        "id": "0OFv2_EiTVym"
      }
    },
    {
      "cell_type": "code",
      "source": [
        "L = 4  # Side of the square\n",
        "graph = nk.graph.Square(L)\n",
        "N = graph.n_nodes"
      ],
      "metadata": {
        "id": "Ny8gfmv9T6g4"
      },
      "execution_count": 3,
      "outputs": []
    },
    {
      "cell_type": "code",
      "source": [
        "print(f'Total number of sites on the lattice: {N}')"
      ],
      "metadata": {
        "colab": {
          "base_uri": "https://localhost:8080/"
        },
        "id": "Mmyqjd_PUV7w",
        "outputId": "2013c203-e564-4258-853c-4d2dce20a595"
      },
      "execution_count": 4,
      "outputs": [
        {
          "output_type": "stream",
          "name": "stdout",
          "text": [
            "Total number of sites on the lattice: 16\n"
          ]
        }
      ]
    },
    {
      "cell_type": "markdown",
      "source": [
        "We now define also the Hilbert space associated with a system of $N_f$ spinless fermions:"
      ],
      "metadata": {
        "id": "DPQVrpDtU1r6"
      }
    },
    {
      "cell_type": "code",
      "source": [
        "N_f = 5\n",
        "\n",
        "hi = nkx.hilbert.SpinOrbitalFermions(N, s=None, n_fermions=N_f)"
      ],
      "metadata": {
        "id": "otL6e-eaUhiB"
      },
      "execution_count": 5,
      "outputs": []
    },
    {
      "cell_type": "markdown",
      "source": [
        "To describe the Hamiltonian of our quantum system, we need to work with the fermionic operators associated with the Hilbert space defined above. These operators include creation (cdag), annihilation (c), and number (nc) operators. We will use these operators to build our Hamiltonian."
      ],
      "metadata": {
        "id": "kRUNcuIOV3l-"
      }
    },
    {
      "cell_type": "code",
      "source": [
        "from netket.experimental.operator.fermion import destroy as c\n",
        "from netket.experimental.operator.fermion import create as cdag\n",
        "from netket.experimental.operator.fermion import number as nc"
      ],
      "metadata": {
        "id": "sotYCrNEV6OL"
      },
      "execution_count": 6,
      "outputs": []
    },
    {
      "cell_type": "markdown",
      "source": [
        "With these operators, we can now construct the Hamiltonian for our system. In this example, we have a tight-binding hopping term proportional to $t$ and a density-density interaction term proportional to $V$. We can easily define the Hamiltonian by adding terms one by one looping over the edges of the lattice:\n"
      ],
      "metadata": {
        "id": "EfEBjkO1W4y4"
      }
    },
    {
      "cell_type": "code",
      "source": [
        "t = 1.0\n",
        "V = 4.0\n",
        "\n",
        "H = 0.0\n",
        "for (i, j) in graph.edges():\n",
        "    H -= t * (cdag(hi,i) * c(hi,j) + cdag(hi,j) * c(hi,i))  # look on the order of cdag and c\n",
        "    H += V * nc(hi,i) * nc(hi,j)"
      ],
      "metadata": {
        "id": "aMYxI3MAWxpL"
      },
      "execution_count": 7,
      "outputs": []
    },
    {
      "cell_type": "markdown",
      "source": [
        "## 2. Exact Diagonalization or Configuration Interaction method\n",
        "\n",
        "Since the system is relatively small, the Hilbert space is also not too big, and we can still use exact diagonalization to compute the ground state energy. This is achieved by first converting the Hamiltonian to a sparse matrix, and then diagonalizing it with scipy:"
      ],
      "metadata": {
        "id": "ZgaMQmCOXhyq"
      }
    },
    {
      "cell_type": "code",
      "source": [
        "# Convert the Hamiltonian to a Sparse matrix\n",
        "sp_h = H.to_sparse()"
      ],
      "metadata": {
        "id": "E0fcOBBXYDbx"
      },
      "execution_count": 8,
      "outputs": []
    },
    {
      "cell_type": "code",
      "source": [
        "from scipy.sparse.linalg import eigsh\n",
        "\n",
        "eig_vals, eig_vecs = eigsh(sp_h, k = 2, which = 'SA')\n",
        "\n",
        "E_gs = eig_vals[0]\n",
        "\n",
        "print(f'Exact ground state energy: {E_gs}')"
      ],
      "metadata": {
        "colab": {
          "base_uri": "https://localhost:8080/"
        },
        "id": "e2mCHd3_YTfl",
        "outputId": "eec4942d-6b4a-4659-b77b-de214b7547bb"
      },
      "execution_count": 9,
      "outputs": [
        {
          "output_type": "stream",
          "name": "stdout",
          "text": [
            "Exact ground state energy: -6.859013554319576\n"
          ]
        }
      ]
    },
    {
      "cell_type": "markdown",
      "source": [
        "## 4. Slater Determinant\n",
        "\n",
        "Now, let's move on to defining and optimizing a simple variational wave function based on a mean-field state: the Slater determinant.\n",
        "\n",
        "Formally, we can write the state as filling up $N_{\\mathrm{f}}$ orbitals:\n",
        "\n",
        "$$\n",
        "|\\Phi_s\\rangle = \\Pi_{\\alpha=1}^{N_{\\mathrm{f}}} \\phi^{\\dagger}_{\\alpha} |0\\rangle,\n",
        "$$\n",
        "\n",
        "where $|0\\rangle$ is the vacuum state and the single-particle orbitals are created by the operators $\\phi^{\\dagger}_{\\alpha}$. In turn, these creation operators are, in general, a linear combination of the original creation operators:\n",
        "\n",
        "$$\n",
        "\\phi^{\\dagger}_{\\alpha} = \\sum_i M_{\\alpha, i} c^{\\dagger}_i.\n",
        "$$\n",
        "\n",
        "The rectangular ($N\\times N_{\\mathrm{f}}$) matrix $M$ constitutes a set of free variational parameters (Where $N$ is the number of orbitals and $N_{\\mathrm{f}}$ the number of fermions).\n",
        "\n",
        "It can be shown that the amplitudes of the wave function in the computational basis $|n_1,\\dots,n_N\\rangle$ are determinants:\n",
        "\n",
        "$$\n",
        "\\langle n_1,\\dots,n_N |\\Phi_s\\rangle = \\mathrm{det}\\left\\{A(\\bf{n})\\right\\},\n",
        "$$\n",
        "\n",
        "where the $N_{\\mathrm{f}}\\times N_{\\mathrm{f}}$ matrix is\n",
        "\n",
        "$$\n",
        "A(n)_{\\alpha,\\beta} = M_{R_{\\alpha}(\\bf{n}), \\beta},\n",
        "$$\n",
        "\n",
        "where $R_{\\alpha}(\\bf{n})$ denotes the index of the $\\alpha$-th occupied site (non-zero $n_i$) in $\\bf{n}=(n_1,\\dots,n_N)$.\n",
        "This can also be interepted as selecting $N_\\mathrm{f}$ rows of the matrix $M$ in corresponding to the $N_\\mathrm{f}$ occupied orbitals.\n"
      ],
      "metadata": {
        "id": "yTFI7TNiYvIW"
      }
    },
    {
      "cell_type": "markdown",
      "source": [
        "To write down this variational amplitudes, we start by defining a convenience function to compute the logarithm of the determinant of a matrix, in the complex domain, and using jax:"
      ],
      "metadata": {
        "id": "Wtsb4LT1YpVF"
      }
    },
    {
      "cell_type": "code",
      "source": [
        "import jax\n",
        "import jax.numpy as jnp\n",
        "\n",
        "def _logdet_cmplx(A):\n",
        "    '''We can also call this function from the netket module as `nk.jax.logdet_cmplx`. '''\n",
        "    sign, logabsdet = jnp.linalg.slogdet(A)\n",
        "    return logabsdet.astype(complex) + jnp.log(sign.astype(complex))"
      ],
      "metadata": {
        "id": "IzfqYhQWZCSY"
      },
      "execution_count": 10,
      "outputs": []
    },
    {
      "cell_type": "code",
      "source": [
        "import flax.linen as nn\n",
        "from netket.utils.types import NNInitFunc\n",
        "from netket.nn.masked_linear import default_kernel_init\n",
        "from typing import Any, Callable, Sequence\n",
        "from functools import partial\n",
        "DType = Any\n",
        "\n",
        "\n",
        "class LogSlaterDeterminant(nn.Module):\n",
        "    hilbert: nkx.hilbert.SpinOrbitalFermions\n",
        "    kernel_init: NNInitFunc = default_kernel_init\n",
        "    param_dtype: DType = float\n",
        "\n",
        "    @nn.compact\n",
        "    def __call__(self, n):\n",
        "        # the N x Nf matrix of the orbitals\n",
        "        M = self.param('M', self.kernel_init, (self.hilbert.n_orbitals, self.hilbert.n_fermions,), self.param_dtype)\n",
        "\n",
        "        @partial(jnp.vectorize, signature='(n)->()')\n",
        "        def log_sd(n):\n",
        "            #Find the positions of the occupied orbitals\n",
        "            R = n.nonzero(size=self.hilbert.n_fermions)[0]\n",
        "\n",
        "            # Extract the Nf x Nf submatrix of M corresponding to the occupied orbitals\n",
        "            A = M[R]\n",
        "\n",
        "            return _logdet_cmplx(A)\n",
        "\n",
        "        return log_sd(n)"
      ],
      "metadata": {
        "id": "_3IZM1P-Zplx"
      },
      "execution_count": 11,
      "outputs": []
    },
    {
      "cell_type": "markdown",
      "source": [
        "This Flax module defines the variational parameters to be the rectangular matrix $M$. In general, these parameters can be real or complex valued. In the following we will work with real parameters, for simplicity."
      ],
      "metadata": {
        "id": "lJaSo7LWcIFW"
      }
    },
    {
      "cell_type": "markdown",
      "source": [
        "## 3. Optimizing the Slater Determinant Wave Function\n",
        "\n",
        "We now create an instance of the `LogSlaterDeterminant` class and of a suitable Monte Carlo Sampler to obtain expected values using Variational Monte Carlo:"
      ],
      "metadata": {
        "id": "CS0aKZ7dsbNC"
      }
    },
    {
      "cell_type": "code",
      "source": [
        "# Create the Slater determinant model\n",
        "model = LogSlaterDeterminant(hi)\n",
        "\n",
        "# Define the Metropolis-Hastings sampler\n",
        "sa = nk.sampler.MetropolisExchange(hi, graph=graph)"
      ],
      "metadata": {
        "id": "g6yFmVKzso8m"
      },
      "execution_count": 12,
      "outputs": []
    },
    {
      "cell_type": "markdown",
      "source": [
        "We also define the `VariationalState` necessary to compute expected values over the variational state using Monte Carlo sampling. We will use a total of 16 independent Markov Chains and $2^{12}$ samples per chain. We will also discard the first 16 samples of each chain, to allow thermalization:"
      ],
      "metadata": {
        "id": "h2n11fKhsyCu"
      }
    },
    {
      "cell_type": "code",
      "source": [
        "vstate = nk.vqs.MCState(sampler=sa, model=model, n_samples = 2**12, n_discard_per_chain=16)"
      ],
      "metadata": {
        "id": "72IW8QxitINf"
      },
      "execution_count": 13,
      "outputs": []
    },
    {
      "cell_type": "code",
      "source": [
        "vstate.samples.shape"
      ],
      "metadata": {
        "colab": {
          "base_uri": "https://localhost:8080/"
        },
        "id": "cpImOjOGtfFh",
        "outputId": "9c200506-b297-40af-fa04-5363440a06d0"
      },
      "execution_count": 14,
      "outputs": [
        {
          "output_type": "execute_result",
          "data": {
            "text/plain": [
              "(16, 256, 16)"
            ]
          },
          "metadata": {},
          "execution_count": 14
        }
      ]
    },
    {
      "cell_type": "code",
      "source": [
        "vstate.samples[0,0]"
      ],
      "metadata": {
        "colab": {
          "base_uri": "https://localhost:8080/"
        },
        "id": "kQVLOp414d8N",
        "outputId": "a037dbdd-0f34-4389-aff3-1f3db4254134"
      },
      "execution_count": 15,
      "outputs": [
        {
          "output_type": "execute_result",
          "data": {
            "text/plain": [
              "Array([0., 0., 0., 0., 1., 1., 0., 0., 1., 0., 0., 1., 1., 0., 0., 0.],      dtype=float64)"
            ]
          },
          "metadata": {},
          "execution_count": 15
        }
      ]
    },
    {
      "cell_type": "code",
      "source": [
        "# Define the optimizer\n",
        "op = nk.optimizer.Sgd(learning_rate=0.05)\n",
        "\n",
        "# Define a preconditioner\n",
        "preconditioner = nk.optimizer.SR(diag_shift=0.05)\n",
        "\n",
        "# Create the VMC (Variational Monte Carlo) driver\n",
        "gs = nk.VMC(H, op, variational_state=vstate, preconditioner=preconditioner)"
      ],
      "metadata": {
        "id": "Mb3Cd9bg4kF_"
      },
      "execution_count": 16,
      "outputs": []
    },
    {
      "cell_type": "code",
      "source": [
        "# Construct the logger to visualize the data later on\n",
        "slater_log=nk.logging.RuntimeLog()\n",
        "\n",
        "# Run the optimization for 300 iterations\n",
        "gs.run(n_iter=300, out=slater_log)"
      ],
      "metadata": {
        "colab": {
          "base_uri": "https://localhost:8080/",
          "height": 84,
          "referenced_widgets": [
            "ac4d387e2bc2425aab45e2a24306dc68",
            "c3adf3e70827478a9e30ffd625f586e7",
            "777b3149d9284612b4ddddc914002ea9",
            "054396f186f54efc8b7f0b52b458315e",
            "330a299b3e104df58d1b0ddd768d5347",
            "ca5a5788f8264954839870bb76435917",
            "801deefa091d496aa7193477d648c3d8",
            "15c0377e24ab4d66b760fe691acf5cac",
            "beb017a6b47a486bbe410307d060f4a0",
            "0ca27d97cc7e46eebc16b89ff8845c88",
            "feaed39e680b49f5aaf004c15725853c"
          ]
        },
        "id": "i8feP9ml5f2u",
        "outputId": "8167e95b-5612-4683-e946-3d1c89b74c39"
      },
      "execution_count": 17,
      "outputs": [
        {
          "output_type": "display_data",
          "data": {
            "text/plain": [
              "  0%|          | 0/300 [00:00<?, ?it/s]"
            ],
            "application/vnd.jupyter.widget-view+json": {
              "version_major": 2,
              "version_minor": 0,
              "model_id": "ac4d387e2bc2425aab45e2a24306dc68"
            }
          },
          "metadata": {}
        },
        {
          "output_type": "execute_result",
          "data": {
            "text/plain": [
              "(RuntimeLog():\n",
              "  keys = ['acceptance', 'Energy'],)"
            ]
          },
          "metadata": {},
          "execution_count": 17
        }
      ]
    },
    {
      "cell_type": "code",
      "source": [
        "sd_energy = vstate.expect(H)\n",
        "error = abs((sd_energy.mean - E_gs) / E_gs)\n",
        "\n",
        "print(f\"Optimized energy : {sd_energy}\")\n",
        "print(f\"Relative error   : {error}\")"
      ],
      "metadata": {
        "colab": {
          "base_uri": "https://localhost:8080/"
        },
        "id": "vIGkryH_5_Sq",
        "outputId": "e00c7375-5e97-4d38-f436-b59e4069271a"
      },
      "execution_count": 18,
      "outputs": [
        {
          "output_type": "stream",
          "name": "stdout",
          "text": [
            "Optimized energy : -5.057-0.000j ± 0.034 [σ²=4.590, R̂=1.0016]\n",
            "Relative error   : 0.2627048754132336\n"
          ]
        }
      ]
    },
    {
      "cell_type": "markdown",
      "source": [
        "The mean field energy of the Slater Determinant is about 25% off in this case where interactions are strong, thus far from the single-particle regime in which the Slater Determinant is accurate."
      ],
      "metadata": {
        "id": "M78nqXEl5xwZ"
      }
    },
    {
      "cell_type": "markdown",
      "source": [
        "## 4. Neural Jastrow-Slater Wave Function\n",
        "\n",
        "To improve on the simple mean field wave function considered above, we can construct a variational state that is the product of a Slater determinant times a many-body neural Jastrow factor :\n",
        "\n",
        "$$\n",
        "\\langle n_1,\\dots,n_N |\\Phi_s\\rangle \\times \\exp(J(\\bf{n})),\n",
        "$$\n",
        "\n",
        "where $J(\\bf{n})$ is parameterized via a suitable neural network taking as inputs the occupation numbers $\\bf{n}=(n_1,\\dots,n_N)$ and returning a scalar. See also References [2] and [3], for example choices of the neural network part.\n",
        "\n",
        "In the following, we will parameterize the neural Jastrow with a simple two-layer feedforward network consisting of real parameters only. This means that the neural Jastrow will not be able to change the overall sign of the wave function, but it will nonetheless be able to capture strong correlations by modifying the absolute value of the wave function amplitudes.\n",
        "\n",
        "We define the corresponding variational wave function in the following Flax class:"
      ],
      "metadata": {
        "id": "NF4oOeTkY2Ii"
      }
    },
    {
      "cell_type": "code",
      "source": [
        "class LogNeuralJastrowSlater(nn.Module):\n",
        "    hilbert: nkx.hilbert.SpinOrbitalFermions\n",
        "    hidden_units: int\n",
        "    kernel_init: NNInitFunc = default_kernel_init\n",
        "    param_dtype: DType = float\n",
        "\n",
        "    @nn.compact\n",
        "    def __call__(self, n):\n",
        "\n",
        "        @partial(jnp.vectorize, signature='(n)->()')\n",
        "        def log_wf(n):\n",
        "            #Bare Slater Determinant (N x Nf matrix of the orbital amplitudes)\n",
        "            M = self.param('M', self.kernel_init, (self.hilbert.n_orbitals, self.hilbert.n_fermions,), self.param_dtype)\n",
        "\n",
        "            #Construct the Neural Jastrow\n",
        "            J = nn.Dense(self.hidden_units, param_dtype=self.param_dtype)(n)\n",
        "            J = jax.nn.tanh(J)\n",
        "            J = J.sum()\n",
        "\n",
        "            # Find the positions of the occupied orbitals\n",
        "            R = n.nonzero(size=self.hilbert.n_fermions)[0]\n",
        "            # Select the N rows of M corresponding to the occupied orbitals, obtaining the Nf x Nf slater matrix\n",
        "            A = M[R]\n",
        "            # compute the (log) determinant and add the Jastrow\n",
        "            # (when exponentiating this becomes a product of the slater and jastrow terms)\n",
        "            return _logdet_cmplx(A)+J\n",
        "\n",
        "        return log_wf(n)"
      ],
      "metadata": {
        "id": "HIg5r33656hq"
      },
      "execution_count": 19,
      "outputs": []
    },
    {
      "cell_type": "code",
      "source": [
        "# Create a Neural Jastrow Slater wave function\n",
        "model = LogNeuralJastrowSlater(hi, hidden_units=N)\n",
        "\n",
        "# Define a Metropolis exchange sampler\n",
        "sa = nk.sampler.MetropolisExchange(hi, graph=graph)\n",
        "\n",
        "# Define an optimizer\n",
        "op = nk.optimizer.Sgd(learning_rate=0.05)\n",
        "\n",
        "# Create a variational state\n",
        "vstate = nk.vqs.MCState(sa, model, n_samples=2**12, n_discard_per_chain=16)\n",
        "\n",
        "# Create a Variational Monte Carlo driver\n",
        "preconditioner = nk.optimizer.SR(diag_shift=0.05)\n",
        "gs = nk.VMC(H, op, variational_state=vstate, preconditioner=preconditioner)\n",
        "\n",
        "# Construct the logger to visualize the data later on\n",
        "nj_log=nk.logging.RuntimeLog()\n",
        "\n",
        "# Run the optimization for 300 iterations\n",
        "gs.run(n_iter=300, out=nj_log)"
      ],
      "metadata": {
        "colab": {
          "base_uri": "https://localhost:8080/",
          "height": 84,
          "referenced_widgets": [
            "fa99c0dc63bf4ddc952d9c39c8527420",
            "67158cce679f443d87c197d396d1b6d4",
            "d894c7cfb49c4b2d9b52c636b18a9b7c",
            "e68efc64197e49aca1fd3b8ab079e57c",
            "4377af812bdd42c6be29fe911c4aad9d",
            "5e13198f695a417d8ae7f722ce1842bc",
            "c8cedab99ff440f79ea46bc3df7b1196",
            "d31457c2f8ec45e495f370a066f4de56",
            "91fe69efd72c437ab68c307c6c9ca8dd",
            "04731d8a8fb947e79bf59cc698502ac5",
            "1ff435eb04c2441084736e0b95aa1a2c"
          ]
        },
        "id": "r1KgY0-o5-Kx",
        "outputId": "015325a3-95e6-4fdd-b7ec-e2683d8ed7ba"
      },
      "execution_count": 20,
      "outputs": [
        {
          "output_type": "display_data",
          "data": {
            "text/plain": [
              "  0%|          | 0/300 [00:00<?, ?it/s]"
            ],
            "application/vnd.jupyter.widget-view+json": {
              "version_major": 2,
              "version_minor": 0,
              "model_id": "fa99c0dc63bf4ddc952d9c39c8527420"
            }
          },
          "metadata": {}
        },
        {
          "output_type": "execute_result",
          "data": {
            "text/plain": [
              "(RuntimeLog():\n",
              "  keys = ['acceptance', 'Energy'],)"
            ]
          },
          "metadata": {},
          "execution_count": 20
        }
      ]
    },
    {
      "cell_type": "code",
      "source": [
        "sd_energy = vstate.expect(H)\n",
        "error = abs((sd_energy.mean - E_gs) / E_gs)\n",
        "\n",
        "print(f\"Optimized energy : {sd_energy}\")\n",
        "print(f\"Relative error   : {error}\")"
      ],
      "metadata": {
        "colab": {
          "base_uri": "https://localhost:8080/"
        },
        "id": "U7zNQW2Y6FoZ",
        "outputId": "aa479faa-0592-4975-9d6d-3130d6ecc40a"
      },
      "execution_count": 21,
      "outputs": [
        {
          "output_type": "stream",
          "name": "stdout",
          "text": [
            "Optimized energy : -6.810+0.000j ± 0.010 [σ²=0.451, R̂=0.9995]\n",
            "Relative error   : 0.007181814039016622\n"
          ]
        }
      ]
    },
    {
      "cell_type": "markdown",
      "source": [
        "## 5. Neural-Backflow Wave Function\n",
        "\n",
        "An alternative approach to go beyond the simple mean field approximation, and also effectively change the nodal structure of the wave functions is given by the Neural Backflow transformation of Reference [4].  \n",
        "The idea is to promote the matrix $M$ appearing in the Slater determinant to be a function of all the occupation numbers, through a neural network. Specifically, we take an additive form of the backflow transformation:\n",
        "\n",
        "$$\n",
        "M^{\\mathrm{bf}}_{\\alpha,i}(\\bf{n}) = M_{\\alpha, i} + F_{\\alpha,i}(\\bf{n})\n",
        "$$\n",
        "\n",
        "and parameterize $F$ with a multilayer perceptron taking $N$ inputs and having an output of $N\\times N_{\\mathrm{f}}$ numbers."
      ],
      "metadata": {
        "id": "3HoAEx-r6Ie8"
      }
    },
    {
      "cell_type": "code",
      "source": [
        "class LogNeuralBackflow(nn.Module):\n",
        "    hilbert: nkx.hilbert.SpinOrbitalFermions\n",
        "    hidden_units: int\n",
        "    kernel_init: NNInitFunc = default_kernel_init\n",
        "    param_dtype: DType = float\n",
        "\n",
        "    @nn.compact\n",
        "    def __call__(self, n):\n",
        "\n",
        "        @partial(jnp.vectorize, signature='(n)->()')\n",
        "        def log_sd(n):\n",
        "            #Bare Slater Determinant (N x Nf matrix of the orbital amplitudes)\n",
        "            M = self.param('M', self.kernel_init, (self.hilbert.n_orbitals, self.hilbert.n_fermions,), self.param_dtype)\n",
        "\n",
        "            # Construct the Backflow. Takes as input strings of $N$ occupation numbers, outputs an $N x Nf$ matrix\n",
        "            # that modifies the bare orbitals.\n",
        "            F = nn.Dense(self.hidden_units, param_dtype=self.param_dtype)(n)\n",
        "            F = jax.nn.tanh(F)\n",
        "            # last layer, outputs N x Nf values\n",
        "            F = nn.Dense(self.hilbert.n_orbitals * self.hilbert.n_fermions, param_dtype=self.param_dtype)(F)\n",
        "            # reshape into M and add\n",
        "            M += F.reshape(M.shape)\n",
        "\n",
        "            #Find the positions of the occupied, backflow-modified orbitals\n",
        "            R = n.nonzero(size=self.hilbert.n_fermions)[0]\n",
        "            A = M[R]\n",
        "            return _logdet_cmplx(A)\n",
        "\n",
        "        return log_sd(n)"
      ],
      "metadata": {
        "id": "A6i9_cER6LEF"
      },
      "execution_count": 22,
      "outputs": []
    },
    {
      "cell_type": "code",
      "source": [
        "# Create a neural backflow wave function\n",
        "model = LogNeuralBackflow(hi, hidden_units=N)\n",
        "\n",
        "# Define a Metropolis exchange sampler\n",
        "sa = nk.sampler.MetropolisExchange(hi, graph=graph)\n",
        "\n",
        "# Define an optimizer\n",
        "op = nk.optimizer.Sgd(learning_rate=0.05)\n",
        "\n",
        "# Create a variational state\n",
        "vstate = nk.vqs.MCState(sa, model, n_samples=2**12, n_discard_per_chain=16)\n",
        "\n",
        "# Create a Variational Monte Carlo driver\n",
        "preconditioner = nk.optimizer.SR(diag_shift=0.05)\n",
        "gs = nk.VMC(H, op, variational_state=vstate, preconditioner=preconditioner)\n",
        "\n",
        "# Construct the logger to visualize the data later on\n",
        "bf_log=nk.logging.RuntimeLog()\n",
        "\n",
        "# Run the optimization for 300 iterations\n",
        "gs.run(n_iter=300, out=bf_log)"
      ],
      "metadata": {
        "colab": {
          "base_uri": "https://localhost:8080/",
          "height": 84,
          "referenced_widgets": [
            "563eb91ef72044bcb6832094b4676490",
            "4ac15bcfbe564d8db55700bdc54191f1",
            "09c85b627d1f40d7ae5974de78e7139c",
            "3960f840b4514b3482c6188276f19d22",
            "dc024c92fad9405baad601be25872ef1",
            "5464797f952b4fbcb7504a6ca75ea625",
            "98c2e36d3e144c8994c3e9295b881e42",
            "2b487296054e473e9d1265f029854f4b",
            "d9e7ee2693c14cdd8491f2d67258bc08",
            "571190292ace4f1b94d910a304ca2ed3",
            "7f312ee005db4bb5b1d3f71e5e976ae6"
          ]
        },
        "id": "kPWsWcfq6OCL",
        "outputId": "038e7e49-11c4-4aa3-d822-13e1a26ad26f"
      },
      "execution_count": 23,
      "outputs": [
        {
          "output_type": "display_data",
          "data": {
            "text/plain": [
              "  0%|          | 0/300 [00:00<?, ?it/s]"
            ],
            "application/vnd.jupyter.widget-view+json": {
              "version_major": 2,
              "version_minor": 0,
              "model_id": "563eb91ef72044bcb6832094b4676490"
            }
          },
          "metadata": {}
        },
        {
          "output_type": "execute_result",
          "data": {
            "text/plain": [
              "(RuntimeLog():\n",
              "  keys = ['acceptance', 'Energy'],)"
            ]
          },
          "metadata": {},
          "execution_count": 23
        }
      ]
    },
    {
      "cell_type": "code",
      "source": [
        "sd_energy = vstate.expect(H)\n",
        "error = abs((sd_energy.mean - E_gs) / E_gs)\n",
        "\n",
        "print(f\"Optimized energy : {sd_energy}\")\n",
        "print(f\"Relative error   : {error}\")"
      ],
      "metadata": {
        "colab": {
          "base_uri": "https://localhost:8080/"
        },
        "id": "WJmuJWmh6PuQ",
        "outputId": "a01c245f-a37a-4ad0-c265-f5868fdc5779"
      },
      "execution_count": 24,
      "outputs": [
        {
          "output_type": "stream",
          "name": "stdout",
          "text": [
            "Optimized energy : -6.823-0.000j ± 0.010 [σ²=0.444, R̂=1.0005]\n",
            "Relative error   : 0.005319287720871855\n"
          ]
        }
      ]
    },
    {
      "cell_type": "markdown",
      "source": [
        "Thus, as expected, the Neural Backflow achieves a significantly higher level of precision (~0.5%) versus the ~25% error of the mean field state. Notice that in this case the precision achieved is similar to the simpler Neural Jastrow-Slater wave function. However, the backflow result can be further improved by playing with the feedforward architecture defining the backflow, for example by increasing 'hidden_units' or by improving the optimization increasing the number of samples and/or the number of steps."
      ],
      "metadata": {
        "id": "RZJuxfmy6RSn"
      }
    },
    {
      "cell_type": "markdown",
      "source": [
        "## 6. Plotting all together\n",
        "\n",
        "Finally, we can visualize the results obtained with the three wave functions we have covered in this Tutorial, by using the data logged during the optimization. In order to visualize what happened during the optimization, we can use the data that has been stored by the logger. There are several available loggers in NetKet, in the previous runs we have just used a simple one that stores the intermediate results as values in a dictionary."
      ],
      "metadata": {
        "id": "OGpoXEAF6VSz"
      }
    },
    {
      "cell_type": "code",
      "source": [
        "data_slater = slater_log.data\n",
        "print(data_slater)"
      ],
      "metadata": {
        "colab": {
          "base_uri": "https://localhost:8080/"
        },
        "id": "p7KH8aod6XdX",
        "outputId": "e42363a3-0e0e-4900-cfe3-628d2bb255be"
      },
      "execution_count": 25,
      "outputs": [
        {
          "output_type": "stream",
          "name": "stdout",
          "text": [
            "{'acceptance': History(\n",
            "   keys  = ['value'], \n",
            "   iters = [0, 1, ... 298, 299] (300 steps),\n",
            "), 'Energy': History(\n",
            "   keys  = ['Mean', 'Variance', 'Sigma', 'R_hat', 'TauCorr'], \n",
            "   iters = [0, 1, ... 298, 299] (300 steps),\n",
            ")}\n"
          ]
        }
      ]
    },
    {
      "cell_type": "code",
      "source": [
        "logged_data = (slater_log.data,nj_log.data,bf_log.data)\n",
        "labels = (\"Slater\",\"Neural Jastrow\",\"Neural Backflow\")\n",
        "\n",
        "from matplotlib import pyplot as plt\n",
        "import matplotlib\n",
        "\n",
        "%matplotlib inline\n",
        "matplotlib.rc('font', family = 'Serif', size = 14)\n",
        "matplotlib.rc('xtick', labelsize = 10)\n",
        "matplotlib.rc('ytick', labelsize = 10)\n",
        "matplotlib.rcParams['figure.figsize'] = (10,6)\n",
        "\n",
        "for data,label in zip(logged_data,labels):\n",
        "    plt.errorbar(data[\"Energy\"].iters, data[\"Energy\"].Mean.real, yerr=data[\"Energy\"].Sigma,label=label)\n",
        "\n",
        "plt.hlines([E_gs], xmin=0, xmax=300, color='black', label=\"Exact\")\n",
        "\n",
        "plt.xlabel('Iterations')\n",
        "plt.ylabel('Energy')\n",
        "plt.legend()\n",
        "plt.grid()\n",
        "plt.show()"
      ],
      "metadata": {
        "colab": {
          "base_uri": "https://localhost:8080/",
          "height": 550
        },
        "id": "qiII2PtS6ZeZ",
        "outputId": "b4da7fe8-af38-49c2-bb98-d9d3b80f6145"
      },
      "execution_count": 26,
      "outputs": [
        {
          "output_type": "display_data",
          "data": {
            "text/plain": [
              "<Figure size 1000x600 with 1 Axes>"
            ],
            "image/png": "[encoded data removed]"
          },
          "metadata": {}
        }
      ]
    },
    {
      "cell_type": "code",
      "source": [],
      "metadata": {
        "id": "2jVRgezcByYh"
      },
      "execution_count": 26,
      "outputs": []
    }
  ]
}